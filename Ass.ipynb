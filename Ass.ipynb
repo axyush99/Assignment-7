{
 "cells": [
  {
   "cell_type": "code",
   "execution_count": 10,
   "id": "f3616ebe-2f99-49fe-942f-d30682cb2ed1",
   "metadata": {},
   "outputs": [
    {
     "name": "stdout",
     "output_type": "stream",
     "text": [
      "Name:Aayush, Subject:DSA\n"
     ]
    }
   ],
   "source": [
    "'''In Python, a constructor is a special method within a class that is automatically called when a new instance of \n",
    "the class is created. It is named __init__() and its purpose is to initialize the attributes of the object.'''\n",
    "class test:\n",
    "    #constructor\n",
    "    def __init__(self, name, subject):\n",
    "        self.name = name\n",
    "        self.subject = subject\n",
    "    \n",
    "t1= test(\"Aayush\", \"DSA\")\n",
    "print(f\"Name:{t1.name}, Subject:{t1.subject}\")\n"
   ]
  },
  {
   "cell_type": "code",
   "execution_count": 12,
   "id": "746a637d-3e71-4d88-9f7c-eff332ac529d",
   "metadata": {},
   "outputs": [
    {
     "name": "stdout",
     "output_type": "stream",
     "text": [
      "Name:Aayush, Subject:DSA\n"
     ]
    }
   ],
   "source": [
    "class MyClass:\n",
    "    def __init__(self):\n",
    "        # This is what might be termed as a \"parameterless constructor\"\n",
    "        # It doesn't accept any parameters explicitly, although it still has the mandatory 'self' parameter\n",
    "        pass\n",
    "\n",
    "\"\"\"Parameterized Constructor: This term refers to a constructor that \n",
    "accepts parameters to initialize the object's attributes.\"\"\"\n",
    "class test1:\n",
    "    def __init__(self, name, subject):\n",
    "        self.name = name\n",
    "        self.subject = subject\n",
    "    \n",
    "t1= test(\"Aayush\", \"DSA\")\n",
    "print(f\"Name:{t1.name}, Subject:{t1.subject}\")\n"
   ]
  },
  {
   "cell_type": "code",
   "execution_count": 17,
   "id": "438b5784-912d-45ff-b308-2ed749f60c7c",
   "metadata": {},
   "outputs": [
    {
     "name": "stdout",
     "output_type": "stream",
     "text": [
      "Tesla\n",
      "Porsche\n"
     ]
    }
   ],
   "source": [
    "class cars:\n",
    "    def __init__(self,car1,car2):\n",
    "        self.car1 = car1\n",
    "        self.car2 = car2\n",
    "\n",
    "a = cars(\"Tesla\", \"Porsche\")\n",
    "print(a.car1)\n",
    "print(a.car2)"
   ]
  },
  {
   "cell_type": "code",
   "execution_count": 20,
   "id": "e26afe26-f3c7-4b35-a89d-74c41b824d6a",
   "metadata": {},
   "outputs": [
    {
     "data": {
      "text/plain": [
       "'The __init__() method is a special method within a class that serves as the constructor.\\nIt is automatically called when a new instance of the class is created. The primary role \\nof the __init__() method is to initialize the attributes of the object, setting up its initial state.'"
      ]
     },
     "execution_count": 20,
     "metadata": {},
     "output_type": "execute_result"
    }
   ],
   "source": [
    "\"\"\"The __init__() method is a special method within a class that serves as the constructor.\n",
    "It is automatically called when a new instance of the class is created. The primary role \n",
    "of the __init__() method is to initialize the attributes of the object, setting up its initial state.\"\"\""
   ]
  },
  {
   "cell_type": "code",
   "execution_count": 32,
   "id": "11f6af25-655a-4bd8-81cf-24339ce424a7",
   "metadata": {},
   "outputs": [
    {
     "name": "stdout",
     "output_type": "stream",
     "text": [
      "Name: Aayush , Age: 20\n"
     ]
    }
   ],
   "source": [
    "class Person:\n",
    "    def __init__(self, name, age):\n",
    "        self.name = name\n",
    "        self.age = age\n",
    "    def person_details(self):\n",
    "        print(\"Name:\", self.name ,\", Age:\",self.age)\n",
    "pd = Person(\"Aayush\", 20)\n",
    "pd.person_details()"
   ]
  },
  {
   "cell_type": "code",
   "execution_count": 37,
   "id": "4123c904-b06f-4d2a-896e-a612f7b34dfe",
   "metadata": {},
   "outputs": [
    {
     "name": "stdout",
     "output_type": "stream",
     "text": [
      "Value of x: 10\n"
     ]
    }
   ],
   "source": [
    "class MyClass:\n",
    "    def __init__(self, x):\n",
    "        self.x = x\n",
    "\n",
    "    def display(self):\n",
    "        print(\"Value of x:\", self.x)\n",
    "\n",
    "# Explicitly calling the constructor\n",
    "obj = MyClass(10) # Here, MyClass() creates a new instance, then __init__ is called explicitly\n",
    "# Output: No output (constructor doesn't return anything)\n",
    "\n",
    "# Accessing the attributes through an instance\n",
    "obj.display()  # Output: Value of x: 10\n"
   ]
  },
  {
   "cell_type": "code",
   "execution_count": 41,
   "id": "aefbafc9-1241-470d-bc74-0309fc02ab4e",
   "metadata": {},
   "outputs": [
    {
     "name": "stdout",
     "output_type": "stream",
     "text": [
      "Make: Tesla, Model: Model S, Year: 2022\n",
      "Make: Porsche, Model: 911, Year: 2023\n"
     ]
    }
   ],
   "source": [
    "\"\"\"The self parameter in constructors (and all other instance methods) is a reference to the instance of the \n",
    "class itself. It allows instance methods to access and manipulate \n",
    "the attributes and methods of the object within which they are called.\"\"\"\n",
    "class Car:\n",
    "    def __init__(self, make, model, year):\n",
    "        self.make = make\n",
    "        self.model = model\n",
    "        self.year = year\n",
    "\n",
    "    def display_info(self):\n",
    "        print(f\"Make: {self.make}, Model: {self.model}, Year: {self.year}\")\n",
    "\n",
    "# Creating instances of the Car class\n",
    "car1 = Car(\"Tesla\", \"Model S\", 2022)\n",
    "car2 = Car(\"Porsche\", \"911\", 2023)\n",
    "\n",
    "# Accessing instance variables using instance methods\n",
    "car1.display_info()  # Output: Make: Tesla, Model: Model S, Year: 2022\n",
    "car2.display_info()  # Output: Make: Porsche, Model: 911, Year: 2023\n"
   ]
  },
  {
   "cell_type": "code",
   "execution_count": 44,
   "id": "aeb90047-20a7-4726-b57f-8bbd8d0fc9f6",
   "metadata": {},
   "outputs": [
    {
     "data": {
      "text/plain": [
       "\" in Python, if you don't define any constructor (__init__ method) in your class, Python provides a default constructor implicitly. This default constructor initializes the object without any attributes or additional setup. It's essentially an empty constructor\""
      ]
     },
     "execution_count": 44,
     "metadata": {},
     "output_type": "execute_result"
    }
   ],
   "source": [
    "\"\"\" in Python, if you don't define any constructor (__init__ method) in your class, Python provides a default constructor implicitly. This default constructor initializes the object without any attributes or additional setup. It's essentially an empty constructor\"\"\""
   ]
  },
  {
   "cell_type": "code",
   "execution_count": 49,
   "id": "1f97d6d0-e1f3-43c6-950a-d35f51c31ba5",
   "metadata": {},
   "outputs": [
    {
     "name": "stdout",
     "output_type": "stream",
     "text": [
      "Area of rectangle is 20\n"
     ]
    }
   ],
   "source": [
    "class Rect:\n",
    "    def __init__(self, height, width):\n",
    "        self.height=height\n",
    "        self.width=width\n",
    "    def area(self):\n",
    "        area1 = self.height*self.width\n",
    "        print(\"Area of rectangle is\", area1)\n",
    "obj= Rect(4, 5)\n",
    "obj.area()"
   ]
  },
  {
   "cell_type": "code",
   "execution_count": 52,
   "id": "8a8a7fe8-0812-48fd-ac00-d05d737afa52",
   "metadata": {},
   "outputs": [
    {
     "name": "stdout",
     "output_type": "stream",
     "text": [
      "5 10\n",
      "7 15\n",
      "0 0\n"
     ]
    }
   ],
   "source": [
    "\"\"\" Decorators can be used to create multiple constructors in Python. One common approach is to use \n",
    "class methods decorated with @classmethod. These class methods can serve as alternative constructors\n",
    "by providing different ways to create instances of the class.\"\"\"\n",
    "class MyClass:\n",
    "    def __init__(self, x, y):\n",
    "        self.x = x\n",
    "        self.y = y\n",
    "\n",
    "    @classmethod\n",
    "    def from_string(cls, string):\n",
    "        x, y = map(int, string.split(','))\n",
    "        return cls(x, y)\n",
    "\n",
    "    @classmethod\n",
    "    def default(cls):\n",
    "        return cls(0, 0)\n",
    "\n",
    "# Creating objects using different constructors\n",
    "obj1 = MyClass(5, 10)  # Using the regular constructor\n",
    "print(obj1.x, obj1.y)  # Output: 5 10\n",
    "\n",
    "obj2 = MyClass.from_string(\"7,15\")  # Using the alternative constructor method\n",
    "print(obj2.x, obj2.y)  # Output: 7 15\n",
    "\n",
    "obj3 = MyClass.default()  # Using the default constructor\n",
    "print(obj3.x, obj3.y)  # Output: 0 0\n"
   ]
  },
  {
   "cell_type": "code",
   "execution_count": 53,
   "id": "0a06b712-da1c-4f30-8bae-e6439750025b",
   "metadata": {},
   "outputs": [
    {
     "name": "stdout",
     "output_type": "stream",
     "text": [
      "0 0\n",
      "0 0\n",
      "5 10\n"
     ]
    }
   ],
   "source": [
    "\"\"\" Python does not support method overloading in the same way as some other languages.\n",
    "In Python, only the latest defined method with a specific name and signature is kept.\n",
    "Earlier definitions are overwritten. This is known as method overriding rather than method overloading.\"\"\"\n",
    "class MyClass:\n",
    "    def __init__(self, x=None, y=None):\n",
    "        if x is not None and y is not None:\n",
    "            self.x = x\n",
    "            self.y = y\n",
    "        else:\n",
    "            self.x = 0\n",
    "            self.y = 0\n",
    "\n",
    "# Creating objects using different constructor signatures\n",
    "obj1 = MyClass()        # No arguments, uses default values (0, 0)\n",
    "obj2 = MyClass(5)       # One argument, y defaults to 0\n",
    "obj3 = MyClass(5, 10)   # Two arguments\n",
    "\n",
    "print(obj1.x, obj1.y)  # Output: 0 0\n",
    "print(obj2.x, obj2.y)  # Output: 5 0\n",
    "print(obj3.x, obj3.y)  # Output: 5 10\n"
   ]
  },
  {
   "cell_type": "code",
   "execution_count": 55,
   "id": "acf9d94d-810e-43c2-88a3-d31b443738ed",
   "metadata": {},
   "outputs": [
    {
     "name": "stdout",
     "output_type": "stream",
     "text": [
      "x: 5 , y: 10\n"
     ]
    }
   ],
   "source": [
    "\"\"\"In Python, the super() function is used to call methods and access attributes from the parent class within a subclass. \n",
    "In the context of constructors, super() is commonly used to call the constructor of \n",
    "the parent class from the constructor of the child class. \n",
    "This allows the child class to inherit and extend the behavior of the parent class's constructor.\"\"\"\n",
    "class Parent:\n",
    "    def __init__(self, x):\n",
    "        self.x = x\n",
    "\n",
    "class Child(Parent):\n",
    "    def __init__(self, x, y):\n",
    "        super().__init__(x)  # Calling the constructor of the Parent class\n",
    "        self.y = y\n",
    "\n",
    "    def display(self):\n",
    "        print(\"x:\", self.x, \", y:\", self.y)\n",
    "\n",
    "# Creating an instance of the Child class\n",
    "obj = Child(5, 10)\n",
    "\n",
    "# Accessing attributes and methods\n",
    "obj.display()  # Output: x: 5 , y: 10\n"
   ]
  },
  {
   "cell_type": "code",
   "execution_count": 59,
   "id": "33ea8f5c-fa33-445b-97f7-e8daaefe3fff",
   "metadata": {},
   "outputs": [
    {
     "name": "stdout",
     "output_type": "stream",
     "text": [
      "Title: DSA , Author: Sudhanshu , Published Year: 2024\n"
     ]
    }
   ],
   "source": [
    "class Book:\n",
    "    def __init__(self, title, author, year):\n",
    "        self.title= title\n",
    "        self.author= author\n",
    "        self.year= year\n",
    "    def display(self):\n",
    "        print(\"Title:\", self.title, \", Author:\", self.author, \", Published Year:\", self.year)\n",
    "obj_book = Book(\"DSA\", \"Sudhanshu\", 2024)\n",
    "obj_book.display()"
   ]
  },
  {
   "cell_type": "code",
   "execution_count": 61,
   "id": "590c7936-a815-4530-92e5-c84f692a0c71",
   "metadata": {},
   "outputs": [
    {
     "data": {
      "text/plain": [
       "\"Constructors: Constructors are special methods used for initializing objects of a class. They are automatically called when a new instance of the class is created. Constructors typically set up initial values for the object's attributes.\\nRegular Methods: Regular methods perform specific actions or operations on the object's data. They can manipulate the object's attributes, perform calculations, or implement behavior associated with the object.\""
      ]
     },
     "execution_count": 61,
     "metadata": {},
     "output_type": "execute_result"
    }
   ],
   "source": [
    "\"\"\"Constructors: Constructors are special methods used for initializing objects of a class. They are automatically called when a new instance of the class is created. Constructors typically set up initial values for the object's attributes.\n",
    "Regular Methods: Regular methods perform specific actions or operations on the object's data. They can manipulate the object's attributes, perform calculations, or implement behavior associated with the object.\"\"\""
   ]
  },
  {
   "cell_type": "code",
   "execution_count": 63,
   "id": "ac2746da-ebce-4526-8abb-60ebae5e9bdd",
   "metadata": {},
   "outputs": [
    {
     "data": {
      "text/plain": [
       "\"The self parameter in constructors (and other instance methods) plays a crucial role in initializing instance\\nvariables. The self parameter is a reference to the instance of the class itself, allowing methods\\nto access and manipulate the object's attributes.\""
      ]
     },
     "execution_count": 63,
     "metadata": {},
     "output_type": "execute_result"
    }
   ],
   "source": [
    "\"\"\"The self parameter in constructors (and other instance methods) plays a crucial role in initializing instance\n",
    "variables. The self parameter is a reference to the instance of the class itself, allowing methods\n",
    "to access and manipulate the object's attributes.\"\"\""
   ]
  },
  {
   "cell_type": "code",
   "execution_count": 65,
   "id": "13417e44-9461-4be8-9b63-831f2e88791f",
   "metadata": {},
   "outputs": [
    {
     "name": "stdout",
     "output_type": "stream",
     "text": [
      "True\n"
     ]
    }
   ],
   "source": [
    "class Singleton:\n",
    "    _instance = None  # Private class attribute to hold the single instance\n",
    "\n",
    "    def __init__(self):\n",
    "        if Singleton._instance is not None:\n",
    "            raise Exception(\"Singleton instance already exists. Use getInstance() to access it.\")\n",
    "        # Initialization code goes here\n",
    "\n",
    "    @staticmethod\n",
    "    def getInstance():\n",
    "        if Singleton._instance is None:\n",
    "            Singleton._instance = Singleton()\n",
    "        return Singleton._instance\n",
    "\n",
    "# Usage\n",
    "# obj1 = Singleton()  # This will raise an exception since the constructor is private\n",
    "obj1 = Singleton.getInstance()\n",
    "obj2 = Singleton.getInstance()\n",
    "\n",
    "print(obj1 is obj2)  # Output: True (Both obj1 and obj2 refer to the same instance)"
   ]
  },
  {
   "cell_type": "code",
   "execution_count": 67,
   "id": "5a42bc19-289d-4a4d-a0d0-6bd49d6b1093",
   "metadata": {},
   "outputs": [
    {
     "name": "stdout",
     "output_type": "stream",
     "text": [
      "['Math', 'Science', 'History']\n"
     ]
    }
   ],
   "source": [
    "class Student:\n",
    "    def __init__(self, subjects):\n",
    "        self.subjects = subjects\n",
    "\n",
    "# Example usage:\n",
    "subjects_list = [\"Math\", \"Science\", \"History\"]\n",
    "student1 = Student(subjects_list)\n",
    "\n",
    "print(student1.subjects)\n"
   ]
  },
  {
   "cell_type": "code",
   "execution_count": 70,
   "id": "174c3f09-b98a-484a-b053-08bcef64db3e",
   "metadata": {},
   "outputs": [
    {
     "data": {
      "text/plain": [
       "'The __del__ method in Python classes is a special method used to define the destruction behavior of an object. It is called when the object is about to be destroyed or garbage collected. The purpose of the __del__ method is to perform any necessary cleanup actions, such as releasing resources or closing files, before the object is removed from memory.\\nThe __del__ method is the destructor counterpart to the constructor (__init__) in Python. While the constructor is called when a new instance of the class is created, the __del__ method is called when the instance is being destroyed.'"
      ]
     },
     "execution_count": 70,
     "metadata": {},
     "output_type": "execute_result"
    }
   ],
   "source": [
    "\"\"\"The __del__ method in Python classes is a special method used to define the destruction behavior of an object. It is called when the object is about to be destroyed or garbage collected. The purpose of the __del__ method is to perform any necessary cleanup actions, such as releasing resources or closing files, before the object is removed from memory.\n",
    "The __del__ method is the destructor counterpart to the constructor (__init__) in Python. While the constructor is called when a new instance of the class is created, the __del__ method is called when the instance is being destroyed.\"\"\""
   ]
  },
  {
   "cell_type": "code",
   "execution_count": 71,
   "id": "77d625d0-b3a2-4c3e-9742-98547aed5b85",
   "metadata": {},
   "outputs": [
    {
     "name": "stdout",
     "output_type": "stream",
     "text": [
      "Make: Tesla, Model: Model S\n"
     ]
    }
   ],
   "source": [
    "class Car:\n",
    "    def __init__(self, make=\"Unknown\", model=\"Unknown\"):\n",
    "        self.make = make\n",
    "        self.model = model\n",
    "\n",
    "    def display_info(self):\n",
    "        print(f\"Make: {self.make}, Model: {self.model}\")\n",
    "\n",
    "car1 = Car(\"Tesla\", \"Model S\")\n",
    "car1.display_info()"
   ]
  },
  {
   "cell_type": "code",
   "execution_count": 2,
   "id": "a2902349-8653-4a7d-a6e3-d066994dddf8",
   "metadata": {},
   "outputs": [
    {
     "data": {
      "text/plain": [
       "'Inheritance in Python, as in other object-oriented programming languages, is a mechanism that allows \\na new class (child class) to inherit properties and behaviors (methods) from an existing class (parent class).\\nThis means that the child class can reuse the attributes and methods of the parent class without having to redefine them.\\nThe significance of inheritance in object-oriented programming lies in code reusability, modularity, and extensibility:\\n\\nCode Reusability: Inheritance allows you to define common attributes and methods in a parent class, which can be reused by multiple child classes. This promotes code reuse and reduces redundancy.\\nModularity: By organizing classes into a hierarchy of parent and child classes, you can break down complex systems into smaller, more manageable components. Each class encapsulates a specific set of behaviors and attributes.\\nExtensibility: Child classes can extend or modify the behavior of the parent class by adding new methods or overriding existing ones. This allows for flexible and scalable software design.'"
      ]
     },
     "execution_count": 2,
     "metadata": {},
     "output_type": "execute_result"
    }
   ],
   "source": [
    "\"\"\"Inheritance in Python, as in other object-oriented programming languages, is a mechanism that allows \n",
    "a new class (child class) to inherit properties and behaviors (methods) from an existing class (parent class).\n",
    "This means that the child class can reuse the attributes and methods of the parent class without having to redefine them.\n",
    "The significance of inheritance in object-oriented programming lies in code reusability, modularity, and extensibility:\n",
    "\n",
    "Code Reusability: Inheritance allows you to define common attributes and methods in a parent class, which can be reused by multiple child classes. This promotes code reuse and reduces redundancy.\n",
    "Modularity: By organizing classes into a hierarchy of parent and child classes, you can break down complex systems into smaller, more manageable components. Each class encapsulates a specific set of behaviors and attributes.\n",
    "Extensibility: Child classes can extend or modify the behavior of the parent class by adding new methods or overriding existing ones. This allows for flexible and scalable software design.\"\"\""
   ]
  },
  {
   "cell_type": "code",
   "execution_count": 4,
   "id": "1ff9c860-4b36-4b74-9938-7be3fea015d2",
   "metadata": {},
   "outputs": [
    {
     "name": "stdout",
     "output_type": "stream",
     "text": [
      "Animal speaks\n",
      "Woof!\n",
      "Bird flies\n",
      "Mammal walks\n"
     ]
    }
   ],
   "source": [
    "\"\"\"In single inheritance, a child class inherits from only one parent class. \n",
    "This means that the child class extends the functionality of a single parent class.\"\"\"\n",
    "class Animal:\n",
    "    def speak(self):\n",
    "        return \"Animal speaks\"\n",
    "\n",
    "class Dog(Animal):\n",
    "    def bark(self):\n",
    "        return \"Woof!\"\n",
    "\n",
    "# Creating an instance of Dog\n",
    "dog = Dog()\n",
    "\n",
    "# Accessing methods from parent class\n",
    "print(dog.speak())  # Output: Animal speaks\n",
    "# Accessing methods from child class\n",
    "print(dog.bark())   # Output: Woof!\n",
    "\n",
    "\"\"\"In multiple inheritance, a child class can inherit from multiple parent classes.\n",
    "This allows the child class to inherit attributes and methods from multiple sources.\"\"\"\n",
    "class Bird:\n",
    "    def fly(self):\n",
    "        return \"Bird flies\"\n",
    "\n",
    "class Mammal:\n",
    "    def walk(self):\n",
    "        return \"Mammal walks\"\n",
    "\n",
    "class Bat(Bird, Mammal):\n",
    "    pass\n",
    "\n",
    "# Creating an instance of Bat\n",
    "bat = Bat()\n",
    "\n",
    "# Accessing methods from parent classes\n",
    "print(bat.fly())   # Output: Bird flies\n",
    "print(bat.walk())  # Output: Mammal walks\n"
   ]
  },
  {
   "cell_type": "code",
   "execution_count": 6,
   "id": "bc341232-080b-4dcf-b7e7-34bd09416c36",
   "metadata": {},
   "outputs": [
    {
     "name": "stdout",
     "output_type": "stream",
     "text": [
      "Brand: Honda, Color: White, Speed: 140\n"
     ]
    }
   ],
   "source": [
    "class Vehicle:\n",
    "    def __init__(self, color, speed):\n",
    "        self.color=color\n",
    "        self.speed=speed\n",
    "class Car(Vehicle):\n",
    "    def __init__(self,color,speed,brand):\n",
    "        super().__init__(color,speed)\n",
    "        self.brand=brand\n",
    "    def vehicle_display(self):\n",
    "        print(f\"Brand: {self.brand}, Color: {self.color}, Speed: {self.speed}\")\n",
    "car= Car(\"White\",140,\"Honda\")\n",
    "car.vehicle_display()"
   ]
  },
  {
   "cell_type": "code",
   "execution_count": 7,
   "id": "4f3652e2-352c-4b72-8cad-bbc665add243",
   "metadata": {},
   "outputs": [
    {
     "name": "stdout",
     "output_type": "stream",
     "text": [
      "Generic animal sound\n",
      "Woof\n",
      "Meow\n"
     ]
    }
   ],
   "source": [
    "\"\"\"Method overriding is a feature of object-oriented programming that allows a subclass to provide a \n",
    "specific implementation of a method that is already defined in its superclass. When a method in the \n",
    "subclass has the same name, same parameters, and same return type as a method in its \n",
    "superclass, the method in the subclass overrides the method in the superclass.\"\"\"\n",
    "class Animal:\n",
    "    def make_sound(self):\n",
    "        print(\"Generic animal sound\")\n",
    "\n",
    "class Dog(Animal):\n",
    "    def make_sound(self):\n",
    "        print(\"Woof\")\n",
    "\n",
    "class Cat(Animal):\n",
    "    def make_sound(self):\n",
    "        print(\"Meow\")\n",
    "\n",
    "animal = Animal()\n",
    "animal.make_sound()\n",
    "\n",
    "dog = Dog()\n",
    "dog.make_sound()\n",
    "\n",
    "cat = Cat()\n",
    "cat.make_sound()\n"
   ]
  },
  {
   "cell_type": "code",
   "execution_count": 8,
   "id": "efd79261-ce9f-4468-ace5-c8b6c925cd93",
   "metadata": {},
   "outputs": [
    {
     "name": "stdout",
     "output_type": "stream",
     "text": [
      "Name: Buddy, Breed: Golden Retriever, Species: Dog\n",
      "Woof\n",
      "Generic animal sound\n"
     ]
    }
   ],
   "source": [
    "\"\"\"In Python inheritance, the super() function is used to call methods and access attributes from the superclass\n",
    "(parent class) within the subclass (child class). It provides a way to invoke the\n",
    "superclass's methods or constructor, allowing for code reusability and ensuring that the superclass's \n",
    "behavior is preserved or extended in the subclass.\"\"\"\n",
    "class Animal:\n",
    "    def __init__(self, species):\n",
    "        self.species = species\n",
    "\n",
    "    def sound(self):\n",
    "        return \"Generic animal sound\"\n",
    "\n",
    "class Dog(Animal):\n",
    "    def __init__(self, name, breed):\n",
    "        super().__init__(\"Dog\")\n",
    "        self.name = name\n",
    "        self.breed = breed\n",
    "\n",
    "    def sound(self):\n",
    "        return \"Woof\" \n",
    "\n",
    "    def details(self):\n",
    "        return f\"Name: {self.name}, Breed: {self.breed}, Species: {self.species}\"\n",
    "\n",
    "dog = Dog(\"Buddy\", \"Golden Retriever\")\n",
    "\n",
    "print(dog.details())  \n",
    "print(dog.sound())    \n",
    "\n",
    "print(super(Dog, dog).sound())  \n"
   ]
  },
  {
   "cell_type": "code",
   "execution_count": 16,
   "id": "0bad256e-4dea-4017-8a77-49a888fdd837",
   "metadata": {},
   "outputs": [
    {
     "name": "stdout",
     "output_type": "stream",
     "text": [
      "Bark\n",
      "Meow\n"
     ]
    }
   ],
   "source": [
    "class Animal:\n",
    "    def speak(self):\n",
    "        return \"Animal Sound\"\n",
    "class Dog(Animal):\n",
    "    def speak(self):\n",
    "        return \"Bark\"\n",
    "class Cat(Animal):\n",
    "    def speak(self):\n",
    "        return \"Meow\"\n",
    "\n",
    "b=Dog()\n",
    "print(b.speak())\n",
    "\n",
    "c=Cat()\n",
    "print(c.speak())\n"
   ]
  },
  {
   "cell_type": "code",
   "execution_count": 18,
   "id": "6ed06c6d-c068-496f-9b17-b3238a071839",
   "metadata": {},
   "outputs": [
    {
     "data": {
      "text/plain": [
       "\"In Python, the isinstance() function is used to determine whether an object is an instance of a particular class or subclass. It returns True if the object is an instance of the specified class or any of its subclasses, and False otherwise. The isinstance() function is a built-in function in Python and is commonly used for type checking and runtime polymorphism.\\n\\nThe isinstance() function plays a significant role in inheritance by allowing you to check the inheritance relationship between objects and classes. It helps you determine whether an object is of a certain type or belongs to a certain class hierarchy, enabling you to write more flexible and reusable code.\\n\\nHere's how isinstance() relates to inheritance:\\n\\nChecking Instance of a Class or Subclass:\\n\\nYou can use isinstance() to check whether an object is an instance of a specific class or any of its subclasses. This is useful when you want to perform different actions based on the type of object.\\nPolymorphic Behavior:\\n\\nisinstance() allows for polymorphic behavior, where the same method can behave differently based on the type of object it operates on. This is a key aspect of inheritance and polymorphism in object-oriented programming.\\nType Checking and Validation:\\n\\nInheritance hierarchies often involve parent and child classes with related behaviors. By using isinstance(), you can validate input parameters or perform type checking to ensure that objects passed to a function or method belong to a specific class hierarchy.\""
      ]
     },
     "execution_count": 18,
     "metadata": {},
     "output_type": "execute_result"
    }
   ],
   "source": [
    "\"\"\"In Python, the isinstance() function is used to determine whether an object is an instance of a particular class or subclass. It returns True if the object is an instance of the specified class or any of its subclasses, and False otherwise. The isinstance() function is a built-in function in Python and is commonly used for type checking and runtime polymorphism.\n",
    "\n",
    "The isinstance() function plays a significant role in inheritance by allowing you to check the inheritance relationship between objects and classes. It helps you determine whether an object is of a certain type or belongs to a certain class hierarchy, enabling you to write more flexible and reusable code.\n",
    "\n",
    "Here's how isinstance() relates to inheritance:\n",
    "\n",
    "Checking Instance of a Class or Subclass:\n",
    "\n",
    "You can use isinstance() to check whether an object is an instance of a specific class or any of its subclasses. This is useful when you want to perform different actions based on the type of object.\n",
    "Polymorphic Behavior:\n",
    "\n",
    "isinstance() allows for polymorphic behavior, where the same method can behave differently based on the type of object it operates on. This is a key aspect of inheritance and polymorphism in object-oriented programming.\n",
    "Type Checking and Validation:\n",
    "\n",
    "Inheritance hierarchies often involve parent and child classes with related behaviors. By using isinstance(), you can validate input parameters or perform type checking to ensure that objects passed to a function or method belong to a specific class hierarchy.\"\"\""
   ]
  },
  {
   "cell_type": "code",
   "execution_count": 19,
   "id": "487ca2c1-fe23-4647-a5a3-6a2342c5b1b5",
   "metadata": {},
   "outputs": [
    {
     "name": "stdout",
     "output_type": "stream",
     "text": [
      "True\n",
      "True\n"
     ]
    }
   ],
   "source": [
    "\"\"\"In Python, the issubclass() function is used to determine whether a class is a subclass of another class.\n",
    "It returns True if the specified class is a subclass of the given superclass, or if the class is the same as\n",
    "the superclass, and False otherwise. The issubclass() function is a built-in function\n",
    "in Python and is commonly used for type checking and inheritance-related operations.\"\"\"\n",
    "class Animal:\n",
    "    pass\n",
    "\n",
    "class Dog(Animal):\n",
    "    pass\n",
    "\n",
    "class Cat(Animal):\n",
    "    pass\n",
    "\n",
    "print(issubclass(Dog, Animal))  \n",
    "print(issubclass(Cat, Animal))\n"
   ]
  },
  {
   "cell_type": "code",
   "execution_count": 20,
   "id": "e198275b-1ac2-4a00-8aed-0fc916ffd2a5",
   "metadata": {},
   "outputs": [
    {
     "name": "stdout",
     "output_type": "stream",
     "text": [
      "Parent constructor called\n",
      "Child constructor called\n"
     ]
    }
   ],
   "source": [
    "\"\"\"In Python, constructors are inherited in child classes just like any other method. When a child class \n",
    "is created without explicitly defining its own constructor, it automatically inherits the constructor of \n",
    "its parent class. This means that if the parent class has a constructor, the child class can use it to \n",
    "initialize its own instances.\"\"\"\n",
    "class Parent:\n",
    "    def __init__(self, name):\n",
    "        self.name = name\n",
    "        print(\"Parent constructor called\")\n",
    "\n",
    "class Child(Parent):\n",
    "    def __init__(self, name, age):\n",
    "        super().__init__(name)  \n",
    "        self.age = age\n",
    "        print(\"Child constructor called\")\n",
    "\n",
    "child = Child(\"Alice\", 10)"
   ]
  },
  {
   "cell_type": "code",
   "execution_count": 21,
   "id": "28727e9d-7d32-4ca6-a3fe-68de04373f13",
   "metadata": {},
   "outputs": [
    {
     "name": "stdout",
     "output_type": "stream",
     "text": [
      "Area of circle: 78.53981633974483\n",
      "Area of rectangle: 24\n"
     ]
    }
   ],
   "source": [
    "import math\n",
    "\n",
    "class Shape:\n",
    "    def area(self):\n",
    "        raise NotImplementedError(\"Subclasses must implement abstract method\")\n",
    "\n",
    "class Circle(Shape):\n",
    "    def __init__(self, radius):\n",
    "        self.radius = radius\n",
    "\n",
    "    def area(self):\n",
    "        return math.pi * self.radius ** 2\n",
    "\n",
    "class Rectangle(Shape):\n",
    "    def __init__(self, length, width):\n",
    "        self.length = length\n",
    "        self.width = width\n",
    "\n",
    "    def area(self):\n",
    "        return self.length * self.width\n",
    "\n",
    "# Example usage\n",
    "circle = Circle(5)\n",
    "print(\"Area of circle:\", circle.area())  # Output: Area of circle: 78.53981633974483\n",
    "\n",
    "rectangle = Rectangle(4, 6)\n",
    "print(\"Area of rectangle:\", rectangle.area())  # Output: Area of rectangle: 24\n"
   ]
  },
  {
   "cell_type": "code",
   "execution_count": 22,
   "id": "2d9ed611-116a-4257-b4f2-3eb439366ac2",
   "metadata": {},
   "outputs": [
    {
     "name": "stdout",
     "output_type": "stream",
     "text": [
      "TypeError: Can't instantiate abstract class Shape with abstract methods area, perimeter\n",
      "Rectangle Area: 20\n",
      "Rectangle Perimeter: 18\n",
      "Circle Area: 28.26\n",
      "Circle Perimeter: 18.84\n"
     ]
    }
   ],
   "source": [
    "from abc import ABC, abstractmethod\n",
    "\n",
    "# Define an abstract base class for shapes\n",
    "class Shape(ABC):\n",
    "    @abstractmethod\n",
    "    def area(self):\n",
    "        pass\n",
    "    \n",
    "    @abstractmethod\n",
    "    def perimeter(self):\n",
    "        pass\n",
    "\n",
    "# Define a concrete subclass Rectangle\n",
    "class Rectangle(Shape):\n",
    "    def __init__(self, width, height):\n",
    "        self.width = width\n",
    "        self.height = height\n",
    "    \n",
    "    def area(self):\n",
    "        return self.width * self.height\n",
    "    \n",
    "    def perimeter(self):\n",
    "        return 2 * (self.width + self.height)\n",
    "\n",
    "# Define a concrete subclass Circle\n",
    "class Circle(Shape):\n",
    "    def __init__(self, radius):\n",
    "        self.radius = radius\n",
    "    \n",
    "    def area(self):\n",
    "        return 3.14 * self.radius ** 2\n",
    "    \n",
    "    def perimeter(self):\n",
    "        return 2 * 3.14 * self.radius\n",
    "\n",
    "# Trying to instantiate Shape will raise a TypeError\n",
    "try:\n",
    "    shape = Shape()\n",
    "except TypeError as e:\n",
    "    print(\"TypeError:\", e)\n",
    "\n",
    "# Instantiate Rectangle and Circle\n",
    "rectangle = Rectangle(5, 4)\n",
    "circle = Circle(3)\n",
    "\n",
    "# Test methods\n",
    "print(\"Rectangle Area:\", rectangle.area())  # Output: 20\n",
    "print(\"Rectangle Perimeter:\", rectangle.perimeter())  # Output: 18\n",
    "\n",
    "print(\"Circle Area:\", circle.area())  # Output: 28.26 (approximately)\n",
    "print(\"Circle Perimeter:\", circle.perimeter())  # Output: 18.84 (approximately)\n"
   ]
  },
  {
   "cell_type": "code",
   "execution_count": 23,
   "id": "eb9c7a4c-b796-47c9-b6e1-1e55d31ae616",
   "metadata": {},
   "outputs": [
    {
     "data": {
      "text/plain": [
       "\"In Python, you can prevent a child class from modifying certain attributes or methods inherited from a parent class by using encapsulation and access control mechanisms. Here are some ways to achieve this:\\n\\nPrivate Attributes or Methods: You can prefix attributes or methods with double underscores (__) to make them private. This effectively prevents direct access or modification from outside the class. However, note that this doesn't completely prevent access or modification, as Python doesn't have true private members. It just mangles the names to make them harder to access from outside the class.\\n\\nProperty Decorators: You can use property decorators to define getters and setters for attributes. This allows you to control access to attributes and impose certain restrictions on modification.\\n\\nOverriding Methods: In the child class, you can override methods inherited from the parent class, but you can choose not to call the parent class method, effectively preventing modification of behavior.\\n\\nUsing Composition instead of Inheritance: Instead of inheriting from the parent class, you can create an instance of the parent class within the child class (composition) and delegate calls to it. This way, you can control which methods or attributes are exposed or modified.\""
      ]
     },
     "execution_count": 23,
     "metadata": {},
     "output_type": "execute_result"
    }
   ],
   "source": [
    "\"\"\"In Python, you can prevent a child class from modifying certain attributes or methods inherited from a parent class by using encapsulation and access control mechanisms. Here are some ways to achieve this:\n",
    "\n",
    "Private Attributes or Methods: You can prefix attributes or methods with double underscores (__) to make them private. This effectively prevents direct access or modification from outside the class. However, note that this doesn't completely prevent access or modification, as Python doesn't have true private members. It just mangles the names to make them harder to access from outside the class.\n",
    "\n",
    "Property Decorators: You can use property decorators to define getters and setters for attributes. This allows you to control access to attributes and impose certain restrictions on modification.\n",
    "\n",
    "Overriding Methods: In the child class, you can override methods inherited from the parent class, but you can choose not to call the parent class method, effectively preventing modification of behavior.\n",
    "\n",
    "Using Composition instead of Inheritance: Instead of inheriting from the parent class, you can create an instance of the parent class within the child class (composition) and delegate calls to it. This way, you can control which methods or attributes are exposed or modified.\"\"\""
   ]
  },
  {
   "cell_type": "code",
   "execution_count": 25,
   "id": "6fb2c5f2-d640-49d9-95f7-95e94270dff8",
   "metadata": {},
   "outputs": [
    {
     "name": "stdout",
     "output_type": "stream",
     "text": [
      "Name: Aayush, Salary: 85000, Department: IT\n"
     ]
    }
   ],
   "source": [
    "class Employee:\n",
    "    def __init__(self, name, salary):\n",
    "        self.name=name\n",
    "        self.salary=salary\n",
    "class Manager(Employee):\n",
    "    def __init__(self,name,salary,department):\n",
    "        super().__init__(name,salary)\n",
    "        self.department=department\n",
    "    def od(self):\n",
    "        return f\"Name: {self.name}, Salary: {self.salary}, Department: {self.department}\"\n",
    "office=Manager(\"Aayush\",85000,\"IT\")\n",
    "print(office.od())"
   ]
  },
  {
   "cell_type": "code",
   "execution_count": 26,
   "id": "13bcf980-9b10-4561-b916-484f6ecff79d",
   "metadata": {},
   "outputs": [
    {
     "data": {
      "text/plain": [
       "'method overloading involves defining multiple methods with the same name but different parameters \\nwithin the same class, while method overriding involves providing a new \\nimplementation for a method already defined in a superclass within a subclass.'"
      ]
     },
     "execution_count": 26,
     "metadata": {},
     "output_type": "execute_result"
    }
   ],
   "source": [
    "\"\"\"method overloading involves defining multiple methods with the same name but different parameters \n",
    "within the same class, while method overriding involves providing a new \n",
    "implementation for a method already defined in a superclass within a subclass.\"\"\""
   ]
  },
  {
   "cell_type": "code",
   "execution_count": 27,
   "id": "adf35aee-7994-427a-88d9-7f7cc4b9593f",
   "metadata": {},
   "outputs": [
    {
     "data": {
      "text/plain": [
       "\" the __init__() method serves as a constructor for a class. It is called automatically when a new instance of the class is created. The primary purpose of the __init__() method is to initialize the attributes or properties of the object to their initial values. When working with inheritance, the __init__() method becomes crucial for initializing both the attributes inherited from the parent class and the attributes specific to the child class\\nThe __init__() method of the child class can call the __init__() method of the parent class explicitly using super().__init__().\\nThis allows the child class to initialize attributes inherited from the parent class before performing its own initialization tasks.\\nBy calling the parent class's __init__() method, you ensure that the parent's initialization logic is executed, which can be important for the proper functioning of the child class.\""
      ]
     },
     "execution_count": 27,
     "metadata": {},
     "output_type": "execute_result"
    }
   ],
   "source": [
    "\"\"\" the __init__() method serves as a constructor for a class. It is called automatically when a new instance of the class is created. The primary purpose of the __init__() method is to initialize the attributes or properties of the object to their initial values. When working with inheritance, the __init__() method becomes crucial for initializing both the attributes inherited from the parent class and the attributes specific to the child class\n",
    "The __init__() method of the child class can call the __init__() method of the parent class explicitly using super().__init__().\n",
    "This allows the child class to initialize attributes inherited from the parent class before performing its own initialization tasks.\n",
    "By calling the parent class's __init__() method, you ensure that the parent's initialization logic is executed, which can be important for the proper functioning of the child class.\"\"\""
   ]
  },
  {
   "cell_type": "code",
   "execution_count": 29,
   "id": "0f6b7318-ab82-40e4-8712-d2cd191bce82",
   "metadata": {},
   "outputs": [
    {
     "name": "stdout",
     "output_type": "stream",
     "text": [
      "She spreads her wings and leaps off the perch to take off in flight.\n",
      "The house sparrow's flight is direct (not undulating) and flapping\n"
     ]
    }
   ],
   "source": [
    "class Bird:\n",
    "    def fly(self):\n",
    "        return \"Different types\"\n",
    "class Eagle(Bird):\n",
    "    def fly(self):\n",
    "        return \"She spreads her wings and leaps off the perch to take off in flight.\"\n",
    "class Sparrow(Bird):\n",
    "    def fly(self):\n",
    "        return \"The house sparrow's flight is direct (not undulating) and flapping\"\n",
    "bird1= Eagle()\n",
    "print(bird1.fly())\n",
    "bird2= Sparrow()\n",
    "print(bird2.fly())"
   ]
  },
  {
   "cell_type": "code",
   "execution_count": 30,
   "id": "d7f07e7d-bfa6-4c63-916e-7ba496cf6151",
   "metadata": {},
   "outputs": [
    {
     "name": "stdout",
     "output_type": "stream",
     "text": [
      "[<class '__main__.D'>, <class '__main__.B'>, <class '__main__.C'>, <class '__main__.A'>, <class 'object'>]\n",
      "Method from class B\n"
     ]
    }
   ],
   "source": [
    "\"\"\"The \"diamond problem\" is a challenge that arises in multiple inheritance when a class inherits \n",
    "from two or more classes that have a common ancestor. This situation creates ambiguity in the \n",
    "inheritance hierarchy, particularly when the common ancestor class's methods or attributes are\n",
    "overridden in the intermediate classes.\"\"\"\n",
    "class A:\n",
    "    def method(self):\n",
    "        print(\"Method from class A\")\n",
    "\n",
    "class B(A):\n",
    "    def method(self):\n",
    "        print(\"Method from class B\")\n",
    "\n",
    "class C(A):\n",
    "    def method(self):\n",
    "        print(\"Method from class C\")\n",
    "\n",
    "class D(B, C):\n",
    "    pass\n",
    "\n",
    "print(D.mro())  \n",
    "d = D()\n",
    "d.method() \n"
   ]
  },
  {
   "cell_type": "code",
   "execution_count": 31,
   "id": "fd7b1a5a-46b0-4fb6-a570-204eb18392f1",
   "metadata": {},
   "outputs": [
    {
     "name": "stdout",
     "output_type": "stream",
     "text": [
      "Engine started\n",
      "Engine stopped\n"
     ]
    }
   ],
   "source": [
    "\"\"\"The \"is-a\" relationship, also known as inheritance or specialization,\n",
    "signifies that a subclass is a specialized version of its superclass.\"\"\"\n",
    "class Shape:\n",
    "    def area(self):\n",
    "        pass\n",
    "\n",
    "    def perimeter(self):\n",
    "        pass\n",
    "\n",
    "class Circle(Shape):  # Circle is-a Shape\n",
    "    def __init__(self, radius):\n",
    "        self.radius = radius\n",
    "\n",
    "    def area(self):\n",
    "        return 3.14 * self.radius ** 2\n",
    "\n",
    "    def perimeter(self):\n",
    "        return 2 * 3.14 * self.radius\n",
    "\n",
    "class Rectangle(Shape):  # Rectangle is-a Shape\n",
    "    def __init__(self, width, height):\n",
    "        self.width = width\n",
    "        self.height = height\n",
    "\n",
    "    def area(self):\n",
    "        return self.width * self.height\n",
    "\n",
    "    def perimeter(self):\n",
    "        return 2 * (self.width + self.height)\n",
    "    \n",
    "\"\"\"The \"has-a\" relationship, also known as composition or aggregation,\n",
    "signifies that a class contains another class as a component or attribute.\"\"\"\n",
    "class Engine:\n",
    "    def start(self):\n",
    "        print(\"Engine started\")\n",
    "\n",
    "    def stop(self):\n",
    "        print(\"Engine stopped\")\n",
    "\n",
    "class Car:\n",
    "    def __init__(self, make, model):\n",
    "        self.make = make\n",
    "        self.model = model\n",
    "        self.engine = Engine()  # Car has-a Engine\n",
    "\n",
    "    def start(self):\n",
    "        self.engine.start()\n",
    "\n",
    "    def stop(self):\n",
    "        self.engine.stop()\n",
    "\n",
    "# Creating a Car object\n",
    "car = Car(\"Toyota\", \"Camry\")\n",
    "\n",
    "# Starting the car (delegating to the Engine)\n",
    "car.start()  # Output: Engine started\n",
    "\n",
    "# Stopping the car (delegating to the Engine)\n",
    "car.stop()   # Output: Engine stopped\n"
   ]
  },
  {
   "cell_type": "code",
   "execution_count": 32,
   "id": "84e43c33-b3a4-4b71-b483-ab0c88b23bd2",
   "metadata": {},
   "outputs": [
    {
     "name": "stdout",
     "output_type": "stream",
     "text": [
      "Name: Alice, Age: 20, Gender: Female\n",
      "Student ID: S12345, Major: Computer Science\n",
      "Alice is studying.\n",
      "Name: Dr. Smith, Age: 45, Gender: Male\n",
      "Employee ID: P98765, Department: Engineering\n",
      "Dr. Smith is teaching.\n"
     ]
    }
   ],
   "source": [
    "class Person:\n",
    "    def __init__(self, name, age, gender):\n",
    "        self.name = name\n",
    "        self.age = age\n",
    "        self.gender = gender\n",
    "\n",
    "    def display_info(self):\n",
    "        print(f\"Name: {self.name}, Age: {self.age}, Gender: {self.gender}\")\n",
    "\n",
    "class Student(Person):\n",
    "    def __init__(self, name, age, gender, student_id, major):\n",
    "        super().__init__(name, age, gender)\n",
    "        self.student_id = student_id\n",
    "        self.major = major\n",
    "\n",
    "    def display_info(self):\n",
    "        super().display_info()\n",
    "        print(f\"Student ID: {self.student_id}, Major: {self.major}\")\n",
    "\n",
    "    def study(self):\n",
    "        print(f\"{self.name} is studying.\")\n",
    "\n",
    "class Professor(Person):\n",
    "    def __init__(self, name, age, gender, employee_id, department):\n",
    "        super().__init__(name, age, gender)\n",
    "        self.employee_id = employee_id\n",
    "        self.department = department\n",
    "\n",
    "    def display_info(self):\n",
    "        super().display_info()\n",
    "        print(f\"Employee ID: {self.employee_id}, Department: {self.department}\")\n",
    "\n",
    "    def teach(self):\n",
    "        print(f\"{self.name} is teaching.\")\n",
    "\n",
    "# Example usage\n",
    "student1 = Student(\"Alice\", 20, \"Female\", \"S12345\", \"Computer Science\")\n",
    "professor1 = Professor(\"Dr. Smith\", 45, \"Male\", \"P98765\", \"Engineering\")\n",
    "\n",
    "# Display student information\n",
    "student1.display_info()\n",
    "student1.study()\n",
    "\n",
    "# Display professor information\n",
    "professor1.display_info()\n",
    "professor1.teach()\n"
   ]
  },
  {
   "cell_type": "code",
   "execution_count": 33,
   "id": "26f0b8c5-6862-450b-b0ad-b2a18784b04e",
   "metadata": {},
   "outputs": [
    {
     "data": {
      "text/plain": [
       "'Encapsulation refers to the bundling of data and methods that operate on \\nthe data into a single unit, often referred to as a class. In simpler terms, \\nit means wrapping up of data (variables) and methods (functions) that operate \\non the data into a single unit, thus preventing direct access to data from outside \\nthe unit, and instead providing controlled access\\nthrough methods.'"
      ]
     },
     "execution_count": 33,
     "metadata": {},
     "output_type": "execute_result"
    }
   ],
   "source": [
    "\"\"\"Encapsulation refers to the bundling of data and methods that operate on \n",
    "the data into a single unit, often referred to as a class. In simpler terms, \n",
    "it means wrapping up of data (variables) and methods (functions) that operate \n",
    "on the data into a single unit, thus preventing direct access to data from outside \n",
    "the unit, and instead providing controlled access\n",
    "through methods.\"\"\""
   ]
  },
  {
   "cell_type": "code",
   "execution_count": 34,
   "id": "4fb95d76-896c-40a4-98ee-0614557fa087",
   "metadata": {},
   "outputs": [
    {
     "data": {
      "text/plain": [
       "\"Encapsulation is a fundamental concept in object-oriented programming (OOP) that involves bundling data and methods that operate on that data into a single unit, often referred to as a class. The key principles of encapsulation include access control and data hiding.\\n\\nAccess Control:\\nAccess control refers to the mechanisms provided by a programming language to restrict the access to certain parts of the code. In the context of encapsulation, access control determines which parts of a class (attributes and methods) are visible and accessible from outside the class.\\n\\nIn Python, access control is implemented using access modifiers:\\n\\nPublic: Public members are accessible from outside the class. They can be freely accessed and modified using the dot (.) operator.\\n\\nPrivate: Private members are not accessible from outside the class. They are denoted by prefixing the member name with two underscores (__). Although Python doesn't have true private members, it uses name mangling to make it difficult to access these members directly from outside the class.\\n\\nProtected: Protected members are accessible within the class itself and by its subclasses. They are denoted by prefixing the member name with a single underscore (_).\\n\\nData Hiding:\\nData hiding is the practice of restricting direct access to an object's data from outside the class. This means that the internal state of an object is not directly accessible and can only be manipulated through well-defined methods provided by the class.\\n\\nBy hiding the internal details of an object's implementation, data hiding helps to:\\n\\nMaintain the integrity of the object's state by preventing unauthorized modifications.\\nEncapsulate the complexity of the class, making it easier to use and understand.\\nMinimize the dependencies between different parts of the code, promoting modularity and reusability.\\nEnhance security by preventing unintended access or manipulation of sensitive data.\\nIn Python, data hiding is typically achieved by marking data members as private or protected and providing getter and setter methods to access and modify them. This allows the class to enforce certain constraints or perform validation checks before allowing changes to the object's state, ensuring its consistency and correctness.\\n\\n\\n\\n\\n\\n\""
      ]
     },
     "execution_count": 34,
     "metadata": {},
     "output_type": "execute_result"
    }
   ],
   "source": [
    "\"\"\"Encapsulation is a fundamental concept in object-oriented programming (OOP) that involves bundling data and methods that operate on that data into a single unit, often referred to as a class. The key principles of encapsulation include access control and data hiding.\n",
    "\n",
    "Access Control:\n",
    "Access control refers to the mechanisms provided by a programming language to restrict the access to certain parts of the code. In the context of encapsulation, access control determines which parts of a class (attributes and methods) are visible and accessible from outside the class.\n",
    "\n",
    "In Python, access control is implemented using access modifiers:\n",
    "\n",
    "Public: Public members are accessible from outside the class. They can be freely accessed and modified using the dot (.) operator.\n",
    "\n",
    "Private: Private members are not accessible from outside the class. They are denoted by prefixing the member name with two underscores (__). Although Python doesn't have true private members, it uses name mangling to make it difficult to access these members directly from outside the class.\n",
    "\n",
    "Protected: Protected members are accessible within the class itself and by its subclasses. They are denoted by prefixing the member name with a single underscore (_).\n",
    "\n",
    "Data Hiding:\n",
    "Data hiding is the practice of restricting direct access to an object's data from outside the class. This means that the internal state of an object is not directly accessible and can only be manipulated through well-defined methods provided by the class.\n",
    "\n",
    "By hiding the internal details of an object's implementation, data hiding helps to:\n",
    "\n",
    "Maintain the integrity of the object's state by preventing unauthorized modifications.\n",
    "Encapsulate the complexity of the class, making it easier to use and understand.\n",
    "Minimize the dependencies between different parts of the code, promoting modularity and reusability.\n",
    "Enhance security by preventing unintended access or manipulation of sensitive data.\n",
    "In Python, data hiding is typically achieved by marking data members as private or protected and providing getter and setter methods to access and modify them. This allows the class to enforce certain constraints or perform validation checks before allowing changes to the object's state, ensuring its consistency and correctness.\n",
    "\n",
    "\n",
    "\n",
    "\n",
    "\n",
    "\"\"\""
   ]
  },
  {
   "cell_type": "code",
   "execution_count": 35,
   "id": "3a9d1e28-9dfb-4147-8871-dc5c2a9fdb86",
   "metadata": {},
   "outputs": [
    {
     "name": "stdout",
     "output_type": "stream",
     "text": [
      "Name: Alice\n",
      "Age: 30\n",
      "Modified Name: Bob\n",
      "Modified Age: 25\n"
     ]
    }
   ],
   "source": [
    "class Person:\n",
    "    def __init__(self, name, age):\n",
    "        self.__name = name  # Private attribute\n",
    "        self.__age = age    # Private attribute\n",
    "\n",
    "    # Getter method for name\n",
    "    def get_name(self):\n",
    "        return self.__name\n",
    "\n",
    "    # Setter method for name\n",
    "    def set_name(self, name):\n",
    "        self.__name = name\n",
    "\n",
    "    # Getter method for age\n",
    "    def get_age(self):\n",
    "        return self.__age\n",
    "\n",
    "    # Setter method for age\n",
    "    def set_age(self, age):\n",
    "        if age >= 0:  # Validation check\n",
    "            self.__age = age\n",
    "        else:\n",
    "            print(\"Age cannot be negative.\")\n",
    "\n",
    "# Creating an instance of the Person class\n",
    "person1 = Person(\"Alice\", 30)\n",
    "\n",
    "# Accessing attributes using getter methods\n",
    "print(\"Name:\", person1.get_name())  # Output: Name: Alice\n",
    "print(\"Age:\", person1.get_age())    # Output: Age: 30\n",
    "\n",
    "# Modifying attributes using setter methods\n",
    "person1.set_name(\"Bob\")\n",
    "person1.set_age(25)\n",
    "\n",
    "# Accessing modified attributes\n",
    "print(\"Modified Name:\", person1.get_name())  # Output: Modified Name: Bob\n",
    "print(\"Modified Age:\", person1.get_age())    # Output: Modified Age: 25\n",
    "\n",
    "# Trying to access private attributes directly (will raise an error)\n",
    "# print(person1.__name)  # This will raise an AttributeError\n"
   ]
  },
  {
   "cell_type": "code",
   "execution_count": 37,
   "id": "cfd868a1-11c1-48f1-96ce-04caa3c08192",
   "metadata": {},
   "outputs": [
    {
     "name": "stdout",
     "output_type": "stream",
     "text": [
      "Name: Alice\n",
      "Modified Name: Bob\n"
     ]
    }
   ],
   "source": [
    "class Person:\n",
    "    def __init__(self, name):\n",
    "        self.__name = name \n",
    "\n",
    "    def get_name(self):\n",
    "        return self.__name\n",
    "\n",
    "    def set_name(self, name):\n",
    "        self.__name = name\n",
    "\n",
    "person1 = Person(\"Alice\")\n",
    "\n",
    "# Accessing attributes using getter methods\n",
    "print(\"Name:\", person1.get_name())  \n",
    "\n",
    "# Modifying attributes using setter methods\n",
    "person1.set_name(\"Bob\")\n",
    "\n",
    "# Accessing modified attributes\n",
    "print(\"Modified Name:\", person1.get_name()) \n"
   ]
  },
  {
   "cell_type": "code",
   "execution_count": 39,
   "id": "7c662b4f-d71e-48a6-963d-cfc35374bab7",
   "metadata": {},
   "outputs": [
    {
     "name": "stdout",
     "output_type": "stream",
     "text": [
      "Name: Alice\n",
      "Modified Name: Bob\n"
     ]
    }
   ],
   "source": [
    "\"\"\"Getter methods are used to retrieve the values of private attributes of a class. They provide read-only access to these attributes.\n",
    "Setter methods are used to modify the values of private attributes of a class. They provide a controlled way to update the state of the object, often including validation checks.\"\"\"\n",
    "class Person:\n",
    "    def __init__(self, name):\n",
    "        self.__name = name \n",
    "\n",
    "    def get_name(self):\n",
    "        return self.__name\n",
    "\n",
    "    def set_name(self, name):\n",
    "        self.__name = name\n",
    "\n",
    "person1 = Person(\"Alice\")\n",
    "\n",
    "# Accessing attributes using getter methods\n",
    "print(\"Name:\", person1.get_name())  \n",
    "\n",
    "# Modifying attributes using setter methods\n",
    "person1.set_name(\"Bob\")\n",
    "\n",
    "# Accessing modified attributes\n",
    "print(\"Modified Name:\", person1.get_name()) \n"
   ]
  },
  {
   "cell_type": "code",
   "execution_count": 43,
   "id": "984399fb-e139-4b21-9078-d2df8414b09c",
   "metadata": {},
   "outputs": [
    {
     "data": {
      "text/plain": [
       "\"Name mangling is a technique used in Python to make class members (attributes and methods) private to the class where they are defined. It involves prefixing the member name with two underscores (__) but not ending with more than one underscore or no underscores. This mechanism is applied to attributes and methods whose names are prefixed with double underscores but not suffixed with more than one underscore.\\n\\nWhen name mangling is applied to an attribute or method name in a class, Python internally modifies the name of that member by adding the class name as a prefix followed by an underscore. This prevents accidental access to these members from outside the class.\\n\\nHere's how name mangling works:\\n\\nA member name like __name within a class ClassName is internally modified to _ClassName__name.\\nThis modification ensures that the member is still accessible within the class using its original name but is not easily accessible from outside the class.\\nName mangling affects encapsulation by providing a form of pseudo-private members. It enforces a degree of encapsulation by making it harder for external code to access or modify these members directly. However, it's essential to note that name mangling is more of a convention than a true access control mechanism in Python. It doesn't entirely prevent access to the members, but rather discourages direct access by making the names less predictable.\""
      ]
     },
     "execution_count": 43,
     "metadata": {},
     "output_type": "execute_result"
    }
   ],
   "source": [
    "\"\"\"Name mangling is a technique used in Python to make class members (attributes and methods) private to the class where they are defined. It involves prefixing the member name with two underscores (__) but not ending with more than one underscore or no underscores. This mechanism is applied to attributes and methods whose names are prefixed with double underscores but not suffixed with more than one underscore.\n",
    "\n",
    "When name mangling is applied to an attribute or method name in a class, Python internally modifies the name of that member by adding the class name as a prefix followed by an underscore. This prevents accidental access to these members from outside the class.\n",
    "\n",
    "Here's how name mangling works:\n",
    "\n",
    "A member name like __name within a class ClassName is internally modified to _ClassName__name.\n",
    "This modification ensures that the member is still accessible within the class using its original name but is not easily accessible from outside the class.\n",
    "Name mangling affects encapsulation by providing a form of pseudo-private members. It enforces a degree of encapsulation by making it harder for external code to access or modify these members directly. However, it's essential to note that name mangling is more of a convention than a true access control mechanism in Python. It doesn't entirely prevent access to the members, but rather discourages direct access by making the names less predictable.\"\"\""
   ]
  },
  {
   "cell_type": "code",
   "execution_count": 42,
   "id": "42a696fe-7b9b-4826-a199-0c71e6a94b95",
   "metadata": {},
   "outputs": [
    {
     "name": "stdout",
     "output_type": "stream",
     "text": [
      "Account Number: 123456789\n",
      "Initial Balance: 1000\n",
      "Deposited $500. New balance: $1500\n",
      "Withdrew $200. New balance: $1300\n",
      "Current Balance: 1300\n"
     ]
    }
   ],
   "source": [
    "class BankAccount:\n",
    "    def __init__(self, account_number, initial_balance=0):\n",
    "        self.__account_number = account_number\n",
    "        self.__balance = initial_balance\n",
    "\n",
    "    def deposit(self, amount):\n",
    "        if amount > 0:\n",
    "            self.__balance += amount\n",
    "            print(f\"Deposited ${amount}. New balance: ${self.__balance}\")\n",
    "        else:\n",
    "            print(\"Invalid deposit amount. Please deposit a positive amount.\")\n",
    "\n",
    "    def withdraw(self, amount):\n",
    "        if 0 < amount <= self.__balance:\n",
    "            self.__balance -= amount\n",
    "            print(f\"Withdrew ${amount}. New balance: ${self.__balance}\")\n",
    "        else:\n",
    "            print(\"Invalid withdrawal amount or insufficient funds.\")\n",
    "\n",
    "    def get_balance(self):\n",
    "        return self.__balance\n",
    "\n",
    "    def get_account_number(self):\n",
    "        return self.__account_number\n",
    "\n",
    "account = BankAccount(\"123456789\", 1000)\n",
    "print(\"Account Number:\", account.get_account_number())  \n",
    "print(\"Initial Balance:\", account.get_balance())      \n",
    "\n",
    "account.deposit(500)  \n",
    "account.withdraw(200) \n",
    "\n",
    "print(\"Current Balance:\", account.get_balance())  \n"
   ]
  },
  {
   "cell_type": "code",
   "execution_count": 44,
   "id": "fefa1659-338f-4788-87a7-3161bd1246ca",
   "metadata": {},
   "outputs": [
    {
     "data": {
      "text/plain": [
       "'Encapsulation offers several advantages in terms of code maintainability and security:\\n\\n1. **Modularity and Code Organization**:\\n   Encapsulation promotes modularity by encapsulating related data and behavior within a single unit (class). This makes it easier to understand, manage, and modify the codebase, as it breaks down the system into smaller, more manageable components. Each class encapsulates its own state and behavior, leading to a more organized and structured codebase.\\n\\n2. **Code Reusability**:\\n   Encapsulation facilitates code reuse by providing well-defined interfaces for interacting with objects. Since the internal implementation details are hidden, classes can be reused in different contexts without affecting other parts of the codebase. This promotes a more efficient and scalable development process, as developers can leverage existing classes rather than reinventing the wheel.\\n\\n3. **Data Integrity and Consistency**:\\n   By encapsulating data within objects and providing controlled access through methods (getters and setters), encapsulation helps maintain data integrity and consistency. The class can enforce validation checks, constraints, and business rules to ensure that the data remains in a valid and consistent state. This reduces the risk of data corruption or accidental modification, leading to more reliable and robust software.\\n\\n4. **Security**:\\n   Encapsulation enhances security by hiding the internal implementation details of a class and exposing only the necessary interfaces to interact with objects. Private members (attributes and methods) are inaccessible from outside the class, preventing unauthorized access or manipulation of sensitive data. This reduces the risk of security vulnerabilities such as data breaches, injection attacks, or unintended side effects.\\n\\n5. **Encapsulation of Changes**:\\n   Encapsulation encapsulates changes within the class, limiting the impact of modifications to other parts of the codebase. When the internal implementation of a class needs to be changed, only the class itself needs to be modified, while the rest of the code that interacts with the class remains unaffected. This improves code maintainability and reduces the likelihood of introducing bugs or breaking existing functionality during the development process.\\n\\nOverall, encapsulation is a fundamental principle of object-oriented programming that contributes to the maintainability, scalability, and security of software systems. By encapsulating data and behavior within well-defined units (classes), encapsulation promotes code organization, reusability, data integrity, and security, making it an essential concept in software engineering practices.'"
      ]
     },
     "execution_count": 44,
     "metadata": {},
     "output_type": "execute_result"
    }
   ],
   "source": [
    "\"\"\"Encapsulation offers several advantages in terms of code maintainability and security:\n",
    "\n",
    "1. **Modularity and Code Organization**:\n",
    "   Encapsulation promotes modularity by encapsulating related data and behavior within a single unit (class). This makes it easier to understand, manage, and modify the codebase, as it breaks down the system into smaller, more manageable components. Each class encapsulates its own state and behavior, leading to a more organized and structured codebase.\n",
    "\n",
    "2. **Code Reusability**:\n",
    "   Encapsulation facilitates code reuse by providing well-defined interfaces for interacting with objects. Since the internal implementation details are hidden, classes can be reused in different contexts without affecting other parts of the codebase. This promotes a more efficient and scalable development process, as developers can leverage existing classes rather than reinventing the wheel.\n",
    "\n",
    "3. **Data Integrity and Consistency**:\n",
    "   By encapsulating data within objects and providing controlled access through methods (getters and setters), encapsulation helps maintain data integrity and consistency. The class can enforce validation checks, constraints, and business rules to ensure that the data remains in a valid and consistent state. This reduces the risk of data corruption or accidental modification, leading to more reliable and robust software.\n",
    "\n",
    "4. **Security**:\n",
    "   Encapsulation enhances security by hiding the internal implementation details of a class and exposing only the necessary interfaces to interact with objects. Private members (attributes and methods) are inaccessible from outside the class, preventing unauthorized access or manipulation of sensitive data. This reduces the risk of security vulnerabilities such as data breaches, injection attacks, or unintended side effects.\n",
    "\n",
    "5. **Encapsulation of Changes**:\n",
    "   Encapsulation encapsulates changes within the class, limiting the impact of modifications to other parts of the codebase. When the internal implementation of a class needs to be changed, only the class itself needs to be modified, while the rest of the code that interacts with the class remains unaffected. This improves code maintainability and reduces the likelihood of introducing bugs or breaking existing functionality during the development process.\n",
    "\n",
    "Overall, encapsulation is a fundamental principle of object-oriented programming that contributes to the maintainability, scalability, and security of software systems. By encapsulating data and behavior within well-defined units (classes), encapsulation promotes code organization, reusability, data integrity, and security, making it an essential concept in software engineering practices.\"\"\""
   ]
  },
  {
   "cell_type": "code",
   "execution_count": 45,
   "id": "a9a76ecb-85f6-4d11-b84c-8f1089596389",
   "metadata": {},
   "outputs": [
    {
     "name": "stdout",
     "output_type": "stream",
     "text": [
      "42\n"
     ]
    }
   ],
   "source": [
    "\"\"\"In Python, private attributes are not truly private, but they are conventionally marked as private by prefixing their names with double underscores (__). Python does not enforce strict access control for private attributes, but it implements a technique called name mangling to make it difficult to access them directly from outside the class. However, it is still possible to access private attributes using name mangling.\n",
    "\n",
    "Here's an example demonstrating the use of name mangling to access private attributes in Python:\"\"\"\n",
    "class MyClass:\n",
    "    def __init__(self):\n",
    "        self.__private_attribute = 42\n",
    "\n",
    "# Attempting to access private attribute directly (will raise an AttributeError)\n",
    "# obj = MyClass()\n",
    "# print(obj.__private_attribute)\n",
    "\n",
    "# Accessing private attribute using name mangling\n",
    "obj = MyClass()\n",
    "print(obj._MyClass__private_attribute)  # Output: 42\n"
   ]
  },
  {
   "cell_type": "code",
   "execution_count": 46,
   "id": "ebc286b8-552f-4731-830b-045c5793e9f6",
   "metadata": {},
   "outputs": [
    {
     "name": "stdout",
     "output_type": "stream",
     "text": [
      "Student Name: Alice Smith\n",
      "Updated Student Name: Bob Smith\n",
      "Teacher Name: John Doe\n",
      "Updated Teacher Name: Jane Doe\n",
      "Course Name: Mathematics\n",
      "Updated Course Name: Python Programming\n"
     ]
    }
   ],
   "source": [
    "class Person:\n",
    "    def __init__(self, name, age, gender):\n",
    "        self.__name = name\n",
    "        self.__age = age\n",
    "        self.__gender = gender\n",
    "\n",
    "    def get_name(self):\n",
    "        return self.__name\n",
    "\n",
    "    def set_name(self, name):\n",
    "        self.__name = name\n",
    "\n",
    "    def get_age(self):\n",
    "        return self.__age\n",
    "\n",
    "    def set_age(self, age):\n",
    "        self.__age = age\n",
    "\n",
    "    def get_gender(self):\n",
    "        return self.__gender\n",
    "\n",
    "    def set_gender(self, gender):\n",
    "        self.__gender = gender\n",
    "\n",
    "\n",
    "class Student(Person):\n",
    "    def __init__(self, name, age, gender, student_id):\n",
    "        super().__init__(name, age, gender)\n",
    "        self.__student_id = student_id\n",
    "\n",
    "    def get_student_id(self):\n",
    "        return self.__student_id\n",
    "\n",
    "    def set_student_id(self, student_id):\n",
    "        self.__student_id = student_id\n",
    "\n",
    "\n",
    "class Teacher(Person):\n",
    "    def __init__(self, name, age, gender, employee_id):\n",
    "        super().__init__(name, age, gender)\n",
    "        self.__employee_id = employee_id\n",
    "\n",
    "    def get_employee_id(self):\n",
    "        return self.__employee_id\n",
    "\n",
    "    def set_employee_id(self, employee_id):\n",
    "        self.__employee_id = employee_id\n",
    "\n",
    "\n",
    "class Course:\n",
    "    def __init__(self, course_name, course_code, teacher):\n",
    "        self.__course_name = course_name\n",
    "        self.__course_code = course_code\n",
    "        self.__teacher = teacher\n",
    "\n",
    "    def get_course_name(self):\n",
    "        return self.__course_name\n",
    "\n",
    "    def set_course_name(self, course_name):\n",
    "        self.__course_name = course_name\n",
    "\n",
    "    def get_course_code(self):\n",
    "        return self.__course_code\n",
    "\n",
    "    def set_course_code(self, course_code):\n",
    "        self.__course_code = course_code\n",
    "\n",
    "    def get_teacher(self):\n",
    "        return self.__teacher\n",
    "\n",
    "    def set_teacher(self, teacher):\n",
    "        self.__teacher = teacher\n",
    "\n",
    "teacher = Teacher(\"John Doe\", 40, \"Male\", \"T123\")\n",
    "student = Student(\"Alice Smith\", 18, \"Female\", \"S456\")\n",
    "course = Course(\"Mathematics\", \"MATH101\", teacher)\n",
    "\n",
    "print(\"Student Name:\", student.get_name())\n",
    "student.set_name(\"Bob Smith\")\n",
    "print(\"Updated Student Name:\", student.get_name())\n",
    "\n",
    "print(\"Teacher Name:\", teacher.get_name())\n",
    "teacher.set_name(\"Jane Doe\")\n",
    "print(\"Updated Teacher Name:\", teacher.get_name())\n",
    "\n",
    "print(\"Course Name:\", course.get_course_name())\n",
    "course.set_course_name(\"Python Programming\")\n",
    "print(\"Updated Course Name:\", course.get_course_name())\n"
   ]
  },
  {
   "cell_type": "code",
   "execution_count": 47,
   "id": "88f50eeb-78d4-40d1-bf73-609cf1f5e03d",
   "metadata": {},
   "outputs": [
    {
     "data": {
      "text/plain": [
       "\"In Python, property decorators are a built-in feature that allows developers to define properties in classes. These properties act like class attributes but are accessed using getter, setter, and deleter methods, allowing for controlled access and manipulation of data. Property decorators provide a convenient way to implement encapsulation by allowing the customization of attribute access and modification behavior while maintaining the appearance of direct attribute access.\\n\\nHere's how property decorators work and their relation to encapsulation:\\n\\nGetter Method:\\nThe @property decorator is used to define a getter method, which allows accessing the value of a property. When an instance of the class accesses the property, the getter method is automatically called to retrieve the value.\\n\\nSetter Method:\\nThe @<property_name>.setter decorator is used to define a setter method, which allows modifying the value of a property. When an instance of the class assigns a new value to the property, the setter method is automatically called to validate and update the value.\\n\\nDeleter Method:\\nThe @<property_name>.deleter decorator is used to define a deleter method, which allows deleting a property from an instance of the class. When del is used on the property, the deleter method is automatically called to perform any cleanup actions.\\n\\nProperty decorators allow for the implementation of computed properties, data validation, and data manipulation before setting or retrieving the value. This enables developers to enforce encapsulation by controlling how data is accessed and modified, ensuring data integrity and consistency.\""
      ]
     },
     "execution_count": 47,
     "metadata": {},
     "output_type": "execute_result"
    }
   ],
   "source": [
    "\"\"\"In Python, property decorators are a built-in feature that allows developers to define properties in classes. These properties act like class attributes but are accessed using getter, setter, and deleter methods, allowing for controlled access and manipulation of data. Property decorators provide a convenient way to implement encapsulation by allowing the customization of attribute access and modification behavior while maintaining the appearance of direct attribute access.\n",
    "\n",
    "Here's how property decorators work and their relation to encapsulation:\n",
    "\n",
    "Getter Method:\n",
    "The @property decorator is used to define a getter method, which allows accessing the value of a property. When an instance of the class accesses the property, the getter method is automatically called to retrieve the value.\n",
    "\n",
    "Setter Method:\n",
    "The @<property_name>.setter decorator is used to define a setter method, which allows modifying the value of a property. When an instance of the class assigns a new value to the property, the setter method is automatically called to validate and update the value.\n",
    "\n",
    "Deleter Method:\n",
    "The @<property_name>.deleter decorator is used to define a deleter method, which allows deleting a property from an instance of the class. When del is used on the property, the deleter method is automatically called to perform any cleanup actions.\n",
    "\n",
    "Property decorators allow for the implementation of computed properties, data validation, and data manipulation before setting or retrieving the value. This enables developers to enforce encapsulation by controlling how data is accessed and modified, ensuring data integrity and consistency.\"\"\""
   ]
  },
  {
   "cell_type": "code",
   "execution_count": 48,
   "id": "92b2347b-9be6-46bc-bf9f-0f7383a02020",
   "metadata": {},
   "outputs": [
    {
     "data": {
      "text/plain": [
       "\"Data hiding is a concept in object-oriented programming (OOP) that involves restricting direct access to an \\nobject's data from outside the class and providing controlled access through well-defined methods. It is a \\nfundamental aspect of encapsulation and helps to ensure that the internal state of an object remains private \\nand accessible only through the object's interface.\\nProtection of Object State: By hiding the internal details of an object's state, data hiding protects the integrity and consistency of the object. External code cannot directly modify the object's state, preventing unintended changes and ensuring that the object remains in a valid state.\\n\\nEnhanced Security: Data hiding helps to enhance security by preventing unauthorized access to sensitive data. Private attributes are inaccessible from outside the class, reducing the risk of data breaches or manipulation by malicious code.\\n\\nModularity and Abstraction: Encapsulation, facilitated by data hiding, promotes modularity and abstraction in the codebase. By encapsulating data within objects and providing well-defined interfaces, encapsulation hides the complexity of the implementation details and allows for a clear separation of concerns.\\n\\nEase of Maintenance: Encapsulation and data hiding make the codebase easier to maintain and debug. Changes to the internal implementation of a class can be made without affecting other parts of the codebase, as long as the class's interface remains unchanged. This reduces the risk of introducing bugs and makes it easier to identify and fix issues.\\n\\n\""
      ]
     },
     "execution_count": 48,
     "metadata": {},
     "output_type": "execute_result"
    }
   ],
   "source": [
    "\"\"\"Data hiding is a concept in object-oriented programming (OOP) that involves restricting direct access to an \n",
    "object's data from outside the class and providing controlled access through well-defined methods. It is a \n",
    "fundamental aspect of encapsulation and helps to ensure that the internal state of an object remains private \n",
    "and accessible only through the object's interface.\n",
    "Protection of Object State: By hiding the internal details of an object's state, data hiding protects the integrity and consistency of the object. External code cannot directly modify the object's state, preventing unintended changes and ensuring that the object remains in a valid state.\n",
    "\n",
    "Enhanced Security: Data hiding helps to enhance security by preventing unauthorized access to sensitive data. Private attributes are inaccessible from outside the class, reducing the risk of data breaches or manipulation by malicious code.\n",
    "\n",
    "Modularity and Abstraction: Encapsulation, facilitated by data hiding, promotes modularity and abstraction in the codebase. By encapsulating data within objects and providing well-defined interfaces, encapsulation hides the complexity of the implementation details and allows for a clear separation of concerns.\n",
    "\n",
    "Ease of Maintenance: Encapsulation and data hiding make the codebase easier to maintain and debug. Changes to the internal implementation of a class can be made without affecting other parts of the codebase, as long as the class's interface remains unchanged. This reduces the risk of introducing bugs and makes it easier to identify and fix issues.\n",
    "\n",
    "\"\"\""
   ]
  },
  {
   "cell_type": "code",
   "execution_count": 49,
   "id": "d741d74c-54e9-4eac-8a60-973c25b3c01a",
   "metadata": {},
   "outputs": [
    {
     "name": "stdout",
     "output_type": "stream",
     "text": [
      "Yearly Bonus: 5000.0\n",
      "Initial Salary: 50000\n",
      "Updated Salary: 60000\n",
      "Employee ID: E123\n"
     ]
    }
   ],
   "source": [
    "class Employee:\n",
    "    def __init__(self, employee_id, salary):\n",
    "        self.__employee_id = employee_id  # Private attribute\n",
    "        self.__salary = salary            # Private attribute\n",
    "\n",
    "    def calculate_yearly_bonus(self, bonus_percentage):\n",
    "        bonus_amount = self.__salary * (bonus_percentage / 100)\n",
    "        return bonus_amount\n",
    "\n",
    "    # Getter method for employee ID\n",
    "    def get_employee_id(self):\n",
    "        return self.__employee_id\n",
    "\n",
    "    # Getter and setter methods for salary\n",
    "    def get_salary(self):\n",
    "        return self.__salary\n",
    "\n",
    "    def set_salary(self, salary):\n",
    "        self.__salary = salary\n",
    "\n",
    "\n",
    "employee = Employee(\"E123\", 50000)\n",
    "bonus_percentage = 10 \n",
    "yearly_bonus = employee.calculate_yearly_bonus(bonus_percentage)\n",
    "print(\"Yearly Bonus:\", yearly_bonus)\n",
    "print(\"Initial Salary:\", employee.get_salary())\n",
    "employee.set_salary(60000)\n",
    "print(\"Updated Salary:\", employee.get_salary()) \n",
    "print(\"Employee ID:\", employee.get_employee_id())  \n"
   ]
  },
  {
   "cell_type": "code",
   "execution_count": 50,
   "id": "150f469d-b961-4373-a100-2e28dbb5e873",
   "metadata": {},
   "outputs": [
    {
     "data": {
      "text/plain": [
       "\"Accessors and mutators, also known as getter and setter methods, are fundamental components of encapsulation in object-oriented programming. They play a crucial role in maintaining control over attribute access by providing controlled read and write operations on the private attributes of a class.\\n\\nAccessors (Getter Methods):\\n\\nAccessors are methods used to retrieve the values of private attributes from outside the class.\\nThey provide read-only access to private attributes, allowing external code to view but not modify the internal state of the object.\\nAccessors ensure that direct access to private attributes is restricted, maintaining encapsulation and preventing unintended modification of the object's state.\\nMutators (Setter Methods):\\n\\nMutators are methods used to modify the values of private attributes from outside the class.\\nThey provide controlled write access to private attributes, allowing external code to update the internal state of the object.\\nMutators often include validation checks or constraints to ensure that the new attribute value is valid and consistent with the object's behavior.\\nMutators enforce encapsulation by ensuring that modifications to the object's state occur through well-defined interfaces, rather than directly accessing private attributes.\\nHere's how accessors and mutators help maintain control over attribute access and contribute to encapsulation:\\n\\nControlled Access: Accessors and mutators act as intermediaries between external code and private attributes, providing controlled access to the object's internal state. They allow developers to define specific behaviors for reading and writing attribute values, enforcing data integrity and consistency.\\n\\nValidation and Constraints: Mutators enable developers to implement validation checks and constraints on attribute values before allowing modifications. This helps prevent invalid or inconsistent data from being assigned to private attributes, ensuring that the object remains in a valid state.\\n\\nAbstraction: Accessors and mutators abstract the internal representation of the object's state from the external interface. External code interacts with the object through well-defined methods, without needing to know the details of how the object's data is stored or manipulated internally.\\n\\nEncapsulation: By encapsulating attribute access within getter and setter methods, accessors and mutators hide the implementation details of the class and protect the internal state of the object from direct manipulation. This promotes encapsulation by separating the interface from the implementation and controlling access to the object's data.\""
      ]
     },
     "execution_count": 50,
     "metadata": {},
     "output_type": "execute_result"
    }
   ],
   "source": [
    "\"\"\"Accessors and mutators, also known as getter and setter methods, are fundamental components of encapsulation in object-oriented programming. They play a crucial role in maintaining control over attribute access by providing controlled read and write operations on the private attributes of a class.\n",
    "\n",
    "Accessors (Getter Methods):\n",
    "\n",
    "Accessors are methods used to retrieve the values of private attributes from outside the class.\n",
    "They provide read-only access to private attributes, allowing external code to view but not modify the internal state of the object.\n",
    "Accessors ensure that direct access to private attributes is restricted, maintaining encapsulation and preventing unintended modification of the object's state.\n",
    "Mutators (Setter Methods):\n",
    "\n",
    "Mutators are methods used to modify the values of private attributes from outside the class.\n",
    "They provide controlled write access to private attributes, allowing external code to update the internal state of the object.\n",
    "Mutators often include validation checks or constraints to ensure that the new attribute value is valid and consistent with the object's behavior.\n",
    "Mutators enforce encapsulation by ensuring that modifications to the object's state occur through well-defined interfaces, rather than directly accessing private attributes.\n",
    "Here's how accessors and mutators help maintain control over attribute access and contribute to encapsulation:\n",
    "\n",
    "Controlled Access: Accessors and mutators act as intermediaries between external code and private attributes, providing controlled access to the object's internal state. They allow developers to define specific behaviors for reading and writing attribute values, enforcing data integrity and consistency.\n",
    "\n",
    "Validation and Constraints: Mutators enable developers to implement validation checks and constraints on attribute values before allowing modifications. This helps prevent invalid or inconsistent data from being assigned to private attributes, ensuring that the object remains in a valid state.\n",
    "\n",
    "Abstraction: Accessors and mutators abstract the internal representation of the object's state from the external interface. External code interacts with the object through well-defined methods, without needing to know the details of how the object's data is stored or manipulated internally.\n",
    "\n",
    "Encapsulation: By encapsulating attribute access within getter and setter methods, accessors and mutators hide the implementation details of the class and protect the internal state of the object from direct manipulation. This promotes encapsulation by separating the interface from the implementation and controlling access to the object's data.\"\"\""
   ]
  },
  {
   "cell_type": "code",
   "execution_count": 51,
   "id": "329c7bd4-13b7-4419-baf4-9a71a78137a5",
   "metadata": {},
   "outputs": [
    {
     "data": {
      "text/plain": [
       "\"While encapsulation is a powerful concept in object-oriented programming and offers numerous benefits, there are also potential drawbacks or disadvantages associated with its use in Python:\\n\\nIncreased Complexity: Encapsulation often involves creating getter and setter methods for private attributes, which can increase the complexity of the codebase. This additional layer of abstraction may make the code harder to understand, especially for developers who are not familiar with the class's interface.\\n\\nPerformance Overhead: Using getter and setter methods to access and modify private attributes may introduce a slight performance overhead compared to direct attribute access. Although this overhead is typically negligible, it can become significant in performance-sensitive applications.\\n\\nBoilerplate Code: Implementing encapsulation in Python often requires writing boilerplate code for getter and setter methods. This can lead to code duplication and increased verbosity, especially in classes with multiple attributes.\\n\\nViolation of Pythonic Principles: Python emphasizes simplicity and readability, and excessive use of encapsulation may lead to code that is less idiomatic or Pythonic. Python developers often prefer simplicity and straightforwardness over strict encapsulation, especially for small or straightforward classes.\\n\\nDifficulty in Testing: Encapsulation can sometimes make it challenging to write unit tests for classes, especially if the class has complex interactions between its methods and attributes. Mocking or stubbing private attributes can be difficult, leading to less effective testing strategies.\\n\\nOver-Engineering: Encapsulation can be overused, leading to overly complex class hierarchies and unnecessary abstraction layers. This can make the codebase harder to maintain and extend, as developers may need to navigate through multiple levels of encapsulation to understand the system's behavior.\\n\\nLimited Flexibility: Encapsulation can restrict flexibility in certain scenarios, particularly when working with third-party libraries or frameworks that require direct access to class attributes. In such cases, strict encapsulation may need to be relaxed to accommodate external requirements, leading to compromises in design purity.\\n\\nDifficulty in Debugging: Encapsulation can sometimes make it harder to debug code, especially if there are issues related to attribute access or modification. Identifying the root cause of problems may require tracing through multiple layers of encapsulation, increasing the time and effort required for debugging.\""
      ]
     },
     "execution_count": 51,
     "metadata": {},
     "output_type": "execute_result"
    }
   ],
   "source": [
    "\"\"\"While encapsulation is a powerful concept in object-oriented programming and offers numerous benefits, there are also potential drawbacks or disadvantages associated with its use in Python:\n",
    "\n",
    "Increased Complexity: Encapsulation often involves creating getter and setter methods for private attributes, which can increase the complexity of the codebase. This additional layer of abstraction may make the code harder to understand, especially for developers who are not familiar with the class's interface.\n",
    "\n",
    "Performance Overhead: Using getter and setter methods to access and modify private attributes may introduce a slight performance overhead compared to direct attribute access. Although this overhead is typically negligible, it can become significant in performance-sensitive applications.\n",
    "\n",
    "Boilerplate Code: Implementing encapsulation in Python often requires writing boilerplate code for getter and setter methods. This can lead to code duplication and increased verbosity, especially in classes with multiple attributes.\n",
    "\n",
    "Violation of Pythonic Principles: Python emphasizes simplicity and readability, and excessive use of encapsulation may lead to code that is less idiomatic or Pythonic. Python developers often prefer simplicity and straightforwardness over strict encapsulation, especially for small or straightforward classes.\n",
    "\n",
    "Difficulty in Testing: Encapsulation can sometimes make it challenging to write unit tests for classes, especially if the class has complex interactions between its methods and attributes. Mocking or stubbing private attributes can be difficult, leading to less effective testing strategies.\n",
    "\n",
    "Over-Engineering: Encapsulation can be overused, leading to overly complex class hierarchies and unnecessary abstraction layers. This can make the codebase harder to maintain and extend, as developers may need to navigate through multiple levels of encapsulation to understand the system's behavior.\n",
    "\n",
    "Limited Flexibility: Encapsulation can restrict flexibility in certain scenarios, particularly when working with third-party libraries or frameworks that require direct access to class attributes. In such cases, strict encapsulation may need to be relaxed to accommodate external requirements, leading to compromises in design purity.\n",
    "\n",
    "Difficulty in Debugging: Encapsulation can sometimes make it harder to debug code, especially if there are issues related to attribute access or modification. Identifying the root cause of problems may require tracing through multiple layers of encapsulation, increasing the time and effort required for debugging.\"\"\""
   ]
  },
  {
   "cell_type": "code",
   "execution_count": 52,
   "id": "de6cd1bf-05f9-4491-8345-f46565bb100a",
   "metadata": {},
   "outputs": [
    {
     "name": "stdout",
     "output_type": "stream",
     "text": [
      "Book 1:\n",
      "Title: To Kill a Mockingbird\n",
      "Author: Harper Lee\n",
      "Available: True\n",
      "The book 'To Kill a Mockingbird' by Harper Lee has been checked out.\n",
      "The book 'To Kill a Mockingbird' by Harper Lee has been checked in.\n",
      "\n",
      "Book 2:\n",
      "Title: 1984\n",
      "Author: George Orwell\n",
      "Available: False\n",
      "The book '1984' by George Orwell is not available.\n",
      "The book '1984' by George Orwell has been checked in.\n"
     ]
    }
   ],
   "source": [
    "class Book:\n",
    "    def __init__(self, title, author, available=True):\n",
    "        self.__title = title\n",
    "        self.__author = author\n",
    "        self.__available = available\n",
    "\n",
    "    def get_title(self):\n",
    "        return self.__title\n",
    "\n",
    "    def set_title(self, title):\n",
    "        self.__title = title\n",
    "\n",
    "    def get_author(self):\n",
    "        return self.__author\n",
    "\n",
    "    def set_author(self, author):\n",
    "        self.__author = author\n",
    "\n",
    "    def is_available(self):\n",
    "        return self.__available\n",
    "\n",
    "    def check_out(self):\n",
    "        if self.__available:\n",
    "            self.__available = False\n",
    "            print(f\"The book '{self.__title}' by {self.__author} has been checked out.\")\n",
    "        else:\n",
    "            print(f\"The book '{self.__title}' by {self.__author} is not available.\")\n",
    "\n",
    "    def check_in(self):\n",
    "        if not self.__available:\n",
    "            self.__available = True\n",
    "            print(f\"The book '{self.__title}' by {self.__author} has been checked in.\")\n",
    "        else:\n",
    "            print(f\"The book '{self.__title}' by {self.__author} is already available.\")\n",
    "\n",
    "# Example usage:\n",
    "book1 = Book(\"To Kill a Mockingbird\", \"Harper Lee\")\n",
    "book2 = Book(\"1984\", \"George Orwell\", False)\n",
    "\n",
    "print(\"Book 1:\")\n",
    "print(\"Title:\", book1.get_title())\n",
    "print(\"Author:\", book1.get_author())\n",
    "print(\"Available:\", book1.is_available())\n",
    "book1.check_out()\n",
    "book1.check_in()\n",
    "\n",
    "print(\"\\nBook 2:\")\n",
    "print(\"Title:\", book2.get_title())\n",
    "print(\"Author:\", book2.get_author())\n",
    "print(\"Available:\", book2.is_available())\n",
    "book2.check_out()\n",
    "book2.check_in()\n"
   ]
  },
  {
   "cell_type": "code",
   "execution_count": 53,
   "id": "4b00e850-88c3-4ecc-8612-5a5f9d362c19",
   "metadata": {},
   "outputs": [
    {
     "data": {
      "text/plain": [
       "'Code Reusability:\\nEncapsulation promotes code reusability by encapsulating reusable components within classes or modules. Well-designed classes with clear interfaces can be easily reused in different parts of the codebase or in other projects without modification. By encapsulating functionality within self-contained units, developers can leverage existing code to build new features or applications, reducing development time and effort.\\n\\nModularity:\\nEncapsulation facilitates modularity by breaking down a program into smaller, more manageable units (classes or modules), each with its own well-defined responsibilities and interfaces. Modular design allows developers to work on different parts of the system independently, reducing complexity and improving maintainability. Encapsulated classes can be easily modified or replaced without affecting other parts of the codebase, making it easier to adapt to changing requirements or add new features.'"
      ]
     },
     "execution_count": 53,
     "metadata": {},
     "output_type": "execute_result"
    }
   ],
   "source": [
    "\"\"\"Code Reusability:\n",
    "Encapsulation promotes code reusability by encapsulating reusable components within classes or modules. Well-designed classes with clear interfaces can be easily reused in different parts of the codebase or in other projects without modification. By encapsulating functionality within self-contained units, developers can leverage existing code to build new features or applications, reducing development time and effort.\n",
    "\n",
    "Modularity:\n",
    "Encapsulation facilitates modularity by breaking down a program into smaller, more manageable units (classes or modules), each with its own well-defined responsibilities and interfaces. Modular design allows developers to work on different parts of the system independently, reducing complexity and improving maintainability. Encapsulated classes can be easily modified or replaced without affecting other parts of the codebase, making it easier to adapt to changing requirements or add new features.\"\"\""
   ]
  },
  {
   "cell_type": "code",
   "execution_count": 54,
   "id": "8fa208d2-09d0-4f23-b7d2-9b2ed62aee02",
   "metadata": {},
   "outputs": [
    {
     "data": {
      "text/plain": [
       "'Information hiding is a principle of encapsulation in software development that involves concealing the internal details of a class or module and exposing only the necessary interfaces to interact with it. It aims to restrict access to the implementation details of an object or module, while providing well-defined access points for external code to interact with it. Information hiding ensures that the complexity and internal workings of a system are hidden from external users, promoting simplicity, security, and maintainability.\\n\\nThe essential aspects of information hiding in encapsulation include:\\n\\n1. **Private Members**: Encapsulation allows developers to mark certain members (attributes and methods) of a class as private, making them inaccessible from outside the class. Private members are hidden from external code, preventing direct access or modification and enforcing controlled access through well-defined interfaces.\\n\\n2. **Getter and Setter Methods**: Information hiding is often achieved through getter and setter methods, which provide controlled access to private attributes of a class. Getter methods allow external code to retrieve the values of private attributes, while setter methods enable external code to modify those values. By encapsulating attribute access within methods, developers can enforce validation checks, constraints, or business rules, ensuring data integrity and consistency.\\n\\n3. **Abstraction**: Information hiding promotes abstraction by exposing high-level interfaces that abstract away the implementation details of a class or module. External code interacts with objects through these interfaces, without needing to know the internal workings or representation of the data. This abstraction simplifies the usage of complex systems and shields external code from unnecessary complexity, leading to cleaner, more maintainable code.\\n\\nInformation hiding is essential in software development for several reasons:\\n\\n- **Security**: By hiding the internal details of a class or module, information hiding helps prevent unauthorized access or manipulation of sensitive data. Private members are inaccessible from outside the class, reducing the risk of data breaches or security vulnerabilities.\\n\\n- **Modularity**: Information hiding promotes modularity by encapsulating related data and behavior within self-contained units (classes or modules). Modules can be developed, tested, and maintained independently, reducing dependencies and facilitating code reuse. Encapsulated modules can be easily replaced or modified without affecting other parts of the system, leading to more modular and maintainable codebases.\\n\\n- **Simplicity and Maintainability**: Information hiding simplifies the usage of complex systems by providing clear, well-defined interfaces for external code to interact with. This abstraction hides unnecessary details and reduces cognitive load, making the codebase easier to understand, maintain, and extend. Developers can focus on the high-level functionality of a class or module without needing to worry about its internal implementation details.\\n\\nOverall, information hiding is a fundamental principle of encapsulation that promotes simplicity, security, and modularity in software development. By concealing the internal details of classes or modules and exposing only the necessary interfaces, information hiding enhances code maintainability, security, and flexibility, leading to more robust and scalable software systems.'"
      ]
     },
     "execution_count": 54,
     "metadata": {},
     "output_type": "execute_result"
    }
   ],
   "source": [
    "\"\"\"Information hiding is a principle of encapsulation in software development that involves concealing the internal details of a class or module and exposing only the necessary interfaces to interact with it. It aims to restrict access to the implementation details of an object or module, while providing well-defined access points for external code to interact with it. Information hiding ensures that the complexity and internal workings of a system are hidden from external users, promoting simplicity, security, and maintainability.\n",
    "\n",
    "The essential aspects of information hiding in encapsulation include:\n",
    "\n",
    "1. **Private Members**: Encapsulation allows developers to mark certain members (attributes and methods) of a class as private, making them inaccessible from outside the class. Private members are hidden from external code, preventing direct access or modification and enforcing controlled access through well-defined interfaces.\n",
    "\n",
    "2. **Getter and Setter Methods**: Information hiding is often achieved through getter and setter methods, which provide controlled access to private attributes of a class. Getter methods allow external code to retrieve the values of private attributes, while setter methods enable external code to modify those values. By encapsulating attribute access within methods, developers can enforce validation checks, constraints, or business rules, ensuring data integrity and consistency.\n",
    "\n",
    "3. **Abstraction**: Information hiding promotes abstraction by exposing high-level interfaces that abstract away the implementation details of a class or module. External code interacts with objects through these interfaces, without needing to know the internal workings or representation of the data. This abstraction simplifies the usage of complex systems and shields external code from unnecessary complexity, leading to cleaner, more maintainable code.\n",
    "\n",
    "Information hiding is essential in software development for several reasons:\n",
    "\n",
    "- **Security**: By hiding the internal details of a class or module, information hiding helps prevent unauthorized access or manipulation of sensitive data. Private members are inaccessible from outside the class, reducing the risk of data breaches or security vulnerabilities.\n",
    "\n",
    "- **Modularity**: Information hiding promotes modularity by encapsulating related data and behavior within self-contained units (classes or modules). Modules can be developed, tested, and maintained independently, reducing dependencies and facilitating code reuse. Encapsulated modules can be easily replaced or modified without affecting other parts of the system, leading to more modular and maintainable codebases.\n",
    "\n",
    "- **Simplicity and Maintainability**: Information hiding simplifies the usage of complex systems by providing clear, well-defined interfaces for external code to interact with. This abstraction hides unnecessary details and reduces cognitive load, making the codebase easier to understand, maintain, and extend. Developers can focus on the high-level functionality of a class or module without needing to worry about its internal implementation details.\n",
    "\n",
    "Overall, information hiding is a fundamental principle of encapsulation that promotes simplicity, security, and modularity in software development. By concealing the internal details of classes or modules and exposing only the necessary interfaces, information hiding enhances code maintainability, security, and flexibility, leading to more robust and scalable software systems.\"\"\""
   ]
  },
  {
   "cell_type": "code",
   "execution_count": 58,
   "id": "1663536f-32c8-43ad-9d8b-a869a58ab699",
   "metadata": {},
   "outputs": [
    {
     "name": "stdout",
     "output_type": "stream",
     "text": [
      "Aayush\n",
      "Chandigarh\n",
      "8102524225\n"
     ]
    }
   ],
   "source": [
    "class Customer:\n",
    "    def __init__(self,name,address,contact):\n",
    "        self.__name=name\n",
    "        self.__address=address\n",
    "        self.__contact=contact\n",
    "    def get_name(self):\n",
    "        return self.__name\n",
    "    def set_name(self, name):\n",
    "        self.__name = name\n",
    "    def get_address(self):\n",
    "        return self.__address\n",
    "    def set_address(self, address):\n",
    "        self.__address = address\n",
    "    def get_contact(self):\n",
    "        return self.__contact\n",
    "    def set_contact(self, contact):\n",
    "        self.__contact = contact\n",
    "obj=Customer(\"Aayush\",\"Chandigarh\",8102524225)\n",
    "print(obj.get_name())\n",
    "print(obj.get_address())\n",
    "print(obj.get_contact())"
   ]
  },
  {
   "cell_type": "code",
   "execution_count": 1,
   "id": "cfcc7f07-54ee-4ed6-b90c-26413235a93a",
   "metadata": {},
   "outputs": [
    {
     "data": {
      "text/plain": [
       "'Polymorphism in Python is a fundamental concept in object-oriented programming (OOP) where objects can take on different forms or have multiple behaviors depending on the context in which they are used. The term \"polymorphism\" comes from Greek, meaning \"many shapes.\"\\n\\nAt its core, polymorphism allows objects of different classes to be treated as objects of a common superclass. This means that a single interface can be used to manipulate objects of different classes, providing a high level of flexibility and reusability in code.\\n\\nPolymorphism is closely related to two key concepts in OOP:\\n\\nInheritance: Inheritance allows a class (subclass) to inherit attributes and methods from another class (superclass). Polymorphism leverages inheritance by allowing different subclasses to implement methods with the same name as those in the superclass but with different behaviors. This enables code to be written in a way that operates on the superclass, while specific implementations are executed based on the actual object type at runtime.\\n\\nMethod Overriding: Method overriding occurs when a subclass provides a specific implementation of a method that is already defined in its superclass. This is a key mechanism for achieving polymorphism because it allows objects of different classes to respond to the same message (method call) in different ways.'"
      ]
     },
     "execution_count": 1,
     "metadata": {},
     "output_type": "execute_result"
    }
   ],
   "source": [
    "\"\"\"Polymorphism in Python is a fundamental concept in object-oriented programming (OOP) where objects can take on different forms or have multiple behaviors depending on the context in which they are used. The term \"polymorphism\" comes from Greek, meaning \"many shapes.\"\n",
    "\n",
    "At its core, polymorphism allows objects of different classes to be treated as objects of a common superclass. This means that a single interface can be used to manipulate objects of different classes, providing a high level of flexibility and reusability in code.\n",
    "\n",
    "Polymorphism is closely related to two key concepts in OOP:\n",
    "\n",
    "Inheritance: Inheritance allows a class (subclass) to inherit attributes and methods from another class (superclass). Polymorphism leverages inheritance by allowing different subclasses to implement methods with the same name as those in the superclass but with different behaviors. This enables code to be written in a way that operates on the superclass, while specific implementations are executed based on the actual object type at runtime.\n",
    "\n",
    "Method Overriding: Method overriding occurs when a subclass provides a specific implementation of a method that is already defined in its superclass. This is a key mechanism for achieving polymorphism because it allows objects of different classes to respond to the same message (method call) in different ways.\"\"\""
   ]
  },
  {
   "cell_type": "code",
   "execution_count": 2,
   "id": "124ada6d-fa7d-433d-9fb9-22476332d7fa",
   "metadata": {},
   "outputs": [
    {
     "data": {
      "text/plain": [
       "'Compile-time polymorphism refers to polymorphic behavior that is resolved during the compilation phase of the program.\\nIn languages like Python, compile-time polymorphism is typically achieved through method overloading or function overloading.\\nRuntime polymorphism refers to polymorphic behavior that is resolved during the runtime of the program.\\nIn languages like Python, runtime polymorphism is achieved through method overriding.\\nMethod overriding occurs when a subclass provides a specific implementation of a method that is already defined in its superclass. The decision about which method to call is made at runtime based on the actual type of the object.'"
      ]
     },
     "execution_count": 2,
     "metadata": {},
     "output_type": "execute_result"
    }
   ],
   "source": [
    "\"\"\"Compile-time polymorphism refers to polymorphic behavior that is resolved during the compilation phase of the program.\n",
    "In languages like Python, compile-time polymorphism is typically achieved through method overloading or function overloading.\n",
    "Runtime polymorphism refers to polymorphic behavior that is resolved during the runtime of the program.\n",
    "In languages like Python, runtime polymorphism is achieved through method overriding.\n",
    "Method overriding occurs when a subclass provides a specific implementation of a method that is already defined in its superclass. The decision about which method to call is made at runtime based on the actual type of the object.\"\"\""
   ]
  },
  {
   "cell_type": "code",
   "execution_count": 3,
   "id": "23f082e8-efa8-4841-9251-ca049d52e35d",
   "metadata": {},
   "outputs": [
    {
     "name": "stdout",
     "output_type": "stream",
     "text": [
      "Area of Circle is: 78.54\n",
      "Area of Square is: 16.00\n",
      "Area of Triangle is: 9.00\n"
     ]
    }
   ],
   "source": [
    "import math\n",
    "\n",
    "class Shape:\n",
    "    def calculate_area(self):\n",
    "        pass\n",
    "\n",
    "class Circle(Shape):\n",
    "    def __init__(self, radius):\n",
    "        self.radius = radius\n",
    "\n",
    "    def calculate_area(self):\n",
    "        return math.pi * self.radius**2\n",
    "\n",
    "class Square(Shape):\n",
    "    def __init__(self, side_length):\n",
    "        self.side_length = side_length\n",
    "\n",
    "    def calculate_area(self):\n",
    "        return self.side_length**2\n",
    "\n",
    "class Triangle(Shape):\n",
    "    def __init__(self, base, height):\n",
    "        self.base = base\n",
    "        self.height = height\n",
    "\n",
    "    def calculate_area(self):\n",
    "        return 0.5 * self.base * self.height\n",
    "\n",
    "# Demonstration of polymorphism\n",
    "shapes = [Circle(5), Square(4), Triangle(3, 6)]\n",
    "\n",
    "for shape in shapes:\n",
    "    print(\"Area of {} is: {:.2f}\".format(type(shape).__name__, shape.calculate_area()))\n"
   ]
  },
  {
   "cell_type": "code",
   "execution_count": 4,
   "id": "6a8fc666-aeea-4656-9b28-89c555078579",
   "metadata": {},
   "outputs": [
    {
     "name": "stdout",
     "output_type": "stream",
     "text": [
      "Generic animal sound\n",
      "Woof!\n",
      "Meow!\n"
     ]
    }
   ],
   "source": [
    "class Animal:\n",
    "    def sound(self):\n",
    "        return \"Generic animal sound\"\n",
    "\n",
    "class Dog(Animal):\n",
    "    def sound(self):\n",
    "        return \"Woof!\"\n",
    "\n",
    "class Cat(Animal):\n",
    "    def sound(self):\n",
    "        return \"Meow!\"\n",
    "\n",
    "# Example usage\n",
    "animal = Animal()\n",
    "dog = Dog()\n",
    "cat = Cat()\n",
    "\n",
    "print(animal.sound())  # Output: Generic animal sound\n",
    "print(dog.sound())     # Output: Woof!\n",
    "print(cat.sound())     # Output: Meow!\n"
   ]
  },
  {
   "cell_type": "code",
   "execution_count": 5,
   "id": "6bfb3b68-3bd5-4a68-af99-6ee397d54acc",
   "metadata": {},
   "outputs": [
    {
     "data": {
      "text/plain": [
       "'polymorphism allows objects of different classes to be treated as instances of a common superclass\\nand is achieved through method overriding, while method overloading refers to the ability to define \\nmultiple methods with the same name but different signatures, which is not directly supported in Python\\nfor method calls based on different parameter types or counts.'"
      ]
     },
     "execution_count": 5,
     "metadata": {},
     "output_type": "execute_result"
    }
   ],
   "source": [
    " \"\"\"polymorphism allows objects of different classes to be treated as instances of a common superclass\n",
    " and is achieved through method overriding, while method overloading refers to the ability to define \n",
    " multiple methods with the same name but different signatures, which is not directly supported in Python\n",
    " for method calls based on different parameter types or counts.\"\"\""
   ]
  },
  {
   "cell_type": "code",
   "execution_count": 6,
   "id": "23ef77a1-dd8f-407d-99ad-881c7402c4a7",
   "metadata": {},
   "outputs": [
    {
     "name": "stdout",
     "output_type": "stream",
     "text": [
      "Woof!\n",
      "Meow!\n",
      "Chirp!\n"
     ]
    }
   ],
   "source": [
    "class Animal:\n",
    "    def speak(self):\n",
    "        return \"An animal speaks\"\n",
    "\n",
    "class Dog(Animal):\n",
    "    def speak(self):\n",
    "        return \"Woof!\"\n",
    "\n",
    "class Cat(Animal):\n",
    "    def speak(self):\n",
    "        return \"Meow!\"\n",
    "\n",
    "class Bird(Animal):\n",
    "    def speak(self):\n",
    "        return \"Chirp!\"\n",
    "\n",
    "# Demonstration of polymorphism\n",
    "animals = [Dog(), Cat(), Bird()]\n",
    "\n",
    "for animal in animals:\n",
    "    print(animal.speak())\n"
   ]
  },
  {
   "cell_type": "code",
   "execution_count": 7,
   "id": "e8d4644c-16c0-4533-a569-bcb6d77151a2",
   "metadata": {},
   "outputs": [
    {
     "name": "stdout",
     "output_type": "stream",
     "text": [
      "Woof!\n",
      "Meow!\n",
      "Chirp!\n"
     ]
    }
   ],
   "source": [
    "from abc import ABC, abstractmethod\n",
    "\n",
    "class Animal(ABC):  # Abstract base class\n",
    "    @abstractmethod\n",
    "    def speak(self):\n",
    "        pass\n",
    "\n",
    "class Dog(Animal):\n",
    "    def speak(self):\n",
    "        return \"Woof!\"\n",
    "\n",
    "class Cat(Animal):\n",
    "    def speak(self):\n",
    "        return \"Meow!\"\n",
    "\n",
    "class Bird(Animal):\n",
    "    def speak(self):\n",
    "        return \"Chirp!\"\n",
    "\n",
    "# Demonstration of polymorphism\n",
    "animals = [Dog(), Cat(), Bird()]\n",
    "\n",
    "for animal in animals:\n",
    "    print(animal.speak())\n"
   ]
  },
  {
   "cell_type": "code",
   "execution_count": 8,
   "id": "5ec6b5bc-6822-450c-b825-2d75db467c59",
   "metadata": {},
   "outputs": [
    {
     "name": "stdout",
     "output_type": "stream",
     "text": [
      "Car started. Vroom Vroom!\n",
      "Bicycle started. Pedal pedal!\n",
      "Boat started. Row row!\n"
     ]
    }
   ],
   "source": [
    "class Vehicle:\n",
    "    def start(self):\n",
    "        pass\n",
    "\n",
    "class Car(Vehicle):\n",
    "    def start(self):\n",
    "        return \"Car started. Vroom Vroom!\"\n",
    "\n",
    "class Bicycle(Vehicle):\n",
    "    def start(self):\n",
    "        return \"Bicycle started. Pedal pedal!\"\n",
    "\n",
    "class Boat(Vehicle):\n",
    "    def start(self):\n",
    "        return \"Boat started. Row row!\"\n",
    "\n",
    "# Demonstration of polymorphism\n",
    "vehicles = [Car(), Bicycle(), Boat()]\n",
    "\n",
    "for vehicle in vehicles:\n",
    "    print(vehicle.start())\n"
   ]
  },
  {
   "cell_type": "code",
   "execution_count": 9,
   "id": "9b0dd654-cbc0-437e-bc82-ae0bf8e01f0f",
   "metadata": {},
   "outputs": [
    {
     "data": {
      "text/plain": [
       "'The isinstance() and issubclass() functions in Python are significant tools for working with polymorphism,\\nas they allow you to check the type relationships between objects and classes, respectively.\\nThe isinstance() function is used to determine whether an object is an instance of a particular class or any of its subclasses. It checks if an object belongs to a specific class or to a subclass of that class.\\nThe issubclass() function is used to determine whether a class is a subclass of another class. It checks if a class inherits from another class.'"
      ]
     },
     "execution_count": 9,
     "metadata": {},
     "output_type": "execute_result"
    }
   ],
   "source": [
    "\"\"\"The isinstance() and issubclass() functions in Python are significant tools for working with polymorphism,\n",
    "as they allow you to check the type relationships between objects and classes, respectively.\n",
    "The isinstance() function is used to determine whether an object is an instance of a particular class or any of its subclasses. It checks if an object belongs to a specific class or to a subclass of that class.\n",
    "The issubclass() function is used to determine whether a class is a subclass of another class. It checks if a class inherits from another class.\"\"\""
   ]
  },
  {
   "cell_type": "code",
   "execution_count": 10,
   "id": "60861142-054d-4d86-abe4-81de6cda7ca2",
   "metadata": {},
   "outputs": [
    {
     "name": "stdout",
     "output_type": "stream",
     "text": [
      "Area of circle: 78.5\n",
      "Area of square: 16\n"
     ]
    }
   ],
   "source": [
    "from abc import ABC, abstractmethod\n",
    "\n",
    "class Shape(ABC):  # Abstract base class\n",
    "    @abstractmethod\n",
    "    def area(self):\n",
    "        pass\n",
    "\n",
    "class Circle(Shape):\n",
    "    def __init__(self, radius):\n",
    "        self.radius = radius\n",
    "\n",
    "    def area(self):\n",
    "        return 3.14 * self.radius**2\n",
    "\n",
    "class Square(Shape):\n",
    "    def __init__(self, side_length):\n",
    "        self.side_length = side_length\n",
    "\n",
    "    def area(self):\n",
    "        return self.side_length**2\n",
    "\n",
    "# Attempting to instantiate an abstract class will raise an error\n",
    "# shape = Shape()  # Uncommenting this line will raise an error\n",
    "\n",
    "# Instantiate concrete subclasses and call their methods\n",
    "circle = Circle(5)\n",
    "square = Square(4)\n",
    "\n",
    "print(\"Area of circle:\", circle.area())  # Output: Area of circle: 78.5\n",
    "print(\"Area of square:\", square.area())  # Output: Area of square: 16\n"
   ]
  },
  {
   "cell_type": "code",
   "execution_count": 11,
   "id": "9f549131-98eb-44f1-aaf8-965e7644fdc7",
   "metadata": {},
   "outputs": [
    {
     "name": "stdout",
     "output_type": "stream",
     "text": [
      "Area of circle: 78.53981633974483\n",
      "Area of rectangle: 24\n",
      "Area of triangle: 6.0\n"
     ]
    }
   ],
   "source": [
    "import math\n",
    "\n",
    "class Shape:\n",
    "    def area(self):\n",
    "        pass\n",
    "\n",
    "class Circle(Shape):\n",
    "    def __init__(self, radius):\n",
    "        self.radius = radius\n",
    "\n",
    "    def area(self):\n",
    "        return math.pi * self.radius**2\n",
    "\n",
    "class Rectangle(Shape):\n",
    "    def __init__(self, width, height):\n",
    "        self.width = width\n",
    "        self.height = height\n",
    "\n",
    "    def area(self):\n",
    "        return self.width * self.height\n",
    "\n",
    "class Triangle(Shape):\n",
    "    def __init__(self, base, height):\n",
    "        self.base = base\n",
    "        self.height = height\n",
    "\n",
    "    def area(self):\n",
    "        return 0.5 * self.base * self.height\n",
    "\n",
    "# Demonstration\n",
    "circle = Circle(5)\n",
    "rectangle = Rectangle(4, 6)\n",
    "triangle = Triangle(3, 4)\n",
    "\n",
    "print(\"Area of circle:\", circle.area())        # Output: Area of circle: 78.53981633974483\n",
    "print(\"Area of rectangle:\", rectangle.area())  # Output: Area of rectangle: 24\n",
    "print(\"Area of triangle:\", triangle.area())    # Output: Area of triangle: 6.0\n"
   ]
  },
  {
   "cell_type": "code",
   "execution_count": 12,
   "id": "fa044f6f-6629-4129-aff1-dfeeec7dd484",
   "metadata": {},
   "outputs": [
    {
     "data": {
      "text/plain": [
       "'Polymorphism offers several benefits in terms of code reusability and flexibility in Python programs:\\n\\n1. **Code Reusability**:\\n   - Polymorphism allows different objects to be treated uniformly through their common superclass, facilitating the reuse of code that operates on objects of different types.\\n   - By defining a common interface (e.g., methods) in a superclass and providing different implementations in subclasses, you can write code that can be reused with different types of objects without modification.\\n   - This promotes modular and maintainable code, as common functionality can be encapsulated in a superclass and reused across multiple subclasses.\\n\\n2. **Flexibility**:\\n   - Polymorphism enables flexible and extensible designs by decoupling client code from specific implementations.\\n   - New subclasses can be easily added to extend the functionality without modifying existing code. Since client code interacts with objects through their common superclass interface, it does not need to be modified to accommodate new subclasses.\\n   - This promotes scalability and adaptability, allowing the system to evolve over time with minimal impact on existing code.\\n\\n3. **Encapsulation**:\\n   - Polymorphism encourages encapsulation by promoting a separation of concerns between client code and implementation details.\\n   - Client code interacts with objects through their common interface (e.g., methods defined in the superclass), without needing to know the specific implementation details of each subclass.\\n   - This enhances code maintainability and reduces dependencies, as changes to the implementation details of a subclass do not affect client code as long as the common interface remains unchanged.\\n\\n4. **Simplified Design**:\\n   - Polymorphism enables the creation of simpler and more elegant designs by abstracting away implementation details and focusing on behavior.\\n   - By defining a common interface in a superclass, you can express intent at a higher level of abstraction, making the code easier to understand and reason about.\\n   - This promotes readability and reduces the complexity of the codebase, leading to better overall software quality.\\n\\nIn summary, polymorphism in Python promotes code reusability, flexibility, encapsulation, and simplified design, making it a powerful tool for building robust and maintainable software systems. By leveraging polymorphism, developers can write more modular, scalable, and adaptable code that can evolve over time with minimal effort.'"
      ]
     },
     "execution_count": 12,
     "metadata": {},
     "output_type": "execute_result"
    }
   ],
   "source": [
    "\"\"\"Polymorphism offers several benefits in terms of code reusability and flexibility in Python programs:\n",
    "\n",
    "1. **Code Reusability**:\n",
    "   - Polymorphism allows different objects to be treated uniformly through their common superclass, facilitating the reuse of code that operates on objects of different types.\n",
    "   - By defining a common interface (e.g., methods) in a superclass and providing different implementations in subclasses, you can write code that can be reused with different types of objects without modification.\n",
    "   - This promotes modular and maintainable code, as common functionality can be encapsulated in a superclass and reused across multiple subclasses.\n",
    "\n",
    "2. **Flexibility**:\n",
    "   - Polymorphism enables flexible and extensible designs by decoupling client code from specific implementations.\n",
    "   - New subclasses can be easily added to extend the functionality without modifying existing code. Since client code interacts with objects through their common superclass interface, it does not need to be modified to accommodate new subclasses.\n",
    "   - This promotes scalability and adaptability, allowing the system to evolve over time with minimal impact on existing code.\n",
    "\n",
    "3. **Encapsulation**:\n",
    "   - Polymorphism encourages encapsulation by promoting a separation of concerns between client code and implementation details.\n",
    "   - Client code interacts with objects through their common interface (e.g., methods defined in the superclass), without needing to know the specific implementation details of each subclass.\n",
    "   - This enhances code maintainability and reduces dependencies, as changes to the implementation details of a subclass do not affect client code as long as the common interface remains unchanged.\n",
    "\n",
    "4. **Simplified Design**:\n",
    "   - Polymorphism enables the creation of simpler and more elegant designs by abstracting away implementation details and focusing on behavior.\n",
    "   - By defining a common interface in a superclass, you can express intent at a higher level of abstraction, making the code easier to understand and reason about.\n",
    "   - This promotes readability and reduces the complexity of the codebase, leading to better overall software quality.\n",
    "\n",
    "In summary, polymorphism in Python promotes code reusability, flexibility, encapsulation, and simplified design, making it a powerful tool for building robust and maintainable software systems. By leveraging polymorphism, developers can write more modular, scalable, and adaptable code that can evolve over time with minimal effort.\"\"\""
   ]
  },
  {
   "cell_type": "code",
   "execution_count": 13,
   "id": "84b6e55b-0001-4cf8-9ad7-11ab3b4f3d9d",
   "metadata": {},
   "outputs": [
    {
     "data": {
      "text/plain": [
       "'class Animal:\\n    def speak(self):\\n        return \"Generic animal sound\"\\n\\nclass Dog(Animal):\\n    def speak(self):\\n        return \"Woof!\" + \" \" + super().speak()\\n\\nclass Cat(Animal):\\n    def speak(self):\\n        return \"Meow!\" + \" \" + super().speak()\\n\\n# Example usage\\ndog = Dog()\\ncat = Cat()\\n\\nprint(dog.speak())  # Output: Woof! Generic animal sound\\nprint(cat.speak())  # Output: Meow! Generic animal sound\\n'"
      ]
     },
     "execution_count": 13,
     "metadata": {},
     "output_type": "execute_result"
    }
   ],
   "source": [
    "\"\"\"class Animal:\n",
    "    def speak(self):\n",
    "        return \"Generic animal sound\"\n",
    "\n",
    "class Dog(Animal):\n",
    "    def speak(self):\n",
    "        return \"Woof!\" + \" \" + super().speak()\n",
    "\n",
    "class Cat(Animal):\n",
    "    def speak(self):\n",
    "        return \"Meow!\" + \" \" + super().speak()\n",
    "\n",
    "# Example usage\n",
    "dog = Dog()\n",
    "cat = Cat()\n",
    "\n",
    "print(dog.speak())  # Output: Woof! Generic animal sound\n",
    "print(cat.speak())  # Output: Meow! Generic animal sound\n",
    "\"\"\""
   ]
  },
  {
   "cell_type": "code",
   "execution_count": 14,
   "id": "a500b460-b7eb-483c-b8fa-32ddf5a3f762",
   "metadata": {},
   "outputs": [
    {
     "name": "stdout",
     "output_type": "stream",
     "text": [
      "Withdrawal of $500 successful from savings account. Remaining balance: $500\n",
      "Withdrawal of $500 successful from checking account. Remaining balance: $1500\n",
      "Withdrawal of $500 successful from credit card account. Remaining balance: $-1000\n"
     ]
    }
   ],
   "source": [
    "class Account:\n",
    "    def __init__(self, account_number, balance):\n",
    "        self.account_number = account_number\n",
    "        self.balance = balance\n",
    "\n",
    "    def withdraw(self, amount):\n",
    "        pass\n",
    "\n",
    "class SavingsAccount(Account):\n",
    "    def withdraw(self, amount):\n",
    "        if amount <= self.balance:\n",
    "            self.balance -= amount\n",
    "            return f\"Withdrawal of ${amount} successful from savings account. Remaining balance: ${self.balance}\"\n",
    "        else:\n",
    "            return \"Insufficient funds for withdrawal from savings account.\"\n",
    "\n",
    "class CheckingAccount(Account):\n",
    "    def withdraw(self, amount):\n",
    "        if amount <= self.balance:\n",
    "            self.balance -= amount\n",
    "            return f\"Withdrawal of ${amount} successful from checking account. Remaining balance: ${self.balance}\"\n",
    "        else:\n",
    "            return \"Insufficient funds for withdrawal from checking account.\"\n",
    "\n",
    "class CreditCardAccount(Account):\n",
    "    def withdraw(self, amount):\n",
    "        # For simplicity, assume credit card allows overdraft up to a certain limit\n",
    "        overdraft_limit = 1000\n",
    "        if amount <= self.balance + overdraft_limit:\n",
    "            self.balance -= amount\n",
    "            return f\"Withdrawal of ${amount} successful from credit card account. Remaining balance: ${self.balance}\"\n",
    "        else:\n",
    "            return \"Exceeded credit limit for withdrawal from credit card account.\"\n",
    "\n",
    "# Demonstration of polymorphism\n",
    "savings_account = SavingsAccount(\"SA123\", 1000)\n",
    "checking_account = CheckingAccount(\"CA456\", 2000)\n",
    "credit_card_account = CreditCardAccount(\"CC789\", -500)\n",
    "\n",
    "accounts = [savings_account, checking_account, credit_card_account]\n",
    "\n",
    "for account in accounts:\n",
    "    print(account.withdraw(500))\n"
   ]
  },
  {
   "cell_type": "code",
   "execution_count": 15,
   "id": "91bab4cd-a62b-4e19-b85b-7302e99703b6",
   "metadata": {},
   "outputs": [
    {
     "name": "stdout",
     "output_type": "stream",
     "text": [
      "Addition result: (6, 8)\n",
      "Multiplication result: (4, 6)\n"
     ]
    }
   ],
   "source": [
    "\"\"\"Operator overloading in Python refers to the ability to define custom behavior for operators such as\n",
    "+, -, *, /, and many others when applied to objects of user-defined classes. \n",
    "It allows objects to behave like built-in types and enables the use of \n",
    "operators with user-defined data types, providing a more intuitive and expressive way to work with objects.\"\"\"\n",
    "class Vector:\n",
    "    def __init__(self, x, y):\n",
    "        self.x = x\n",
    "        self.y = y\n",
    "\n",
    "    # Overloading the addition operator (+)\n",
    "    def __add__(self, other):\n",
    "        return Vector(self.x + other.x, self.y + other.y)\n",
    "\n",
    "    # Overloading the multiplication operator (*)\n",
    "    def __mul__(self, scalar):\n",
    "        return Vector(self.x * scalar, self.y * scalar)\n",
    "\n",
    "    def __str__(self):\n",
    "        return f\"({self.x}, {self.y})\"\n",
    "\n",
    "# Example usage of operator overloading\n",
    "v1 = Vector(2, 3)\n",
    "v2 = Vector(4, 5)\n",
    "\n",
    "# Addition\n",
    "result_addition = v1 + v2\n",
    "print(\"Addition result:\", result_addition)  # Output: (6, 8)\n",
    "\n",
    "# Multiplication\n",
    "result_multiplication = v1 * 2\n",
    "print(\"Multiplication result:\", result_multiplication)  # Output: (4, 6)\n"
   ]
  },
  {
   "cell_type": "code",
   "execution_count": 16,
   "id": "4b15e84c-ef42-4ec8-95f5-169326a4f029",
   "metadata": {},
   "outputs": [
    {
     "data": {
      "text/plain": [
       "\"Dynamic polymorphism, also known as runtime polymorphism, refers to the ability of objects to exhibit different behaviors or functionalities based on their actual types during runtime. In dynamic polymorphism, the decision about which method implementation to invoke is made at runtime, based on the actual type of the object rather than its declared type.\\n\\nIn Python, dynamic polymorphism is achieved through method overriding and late binding. Here's how it works:\\n\\nMethod Overriding:\\n\\nMethod overriding is the process of providing a specific implementation of a method in a subclass that is already defined in its superclass.\\nWhen a method is called on an object, Python first looks for the method implementation in the class of the object. If the method is not found, Python looks for it in the superclass hierarchy until it finds an implementation.\\nSubclasses can override methods inherited from their superclass, providing specific implementations suited to their needs.\\nLate Binding:\\n\\nIn Python, method calls are resolved dynamically at runtime through a process called late binding.\\nWhen a method is called on an object, Python determines the actual type of the object and looks for the method implementation in the class of the object. This determination is made dynamically during runtime.\\nIf the method is overridden in a subclass, Python invokes the subclass implementation instead of the superclass implementation, allowing for dynamic polymorphic behavior.\""
      ]
     },
     "execution_count": 16,
     "metadata": {},
     "output_type": "execute_result"
    }
   ],
   "source": [
    "\"\"\"Dynamic polymorphism, also known as runtime polymorphism, refers to the ability of objects to exhibit different behaviors or functionalities based on their actual types during runtime. In dynamic polymorphism, the decision about which method implementation to invoke is made at runtime, based on the actual type of the object rather than its declared type.\n",
    "\n",
    "In Python, dynamic polymorphism is achieved through method overriding and late binding. Here's how it works:\n",
    "\n",
    "Method Overriding:\n",
    "\n",
    "Method overriding is the process of providing a specific implementation of a method in a subclass that is already defined in its superclass.\n",
    "When a method is called on an object, Python first looks for the method implementation in the class of the object. If the method is not found, Python looks for it in the superclass hierarchy until it finds an implementation.\n",
    "Subclasses can override methods inherited from their superclass, providing specific implementations suited to their needs.\n",
    "Late Binding:\n",
    "\n",
    "In Python, method calls are resolved dynamically at runtime through a process called late binding.\n",
    "When a method is called on an object, Python determines the actual type of the object and looks for the method implementation in the class of the object. This determination is made dynamically during runtime.\n",
    "If the method is overridden in a subclass, Python invokes the subclass implementation instead of the superclass implementation, allowing for dynamic polymorphic behavior.\"\"\""
   ]
  },
  {
   "cell_type": "code",
   "execution_count": 17,
   "id": "c778b958-26a5-45c7-92c4-59dff951d8db",
   "metadata": {},
   "outputs": [
    {
     "name": "stdout",
     "output_type": "stream",
     "text": [
      "John's salary: $13,000.00\n",
      "Alice's salary: $6,500.00\n",
      "Bob's salary: $5,700.00\n"
     ]
    }
   ],
   "source": [
    "class Employee:\n",
    "    def __init__(self, name, hours_worked, hourly_rate):\n",
    "        self.name = name\n",
    "        self.hours_worked = hours_worked\n",
    "        self.hourly_rate = hourly_rate\n",
    "\n",
    "    def calculate_salary(self):\n",
    "        return self.hours_worked * self.hourly_rate\n",
    "\n",
    "class Manager(Employee):\n",
    "    def __init__(self, name, hours_worked, hourly_rate, bonus):\n",
    "        super().__init__(name, hours_worked, hourly_rate)\n",
    "        self.bonus = bonus\n",
    "\n",
    "    def calculate_salary(self):\n",
    "        base_salary = super().calculate_salary()\n",
    "        return base_salary + self.bonus\n",
    "\n",
    "class Developer(Employee):\n",
    "    def __init__(self, name, hours_worked, hourly_rate, lines_of_code):\n",
    "        super().__init__(name, hours_worked, hourly_rate)\n",
    "        self.lines_of_code = lines_of_code\n",
    "\n",
    "    def calculate_salary(self):\n",
    "        return super().calculate_salary() + (self.lines_of_code * 0.1)\n",
    "\n",
    "class Designer(Employee):\n",
    "    def __init__(self, name, hours_worked, hourly_rate, number_of_designs):\n",
    "        super().__init__(name, hours_worked, hourly_rate)\n",
    "        self.number_of_designs = number_of_designs\n",
    "\n",
    "    def calculate_salary(self):\n",
    "        return super().calculate_salary() + (self.number_of_designs * 5)\n",
    "\n",
    "# Demonstration of polymorphism\n",
    "manager = Manager(\"John\", 160, 50, 5000)\n",
    "developer = Developer(\"Alice\", 160, 40, 1000)\n",
    "designer = Designer(\"Bob\", 160, 35, 20)\n",
    "\n",
    "employees = [manager, developer, designer]\n",
    "\n",
    "for employee in employees:\n",
    "    print(f\"{employee.name}'s salary: ${employee.calculate_salary():,.2f}\")\n"
   ]
  },
  {
   "cell_type": "code",
   "execution_count": 18,
   "id": "2fe754a3-abdc-4ba6-8631-7b1f11c99eba",
   "metadata": {},
   "outputs": [
    {
     "data": {
      "text/plain": [
       "\"In Python, functions are first-class citizens, meaning they can be passed around and manipulated just like any other object. While Python does not have function pointers in the traditional sense found in languages like C or C++, you can achieve similar functionality using function references or callbacks. This capability allows you to implement polymorphism through function pointers in Python.\\n\\nHere's how function pointers, or more accurately function references, can be used to achieve polymorphism in Python:\\n\\nPassing Functions as Arguments:\\n\\nYou can pass functions as arguments to other functions, allowing you to specify behavior dynamically.\\nBy passing different functions to a common function, you can achieve polymorphic behavior, where the behavior of the function depends on the function passed as an argument.\\nUsing Callbacks:\\n\\nCallbacks are functions that are passed as arguments to another function and are called within that function.\\nBy providing different callback functions to a common function, you can achieve polymorphic behavior, where the callback function determines the specific behavior executed by the common function.\""
      ]
     },
     "execution_count": 18,
     "metadata": {},
     "output_type": "execute_result"
    }
   ],
   "source": [
    "\"\"\"In Python, functions are first-class citizens, meaning they can be passed around and manipulated just like any other object. While Python does not have function pointers in the traditional sense found in languages like C or C++, you can achieve similar functionality using function references or callbacks. This capability allows you to implement polymorphism through function pointers in Python.\n",
    "\n",
    "Here's how function pointers, or more accurately function references, can be used to achieve polymorphism in Python:\n",
    "\n",
    "Passing Functions as Arguments:\n",
    "\n",
    "You can pass functions as arguments to other functions, allowing you to specify behavior dynamically.\n",
    "By passing different functions to a common function, you can achieve polymorphic behavior, where the behavior of the function depends on the function passed as an argument.\n",
    "Using Callbacks:\n",
    "\n",
    "Callbacks are functions that are passed as arguments to another function and are called within that function.\n",
    "By providing different callback functions to a common function, you can achieve polymorphic behavior, where the callback function determines the specific behavior executed by the common function.\"\"\""
   ]
  },
  {
   "cell_type": "code",
   "execution_count": 19,
   "id": "a808a6d9-91de-4252-87d5-c574ac632067",
   "metadata": {},
   "outputs": [
    {
     "data": {
      "text/plain": [
       "'Comparisons:\\n\\nPurpose: Both interfaces and abstract classes provide a way to define a common interface for multiple classes, promoting polymorphism and code reuse.\\n\\nMethod Implementations: Interfaces contain only method declarations, while abstract classes can contain both abstract methods and concrete methods.\\n\\nInstantiation: Abstract classes cannot be instantiated on their own, while interfaces cannot be instantiated at all since they only define method signatures.\\n\\nInheritance: Python allows multiple inheritance for interfaces but only single inheritance for abstract classes.\\n\\nUse Cases: Abstract classes are used when you want to provide a default implementation for some methods, whereas interfaces are used when you want to ensure that classes adhere to a specific contract without providing any default behavior.'"
      ]
     },
     "execution_count": 19,
     "metadata": {},
     "output_type": "execute_result"
    }
   ],
   "source": [
    "\"\"\"Comparisons:\n",
    "\n",
    "Purpose: Both interfaces and abstract classes provide a way to define a common interface for multiple classes, promoting polymorphism and code reuse.\n",
    "\n",
    "Method Implementations: Interfaces contain only method declarations, while abstract classes can contain both abstract methods and concrete methods.\n",
    "\n",
    "Instantiation: Abstract classes cannot be instantiated on their own, while interfaces cannot be instantiated at all since they only define method signatures.\n",
    "\n",
    "Inheritance: Python allows multiple inheritance for interfaces but only single inheritance for abstract classes.\n",
    "\n",
    "Use Cases: Abstract classes are used when you want to provide a default implementation for some methods, whereas interfaces are used when you want to ensure that classes adhere to a specific contract without providing any default behavior.\"\"\""
   ]
  },
  {
   "cell_type": "code",
   "execution_count": 20,
   "id": "f82e8133-3657-4092-854c-286e7cef2f33",
   "metadata": {},
   "outputs": [
    {
     "name": "stdout",
     "output_type": "stream",
     "text": [
      "Lion:\n",
      "Sound: Mammal sound\n",
      "Eat: Mammal eating\n",
      "Sleep: Mammal sleeping\n",
      "\n",
      "Eagle:\n",
      "Sound: Bird sound\n",
      "Eat: Bird eating\n",
      "Sleep: Bird sleeping\n",
      "\n",
      "Snake:\n",
      "Sound: Reptile sound\n",
      "Eat: Reptile eating\n",
      "Sleep: Reptile sleeping\n",
      "\n"
     ]
    }
   ],
   "source": [
    "class Animal:\n",
    "    def __init__(self, name):\n",
    "        self.name = name\n",
    "\n",
    "    def make_sound(self):\n",
    "        pass\n",
    "\n",
    "    def eat(self):\n",
    "        pass\n",
    "\n",
    "    def sleep(self):\n",
    "        pass\n",
    "\n",
    "class Mammal(Animal):\n",
    "    def make_sound(self):\n",
    "        return \"Mammal sound\"\n",
    "\n",
    "    def eat(self):\n",
    "        return \"Mammal eating\"\n",
    "\n",
    "    def sleep(self):\n",
    "        return \"Mammal sleeping\"\n",
    "\n",
    "class Bird(Animal):\n",
    "    def make_sound(self):\n",
    "        return \"Bird sound\"\n",
    "\n",
    "    def eat(self):\n",
    "        return \"Bird eating\"\n",
    "\n",
    "    def sleep(self):\n",
    "        return \"Bird sleeping\"\n",
    "\n",
    "class Reptile(Animal):\n",
    "    def make_sound(self):\n",
    "        return \"Reptile sound\"\n",
    "\n",
    "    def eat(self):\n",
    "        return \"Reptile eating\"\n",
    "\n",
    "    def sleep(self):\n",
    "        return \"Reptile sleeping\"\n",
    "\n",
    "# Zoo simulation\n",
    "mammal = Mammal(\"Lion\")\n",
    "bird = Bird(\"Eagle\")\n",
    "reptile = Reptile(\"Snake\")\n",
    "\n",
    "animals = [mammal, bird, reptile]\n",
    "\n",
    "for animal in animals:\n",
    "    print(f\"{animal.name}:\")\n",
    "    print(\"Sound:\", animal.make_sound())\n",
    "    print(\"Eat:\", animal.eat())\n",
    "    print(\"Sleep:\", animal.sleep())\n",
    "    print()\n"
   ]
  },
  {
   "cell_type": "code",
   "execution_count": 1,
   "id": "7624494b-5c47-446f-9c2f-6fb999834084",
   "metadata": {},
   "outputs": [
    {
     "data": {
      "text/plain": [
       "'Abstraction in Python, as well as in object-oriented programming (OOP) in general, refers to the concept of hiding the complex implementation details of a system or an object and only showing the necessary functionalities or features to the user. It allows developers to focus on what an object does rather than how it does it.'"
      ]
     },
     "execution_count": 1,
     "metadata": {},
     "output_type": "execute_result"
    }
   ],
   "source": [
    "\"\"\"Abstraction in Python, as well as in object-oriented programming (OOP) in general, refers to the concept of hiding the complex implementation details of a system or an object and only showing the necessary functionalities or features to the user. It allows developers to focus on what an object does rather than how it does it.\"\"\""
   ]
  },
  {
   "cell_type": "code",
   "execution_count": 2,
   "id": "ae561ae2-4f80-4043-bdac-6473071c0283",
   "metadata": {},
   "outputs": [
    {
     "data": {
      "text/plain": [
       "'Abstraction offers several benefits in terms of code organization and complexity reduction:\\n\\nModularity: Abstraction allows you to break down a system into smaller, manageable components. By encapsulating related data and behavior within classes, you create modules that can be understood and maintained independently. This modular approach promotes code reusability and makes it easier to extend or modify your code without affecting other parts of the system.\\n\\nSimplification of Interfaces: Abstraction enables you to define clear and simplified interfaces for interacting with objects. By exposing only essential functionalities while hiding the underlying implementation details, you make it easier for other developers to use your code. This simplification of interfaces reduces cognitive load and makes the codebase more intuitive to work with.\\n\\nEncapsulation of Complexity: Abstraction allows you to encapsulate complex implementation details within classes, shielding users from unnecessary complexity. By hiding the internal state and operations of an object, you promote a high level of abstraction, where users only need to understand what an object does rather than how it does it. This separation of concerns improves code maintainability and reduces the risk of introducing bugs during development.\\n\\nCode Reusability: Abstraction encourages the creation of reusable components that can be easily integrated into different parts of your application or shared across multiple projects. By defining abstract base classes and interfaces, you establish common contracts that other classes can implement, facilitating code reuse and promoting a more modular and scalable architecture.\\n\\nEasier Maintenance and Testing: Abstraction promotes a clear separation of concerns, making it easier to isolate and debug specific components of your code. With well-defined interfaces and encapsulated implementations, you can easily identify and fix bugs without impacting other parts of the system. Additionally, the modular structure facilitated by abstraction makes it easier to write unit tests, as individual components can be tested in isolation, leading to more robust and reliable code.'"
      ]
     },
     "execution_count": 2,
     "metadata": {},
     "output_type": "execute_result"
    }
   ],
   "source": [
    "\"\"\"Abstraction offers several benefits in terms of code organization and complexity reduction:\n",
    "\n",
    "Modularity: Abstraction allows you to break down a system into smaller, manageable components. By encapsulating related data and behavior within classes, you create modules that can be understood and maintained independently. This modular approach promotes code reusability and makes it easier to extend or modify your code without affecting other parts of the system.\n",
    "\n",
    "Simplification of Interfaces: Abstraction enables you to define clear and simplified interfaces for interacting with objects. By exposing only essential functionalities while hiding the underlying implementation details, you make it easier for other developers to use your code. This simplification of interfaces reduces cognitive load and makes the codebase more intuitive to work with.\n",
    "\n",
    "Encapsulation of Complexity: Abstraction allows you to encapsulate complex implementation details within classes, shielding users from unnecessary complexity. By hiding the internal state and operations of an object, you promote a high level of abstraction, where users only need to understand what an object does rather than how it does it. This separation of concerns improves code maintainability and reduces the risk of introducing bugs during development.\n",
    "\n",
    "Code Reusability: Abstraction encourages the creation of reusable components that can be easily integrated into different parts of your application or shared across multiple projects. By defining abstract base classes and interfaces, you establish common contracts that other classes can implement, facilitating code reuse and promoting a more modular and scalable architecture.\n",
    "\n",
    "Easier Maintenance and Testing: Abstraction promotes a clear separation of concerns, making it easier to isolate and debug specific components of your code. With well-defined interfaces and encapsulated implementations, you can easily identify and fix bugs without impacting other parts of the system. Additionally, the modular structure facilitated by abstraction makes it easier to write unit tests, as individual components can be tested in isolation, leading to more robust and reliable code.\"\"\""
   ]
  },
  {
   "cell_type": "code",
   "execution_count": 3,
   "id": "63c9ec14-4b61-455c-bef2-84e3dceb2cbf",
   "metadata": {},
   "outputs": [
    {
     "name": "stdout",
     "output_type": "stream",
     "text": [
      "Area of the circle: 78.53981633974483\n",
      "Area of the rectangle: 24\n"
     ]
    }
   ],
   "source": [
    "from abc import ABC, abstractmethod\n",
    "import math\n",
    "\n",
    "class Shape(ABC):\n",
    "    @abstractmethod\n",
    "    def calculate_area(self):\n",
    "        pass\n",
    "\n",
    "class Circle(Shape):\n",
    "    def __init__(self, radius):\n",
    "        self.radius = radius\n",
    "\n",
    "    def calculate_area(self):\n",
    "        return math.pi * self.radius ** 2\n",
    "\n",
    "class Rectangle(Shape):\n",
    "    def __init__(self, width, height):\n",
    "        self.width = width\n",
    "        self.height = height\n",
    "\n",
    "    def calculate_area(self):\n",
    "        return self.width * self.height\n",
    "\n",
    "# Example usage\n",
    "circle = Circle(5)\n",
    "print(\"Area of the circle:\", circle.calculate_area())  # Output: Area of the circle: 78.53981633974483\n",
    "\n",
    "rectangle = Rectangle(4, 6)\n",
    "print(\"Area of the rectangle:\", rectangle.calculate_area())  # Output: Area of the rectangle: 24\n"
   ]
  },
  {
   "cell_type": "code",
   "execution_count": 4,
   "id": "f0f62509-c9ee-4ea6-b1c6-f57e5c43cc9c",
   "metadata": {},
   "outputs": [
    {
     "name": "stdout",
     "output_type": "stream",
     "text": [
      "Error: Can't instantiate abstract class Shape with abstract method calculate_area\n",
      "Area of the circle: 78.5\n",
      "Area of the rectangle: 24\n"
     ]
    }
   ],
   "source": [
    "\"\"\"Abstract classes in Python serve as blueprints for other classes. They cannot be instantiated directly and typically contain one or more abstract methods. Abstract methods are defined in the abstract class but do not contain an implementation. Instead, concrete subclasses of the abstract class must provide implementations for these abstract methods.\n",
    "\n",
    "Python's abc module provides tools for working with abstract base classes. The ABC class from this module serves as the base class for defining abstract classes, and the abstractmethod decorator is used to mark methods as abstract within the abstract class.\"\"\"\n",
    "from abc import ABC, abstractmethod\n",
    "\n",
    "class Shape(ABC):\n",
    "    @abstractmethod\n",
    "    def calculate_area(self):\n",
    "        pass\n",
    "\n",
    "class Circle(Shape):\n",
    "    def __init__(self, radius):\n",
    "        self.radius = radius\n",
    "\n",
    "    def calculate_area(self):\n",
    "        return 3.14 * self.radius ** 2\n",
    "\n",
    "class Rectangle(Shape):\n",
    "    def __init__(self, width, height):\n",
    "        self.width = width\n",
    "        self.height = height\n",
    "\n",
    "    def calculate_area(self):\n",
    "        return self.width * self.height\n",
    "\n",
    "# Trying to instantiate an abstract class directly will raise an error\n",
    "try:\n",
    "    shape = Shape()\n",
    "except TypeError as e:\n",
    "    print(\"Error:\", e)\n",
    "\n",
    "# Instantiate concrete subclasses\n",
    "circle = Circle(5)\n",
    "rectangle = Rectangle(4, 6)\n",
    "\n",
    "# Calculate areas\n",
    "print(\"Area of the circle:\", circle.calculate_area())       # Output: Area of the circle: 78.5\n",
    "print(\"Area of the rectangle:\", rectangle.calculate_area()) # Output: Area of the rectangle: 24\n"
   ]
  },
  {
   "cell_type": "code",
   "execution_count": 5,
   "id": "bc404e10-fc5f-499b-be6a-17c6af8f37d6",
   "metadata": {},
   "outputs": [
    {
     "data": {
      "text/plain": [
       "'Abstract classes and regular classes in Python differ in their ability to be instantiated and in their intended use cases:\\n\\nInstantiation:\\n\\nRegular classes: Regular classes can be instantiated directly. They can have both concrete methods (methods with implementations) and abstract methods (methods without implementations).\\nAbstract classes: Abstract classes cannot be instantiated directly. They are designed to serve as blueprints for other classes and typically contain one or more abstract methods, which must be implemented by concrete subclasses.\\nUse Cases:\\n\\nRegular classes: Regular classes are used when you have a concrete implementation that you want to instantiate directly. They encapsulate data and behavior and are commonly used to model real-world entities or concepts.\\nAbstract classes: Abstract classes are used when you want to define a common interface for a group of related classes but do not want to provide a concrete implementation. They serve as a template or contract that concrete subclasses must adhere to. Abstract classes are often used to enforce a certain structure or behavior across multiple subclasses, promoting code reuse and ensuring consistency.\\nUse Cases Summary:\\n\\nUse regular classes when you have a specific implementation to instantiate.\\nUse abstract classes when you want to define a common interface or behavior that must be implemented by multiple subclasses.\\nInheritance:\\n\\nRegular classes: Regular classes can inherit from other regular classes or abstract classes. They may or may not override methods inherited from their parent classes.\\nAbstract classes: Abstract classes can inherit from other abstract classes or regular classes. They can also provide concrete implementations for some methods, in addition to abstract methods. Concrete subclasses must implement all abstract methods inherited from their abstract parent class(es).\\nEnforcement of Contracts:\\n\\nRegular classes: Regular classes do not enforce any contracts on their subclasses. Subclasses are free to override methods as needed.\\nAbstract classes: Abstract classes enforce a contract on their subclasses by requiring them to implement specific methods. Subclasses must provide implementations for all abstract methods defined in the abstract class, ensuring that they conform to the expected interface.'"
      ]
     },
     "execution_count": 5,
     "metadata": {},
     "output_type": "execute_result"
    }
   ],
   "source": [
    "\"\"\"Abstract classes and regular classes in Python differ in their ability to be instantiated and in their intended use cases:\n",
    "\n",
    "Instantiation:\n",
    "\n",
    "Regular classes: Regular classes can be instantiated directly. They can have both concrete methods (methods with implementations) and abstract methods (methods without implementations).\n",
    "Abstract classes: Abstract classes cannot be instantiated directly. They are designed to serve as blueprints for other classes and typically contain one or more abstract methods, which must be implemented by concrete subclasses.\n",
    "Use Cases:\n",
    "\n",
    "Regular classes: Regular classes are used when you have a concrete implementation that you want to instantiate directly. They encapsulate data and behavior and are commonly used to model real-world entities or concepts.\n",
    "Abstract classes: Abstract classes are used when you want to define a common interface for a group of related classes but do not want to provide a concrete implementation. They serve as a template or contract that concrete subclasses must adhere to. Abstract classes are often used to enforce a certain structure or behavior across multiple subclasses, promoting code reuse and ensuring consistency.\n",
    "Use Cases Summary:\n",
    "\n",
    "Use regular classes when you have a specific implementation to instantiate.\n",
    "Use abstract classes when you want to define a common interface or behavior that must be implemented by multiple subclasses.\n",
    "Inheritance:\n",
    "\n",
    "Regular classes: Regular classes can inherit from other regular classes or abstract classes. They may or may not override methods inherited from their parent classes.\n",
    "Abstract classes: Abstract classes can inherit from other abstract classes or regular classes. They can also provide concrete implementations for some methods, in addition to abstract methods. Concrete subclasses must implement all abstract methods inherited from their abstract parent class(es).\n",
    "Enforcement of Contracts:\n",
    "\n",
    "Regular classes: Regular classes do not enforce any contracts on their subclasses. Subclasses are free to override methods as needed.\n",
    "Abstract classes: Abstract classes enforce a contract on their subclasses by requiring them to implement specific methods. Subclasses must provide implementations for all abstract methods defined in the abstract class, ensuring that they conform to the expected interface.\"\"\""
   ]
  },
  {
   "cell_type": "code",
   "execution_count": 6,
   "id": "3031c62c-829d-4ab4-ae53-25248d50d174",
   "metadata": {},
   "outputs": [
    {
     "name": "stdout",
     "output_type": "stream",
     "text": [
      "Account Number: 1234567890\n",
      "Initial Balance: 1000\n",
      "Successfully deposited $500. New balance: $1500\n",
      "Withdrawal of $200 successful. New balance: $1300\n",
      "Insufficient funds or invalid amount.\n"
     ]
    }
   ],
   "source": [
    "class BankAccount:\n",
    "    def __init__(self, account_number, initial_balance=0):\n",
    "        self._account_number = account_number  # Private attribute\n",
    "        self._balance = initial_balance  # Private attribute\n",
    "\n",
    "    def deposit(self, amount):\n",
    "        \"\"\"Deposit funds into the account.\"\"\"\n",
    "        if amount > 0:\n",
    "            self._balance += amount\n",
    "            print(f\"Successfully deposited ${amount}. New balance: ${self._balance}\")\n",
    "        else:\n",
    "            print(\"Invalid amount. Deposit amount must be greater than 0.\")\n",
    "\n",
    "    def withdraw(self, amount):\n",
    "        \"\"\"Withdraw funds from the account.\"\"\"\n",
    "        if 0 < amount <= self._balance:\n",
    "            self._balance -= amount\n",
    "            print(f\"Withdrawal of ${amount} successful. New balance: ${self._balance}\")\n",
    "        else:\n",
    "            print(\"Insufficient funds or invalid amount.\")\n",
    "\n",
    "    def get_balance(self):\n",
    "        \"\"\"Get the current balance.\"\"\"\n",
    "        return self._balance\n",
    "\n",
    "    def get_account_number(self):\n",
    "        \"\"\"Get the account number.\"\"\"\n",
    "        return self._account_number\n",
    "\n",
    "# Usage example\n",
    "account = BankAccount(\"1234567890\", 1000)\n",
    "\n",
    "print(\"Account Number:\", account.get_account_number())\n",
    "print(\"Initial Balance:\", account.get_balance())\n",
    "\n",
    "account.deposit(500)\n",
    "account.withdraw(200)\n",
    "account.withdraw(1500)  # This withdrawal attempt will fail due to insufficient funds\n"
   ]
  },
  {
   "cell_type": "code",
   "execution_count": 7,
   "id": "e851035c-a083-43ee-84d2-8e673053d3f0",
   "metadata": {},
   "outputs": [
    {
     "data": {
      "text/plain": [
       "'In Python, interface classes are abstract classes that define a set of methods that must be implemented by concrete subclasses. These methods typically represent a contract or interface that specifies the behavior expected from classes that implement it. Interface classes play a crucial role in achieving abstraction by allowing developers to define a common interface without providing concrete implementations. They help enforce a certain structure or behavior across multiple classes, promoting code reuse, maintainability, and flexibility.\\n\\nHere are some key points about interface classes and their role in achieving abstraction in Python:\\n\\nDefining Contracts: Interface classes define contracts that specify the methods that concrete subclasses must implement. By defining a common interface, interface classes establish a set of expectations for how classes that implement the interface should behave.\\n\\nNo Concrete Implementation: Interface classes do not provide concrete implementations for their methods. Instead, they declare abstract methods using the abstractmethod decorator from the abc module. This means that subclasses must provide their own implementations for these methods.\\n\\nEnforcing Structure: Interface classes enforce a certain structure or behavior across multiple subclasses. By requiring subclasses to implement specific methods, interface classes ensure that they conform to the expected interface. This promotes consistency and reduces the likelihood of errors or unexpected behavior.\\n\\nPromoting Polymorphism: Interface classes enable polymorphism, allowing objects of different classes to be treated uniformly based on their common interface. This means that objects that implement the same interface can be used interchangeably, providing flexibility and extensibility in your code.\\n\\nFacilitating Abstraction: Interface classes abstract away implementation details, focusing on what objects can do rather than how they do it. This level of abstraction makes it easier to work with complex systems by simplifying interactions and reducing dependencies on specific implementations.\\n\\nCode Reusability and Extensibility: By defining interfaces, interface classes promote code reuse and extensibility. Classes that implement the same interface can be easily swapped or extended to provide additional functionality without affecting other parts of the codebase.'"
      ]
     },
     "execution_count": 7,
     "metadata": {},
     "output_type": "execute_result"
    }
   ],
   "source": [
    "\"\"\"In Python, interface classes are abstract classes that define a set of methods that must be implemented by concrete subclasses. These methods typically represent a contract or interface that specifies the behavior expected from classes that implement it. Interface classes play a crucial role in achieving abstraction by allowing developers to define a common interface without providing concrete implementations. They help enforce a certain structure or behavior across multiple classes, promoting code reuse, maintainability, and flexibility.\n",
    "\n",
    "Here are some key points about interface classes and their role in achieving abstraction in Python:\n",
    "\n",
    "Defining Contracts: Interface classes define contracts that specify the methods that concrete subclasses must implement. By defining a common interface, interface classes establish a set of expectations for how classes that implement the interface should behave.\n",
    "\n",
    "No Concrete Implementation: Interface classes do not provide concrete implementations for their methods. Instead, they declare abstract methods using the abstractmethod decorator from the abc module. This means that subclasses must provide their own implementations for these methods.\n",
    "\n",
    "Enforcing Structure: Interface classes enforce a certain structure or behavior across multiple subclasses. By requiring subclasses to implement specific methods, interface classes ensure that they conform to the expected interface. This promotes consistency and reduces the likelihood of errors or unexpected behavior.\n",
    "\n",
    "Promoting Polymorphism: Interface classes enable polymorphism, allowing objects of different classes to be treated uniformly based on their common interface. This means that objects that implement the same interface can be used interchangeably, providing flexibility and extensibility in your code.\n",
    "\n",
    "Facilitating Abstraction: Interface classes abstract away implementation details, focusing on what objects can do rather than how they do it. This level of abstraction makes it easier to work with complex systems by simplifying interactions and reducing dependencies on specific implementations.\n",
    "\n",
    "Code Reusability and Extensibility: By defining interfaces, interface classes promote code reuse and extensibility. Classes that implement the same interface can be easily swapped or extended to provide additional functionality without affecting other parts of the codebase.\"\"\""
   ]
  },
  {
   "cell_type": "code",
   "execution_count": 8,
   "id": "0c46a8d1-66d3-4e89-8bf2-b13fb5b8cc07",
   "metadata": {},
   "outputs": [
    {
     "name": "stdout",
     "output_type": "stream",
     "text": [
      "Buddy is eating dog food.\n",
      "Buddy is sleeping.\n",
      "Whiskers is eating cat food.\n",
      "Whiskers is sleeping.\n",
      "Tweety is eating bird seed.\n",
      "Tweety is sleeping.\n"
     ]
    }
   ],
   "source": [
    "from abc import ABC, abstractmethod\n",
    "\n",
    "class Animal(ABC):\n",
    "    def __init__(self, name):\n",
    "        self.name = name\n",
    "\n",
    "    @abstractmethod\n",
    "    def eat(self):\n",
    "        pass\n",
    "\n",
    "    @abstractmethod\n",
    "    def sleep(self):\n",
    "        pass\n",
    "\n",
    "class Dog(Animal):\n",
    "    def eat(self):\n",
    "        print(f\"{self.name} is eating dog food.\")\n",
    "\n",
    "    def sleep(self):\n",
    "        print(f\"{self.name} is sleeping.\")\n",
    "\n",
    "class Cat(Animal):\n",
    "    def eat(self):\n",
    "        print(f\"{self.name} is eating cat food.\")\n",
    "\n",
    "    def sleep(self):\n",
    "        print(f\"{self.name} is sleeping.\")\n",
    "\n",
    "class Bird(Animal):\n",
    "    def eat(self):\n",
    "        print(f\"{self.name} is eating bird seed.\")\n",
    "\n",
    "    def sleep(self):\n",
    "        print(f\"{self.name} is sleeping.\")\n",
    "\n",
    "# Usage\n",
    "dog = Dog(\"Buddy\")\n",
    "cat = Cat(\"Whiskers\")\n",
    "bird = Bird(\"Tweety\")\n",
    "\n",
    "dog.eat()   # Output: Buddy is eating dog food.\n",
    "dog.sleep() # Output: Buddy is sleeping.\n",
    "\n",
    "cat.eat()   # Output: Whiskers is eating cat food.\n",
    "cat.sleep() # Output: Whiskers is sleeping.\n",
    "\n",
    "bird.eat()   # Output: Tweety is eating bird seed.\n",
    "bird.sleep() # Output: Tweety is sleeping.\n"
   ]
  },
  {
   "cell_type": "code",
   "execution_count": 10,
   "id": "d96fac6c-eed5-4179-b550-ca476a85b1b6",
   "metadata": {},
   "outputs": [
    {
     "name": "stdout",
     "output_type": "stream",
     "text": [
      "Engine started.\n",
      "Car is driving.\n",
      "Engine stopped.\n"
     ]
    }
   ],
   "source": [
    "\"\"\"Encapsulation and abstraction are closely related concepts in object-oriented programming, and\n",
    "encapsulation plays a significant role in achieving abstraction. Encapsulation refers to the bundling\n",
    "of data and methods that operate on that data into a single unit, typically a class. This unit acts as\n",
    "a protective wrapper that hides the internal state and implementation details of an object from the outside\n",
    "world. By encapsulating data and behavior, encapsulation facilitates abstraction\n",
    "by providing controlled access to the object's internals and promoting a clear separation of concerns.\"\"\"\n",
    "class Car:\n",
    "    def __init__(self, make, model, year):\n",
    "        self._make = make      # Encapsulated attribute\n",
    "        self._model = model    # Encapsulated attribute\n",
    "        self._year = year      # Encapsulated attribute\n",
    "        self._engine_running = False  # Encapsulated attribute\n",
    "\n",
    "    def start_engine(self):\n",
    "        self._engine_running = True\n",
    "        print(\"Engine started.\")\n",
    "\n",
    "    def stop_engine(self):\n",
    "        self._engine_running = False\n",
    "        print(\"Engine stopped.\")\n",
    "\n",
    "    def drive(self):\n",
    "        if self._engine_running:\n",
    "            print(\"Car is driving.\")\n",
    "        else:\n",
    "            print(\"Cannot drive. Engine is not running.\")\n",
    "\n",
    "# Usage\n",
    "my_car = Car(\"Toyota\", \"Camry\", 2022)\n",
    "my_car.start_engine()\n",
    "my_car.drive()\n",
    "my_car.stop_engine()\n"
   ]
  },
  {
   "cell_type": "code",
   "execution_count": 11,
   "id": "26d01bec-950c-4bce-8e75-e84e1ac24e46",
   "metadata": {},
   "outputs": [
    {
     "data": {
      "text/plain": [
       "\"Abstract methods in Python serve the purpose of defining a method signature without providing an implementation. They are declared within abstract classes using the @abstractmethod decorator from the abc module. Abstract methods enforce abstraction by defining a common interface that concrete subclasses must implement, ensuring a consistent structure and behavior across different classes.\\n\\nHere's how abstract methods enforce abstraction in Python classes:\\n\\nDefining Common Interface: Abstract methods define a common interface that specifies the methods that concrete subclasses must implement. By declaring abstract methods in an abstract class, you establish a contract or blueprint for how subclasses should behave. This promotes a standardized structure across related classes, facilitating code organization, and ensuring consistency.\\n\\nForcing Implementation: Concrete subclasses of an abstract class must provide implementations for all abstract methods declared in the abstract class. Failure to do so will result in a TypeError at runtime. This enforcement mechanism ensures that subclasses adhere to the expected interface, preventing accidental omission of critical functionalities.\\n\\nHiding Implementation Details: Abstract methods abstract away the implementation details of specific functionalities, focusing instead on what needs to be done rather than how it is done. This level of abstraction allows users of the abstract class to interact with its interface without needing to know the internal details of how each method is implemented. It promotes a clear separation between interface and implementation, reducing complexity and improving code maintainability.\\n\\nPromoting Polymorphism: Abstract methods enable polymorphism by allowing objects of different subclasses to be treated uniformly based on their common interface. This polymorphic behavior allows for flexibility and extensibility in code design, as different subclasses can be seamlessly integrated and used interchangeably wherever the abstract class is expected.\\n\\nFacilitating Code Reuse: Abstract methods promote code reuse by providing a standardized interface that multiple subclasses can implement. This encourages the creation of modular and reusable components, as subclasses can inherit the interface and behavior defined in the abstract class, reducing duplication of code and promoting a more efficient development process.\""
      ]
     },
     "execution_count": 11,
     "metadata": {},
     "output_type": "execute_result"
    }
   ],
   "source": [
    "\"\"\"Abstract methods in Python serve the purpose of defining a method signature without providing an implementation. They are declared within abstract classes using the @abstractmethod decorator from the abc module. Abstract methods enforce abstraction by defining a common interface that concrete subclasses must implement, ensuring a consistent structure and behavior across different classes.\n",
    "\n",
    "Here's how abstract methods enforce abstraction in Python classes:\n",
    "\n",
    "Defining Common Interface: Abstract methods define a common interface that specifies the methods that concrete subclasses must implement. By declaring abstract methods in an abstract class, you establish a contract or blueprint for how subclasses should behave. This promotes a standardized structure across related classes, facilitating code organization, and ensuring consistency.\n",
    "\n",
    "Forcing Implementation: Concrete subclasses of an abstract class must provide implementations for all abstract methods declared in the abstract class. Failure to do so will result in a TypeError at runtime. This enforcement mechanism ensures that subclasses adhere to the expected interface, preventing accidental omission of critical functionalities.\n",
    "\n",
    "Hiding Implementation Details: Abstract methods abstract away the implementation details of specific functionalities, focusing instead on what needs to be done rather than how it is done. This level of abstraction allows users of the abstract class to interact with its interface without needing to know the internal details of how each method is implemented. It promotes a clear separation between interface and implementation, reducing complexity and improving code maintainability.\n",
    "\n",
    "Promoting Polymorphism: Abstract methods enable polymorphism by allowing objects of different subclasses to be treated uniformly based on their common interface. This polymorphic behavior allows for flexibility and extensibility in code design, as different subclasses can be seamlessly integrated and used interchangeably wherever the abstract class is expected.\n",
    "\n",
    "Facilitating Code Reuse: Abstract methods promote code reuse by providing a standardized interface that multiple subclasses can implement. This encourages the creation of modular and reusable components, as subclasses can inherit the interface and behavior defined in the abstract class, reducing duplication of code and promoting a more efficient development process.\"\"\""
   ]
  },
  {
   "cell_type": "code",
   "execution_count": 12,
   "id": "7f0546aa-7429-4142-a347-9a43207c30d9",
   "metadata": {},
   "outputs": [
    {
     "name": "stdout",
     "output_type": "stream",
     "text": [
      "Toyota Camry engine started.\n",
      "Toyota Camry engine stopped.\n",
      "Honda CBR1000RR engine started.\n",
      "Honda CBR1000RR engine stopped.\n",
      "Ford F-150 engine started.\n",
      "Ford F-150 engine stopped.\n"
     ]
    }
   ],
   "source": [
    "from abc import ABC, abstractmethod\n",
    "\n",
    "class Vehicle(ABC):\n",
    "    def __init__(self, make, model, year):\n",
    "        self.make = make\n",
    "        self.model = model\n",
    "        self.year = year\n",
    "        self._engine_running = False\n",
    "\n",
    "    @abstractmethod\n",
    "    def start(self):\n",
    "        pass\n",
    "\n",
    "    @abstractmethod\n",
    "    def stop(self):\n",
    "        pass\n",
    "\n",
    "class Car(Vehicle):\n",
    "    def start(self):\n",
    "        if not self._engine_running:\n",
    "            self._engine_running = True\n",
    "            print(f\"{self.make} {self.model} engine started.\")\n",
    "        else:\n",
    "            print(\"Engine is already running.\")\n",
    "\n",
    "    def stop(self):\n",
    "        if self._engine_running:\n",
    "            self._engine_running = False\n",
    "            print(f\"{self.make} {self.model} engine stopped.\")\n",
    "        else:\n",
    "            print(\"Engine is already stopped.\")\n",
    "\n",
    "class Motorcycle(Vehicle):\n",
    "    def start(self):\n",
    "        if not self._engine_running:\n",
    "            self._engine_running = True\n",
    "            print(f\"{self.make} {self.model} engine started.\")\n",
    "        else:\n",
    "            print(\"Engine is already running.\")\n",
    "\n",
    "    def stop(self):\n",
    "        if self._engine_running:\n",
    "            self._engine_running = False\n",
    "            print(f\"{self.make} {self.model} engine stopped.\")\n",
    "        else:\n",
    "            print(\"Engine is already stopped.\")\n",
    "\n",
    "class Truck(Vehicle):\n",
    "    def start(self):\n",
    "        if not self._engine_running:\n",
    "            self._engine_running = True\n",
    "            print(f\"{self.make} {self.model} engine started.\")\n",
    "        else:\n",
    "            print(\"Engine is already running.\")\n",
    "\n",
    "    def stop(self):\n",
    "        if self._engine_running:\n",
    "            self._engine_running = False\n",
    "            print(f\"{self.make} {self.model} engine stopped.\")\n",
    "        else:\n",
    "            print(\"Engine is already stopped.\")\n",
    "\n",
    "# Usage\n",
    "car = Car(\"Toyota\", \"Camry\", 2022)\n",
    "car.start()\n",
    "car.stop()\n",
    "\n",
    "motorcycle = Motorcycle(\"Honda\", \"CBR1000RR\", 2022)\n",
    "motorcycle.start()\n",
    "motorcycle.stop()\n",
    "\n",
    "truck = Truck(\"Ford\", \"F-150\", 2022)\n",
    "truck.start()\n",
    "truck.stop()\n"
   ]
  },
  {
   "cell_type": "code",
   "execution_count": 13,
   "id": "05eeb2f6-bb3d-488e-b4b8-9d3bc1153265",
   "metadata": {},
   "outputs": [
    {
     "data": {
      "text/plain": [
       "\"Abstract properties in Python are properties defined in abstract base classes (ABCs) that require concrete subclasses to provide an implementation. They are declared using the @property decorator along with the abstractmethod decorator from the abc module. Abstract properties serve a similar purpose to abstract methods but are used specifically for defining properties (attributes) that must be implemented by subclasses.\\n\\nHere's how abstract properties can be employed in abstract classes in Python:\\n\\nDefining Abstract Properties: Abstract properties are defined in abstract base classes using the @property decorator along with the abstractmethod decorator. This marks the property as abstract, indicating that concrete subclasses must provide an implementation for it.\\n\\nEnforcing Implementation: Concrete subclasses of the abstract base class must implement the abstract properties defined in the abstract class. Failure to do so will result in a TypeError at runtime, indicating that the subclass is incomplete.\\n\\nProviding a Common Interface: Abstract properties provide a common interface for accessing attributes across multiple subclasses. By defining abstract properties in an abstract base class, you establish a contract or blueprint for how subclasses should expose certain attributes.\\n\\nHiding Implementation Details: Abstract properties abstract away the implementation details of specific attributes, focusing instead on defining what attributes should exist without providing concrete implementations. This allows for a clear separation between interface and implementation, reducing complexity and promoting code maintainability.\\n\\nPromoting Polymorphism: Abstract properties enable polymorphism by allowing objects of different subclasses to be treated uniformly based on their common interface. This polymorphic behavior allows for flexibility and extensibility in code design, as different subclasses can be seamlessly integrated and used interchangeably wherever the abstract class is expected.\""
      ]
     },
     "execution_count": 13,
     "metadata": {},
     "output_type": "execute_result"
    }
   ],
   "source": [
    "\"\"\"Abstract properties in Python are properties defined in abstract base classes (ABCs) that require concrete subclasses to provide an implementation. They are declared using the @property decorator along with the abstractmethod decorator from the abc module. Abstract properties serve a similar purpose to abstract methods but are used specifically for defining properties (attributes) that must be implemented by subclasses.\n",
    "\n",
    "Here's how abstract properties can be employed in abstract classes in Python:\n",
    "\n",
    "Defining Abstract Properties: Abstract properties are defined in abstract base classes using the @property decorator along with the abstractmethod decorator. This marks the property as abstract, indicating that concrete subclasses must provide an implementation for it.\n",
    "\n",
    "Enforcing Implementation: Concrete subclasses of the abstract base class must implement the abstract properties defined in the abstract class. Failure to do so will result in a TypeError at runtime, indicating that the subclass is incomplete.\n",
    "\n",
    "Providing a Common Interface: Abstract properties provide a common interface for accessing attributes across multiple subclasses. By defining abstract properties in an abstract base class, you establish a contract or blueprint for how subclasses should expose certain attributes.\n",
    "\n",
    "Hiding Implementation Details: Abstract properties abstract away the implementation details of specific attributes, focusing instead on defining what attributes should exist without providing concrete implementations. This allows for a clear separation between interface and implementation, reducing complexity and promoting code maintainability.\n",
    "\n",
    "Promoting Polymorphism: Abstract properties enable polymorphism by allowing objects of different subclasses to be treated uniformly based on their common interface. This polymorphic behavior allows for flexibility and extensibility in code design, as different subclasses can be seamlessly integrated and used interchangeably wherever the abstract class is expected.\"\"\""
   ]
  },
  {
   "cell_type": "code",
   "execution_count": 14,
   "id": "c1bbb5bc-b720-497a-8b66-ab75c560eda8",
   "metadata": {},
   "outputs": [
    {
     "name": "stdout",
     "output_type": "stream",
     "text": [
      "John Doe's salary: $60000\n",
      "Alice Smith's salary: $8000\n",
      "Bob Johnson's salary: $5000\n"
     ]
    }
   ],
   "source": [
    "from abc import ABC, abstractmethod\n",
    "\n",
    "class Employee(ABC):\n",
    "    def __init__(self, name, employee_id):\n",
    "        self.name = name\n",
    "        self.employee_id = employee_id\n",
    "\n",
    "    @abstractmethod\n",
    "    def get_salary(self):\n",
    "        pass\n",
    "\n",
    "class Manager(Employee):\n",
    "    def __init__(self, name, employee_id, salary):\n",
    "        super().__init__(name, employee_id)\n",
    "        self.salary = salary\n",
    "\n",
    "    def get_salary(self):\n",
    "        return self.salary\n",
    "\n",
    "class Developer(Employee):\n",
    "    def __init__(self, name, employee_id, hourly_rate, hours_worked):\n",
    "        super().__init__(name, employee_id)\n",
    "        self.hourly_rate = hourly_rate\n",
    "        self.hours_worked = hours_worked\n",
    "\n",
    "    def get_salary(self):\n",
    "        return self.hourly_rate * self.hours_worked\n",
    "\n",
    "class Designer(Employee):\n",
    "    def __init__(self, name, employee_id, monthly_salary):\n",
    "        super().__init__(name, employee_id)\n",
    "        self.monthly_salary = monthly_salary\n",
    "\n",
    "    def get_salary(self):\n",
    "        return self.monthly_salary\n",
    "\n",
    "# Usage\n",
    "manager = Manager(\"John Doe\", \"M001\", 60000)\n",
    "print(f\"{manager.name}'s salary: ${manager.get_salary()}\")\n",
    "\n",
    "developer = Developer(\"Alice Smith\", \"D001\", 50, 160)\n",
    "print(f\"{developer.name}'s salary: ${developer.get_salary()}\")\n",
    "\n",
    "designer = Designer(\"Bob Johnson\", \"DS001\", 5000)\n",
    "print(f\"{designer.name}'s salary: ${designer.get_salary()}\")\n"
   ]
  },
  {
   "cell_type": "code",
   "execution_count": 15,
   "id": "b52934f4-ca3c-41c5-bfbd-264ff5df30a5",
   "metadata": {},
   "outputs": [
    {
     "data": {
      "text/plain": [
       "'Abstract Classes:\\n\\nAbstract classes are classes that cannot be instantiated directly. They are designed to serve as blueprints or templates for other classes.\\nAbstract classes typically contain one or more abstract methods, which are methods declared without an implementation.\\nAbstract classes may also contain concrete methods, which are methods with implementations, but they usually provide a partial implementation or default behavior that concrete subclasses can override.\\nAbstract classes are meant to be subclassed, and concrete subclasses must provide implementations for all abstract methods declared in the abstract class.\\nAbstract classes are often used to define a common interface or contract that concrete subclasses must adhere to, promoting code reusability, consistency, and abstraction.\\nConcrete Classes:\\n\\nConcrete classes are classes that can be instantiated directly. They provide complete implementations for all methods, including any inherited abstract methods.\\nConcrete classes may inherit from abstract classes or other concrete classes, but they must provide implementations for any abstract methods inherited from abstract classes.\\nConcrete classes define specific behavior and may contain attributes, methods, and properties that represent real-world entities or concepts.\\nInstances of concrete classes represent concrete objects that can be created and manipulated within a program.\\nConcrete classes are used when you have a specific implementation that you want to instantiate directly, without the need for further subclassing or customization.\\nInstantiation:\\n\\nAbstract Classes: Abstract classes cannot be instantiated directly using the class_name() syntax. Attempting to do so will result in a TypeError. Instead, abstract classes are meant to be subclassed, and instances of concrete subclasses are created.\\nConcrete Classes: Concrete classes can be instantiated directly using the class_name() syntax. You create instances of concrete classes to represent specific objects in your program.\\nUsage:\\n\\nAbstract Classes: Abstract classes are used to define a common interface or contract that concrete subclasses must adhere to. They are typically subclassed to provide implementations for abstract methods.\\nConcrete Classes: Concrete classes are used when you have a specific implementation that you want to instantiate directly. They provide complete implementations for all methods and can be instantiated to create objects with specific behaviors and attributes.'"
      ]
     },
     "execution_count": 15,
     "metadata": {},
     "output_type": "execute_result"
    }
   ],
   "source": [
    "\"\"\"Abstract Classes:\n",
    "\n",
    "Abstract classes are classes that cannot be instantiated directly. They are designed to serve as blueprints or templates for other classes.\n",
    "Abstract classes typically contain one or more abstract methods, which are methods declared without an implementation.\n",
    "Abstract classes may also contain concrete methods, which are methods with implementations, but they usually provide a partial implementation or default behavior that concrete subclasses can override.\n",
    "Abstract classes are meant to be subclassed, and concrete subclasses must provide implementations for all abstract methods declared in the abstract class.\n",
    "Abstract classes are often used to define a common interface or contract that concrete subclasses must adhere to, promoting code reusability, consistency, and abstraction.\n",
    "Concrete Classes:\n",
    "\n",
    "Concrete classes are classes that can be instantiated directly. They provide complete implementations for all methods, including any inherited abstract methods.\n",
    "Concrete classes may inherit from abstract classes or other concrete classes, but they must provide implementations for any abstract methods inherited from abstract classes.\n",
    "Concrete classes define specific behavior and may contain attributes, methods, and properties that represent real-world entities or concepts.\n",
    "Instances of concrete classes represent concrete objects that can be created and manipulated within a program.\n",
    "Concrete classes are used when you have a specific implementation that you want to instantiate directly, without the need for further subclassing or customization.\n",
    "Instantiation:\n",
    "\n",
    "Abstract Classes: Abstract classes cannot be instantiated directly using the class_name() syntax. Attempting to do so will result in a TypeError. Instead, abstract classes are meant to be subclassed, and instances of concrete subclasses are created.\n",
    "Concrete Classes: Concrete classes can be instantiated directly using the class_name() syntax. You create instances of concrete classes to represent specific objects in your program.\n",
    "Usage:\n",
    "\n",
    "Abstract Classes: Abstract classes are used to define a common interface or contract that concrete subclasses must adhere to. They are typically subclassed to provide implementations for abstract methods.\n",
    "Concrete Classes: Concrete classes are used when you have a specific implementation that you want to instantiate directly. They provide complete implementations for all methods and can be instantiated to create objects with specific behaviors and attributes.\"\"\""
   ]
  },
  {
   "cell_type": "code",
   "execution_count": 16,
   "id": "3d8b1537-6022-47b3-bf3b-980b057c6215",
   "metadata": {},
   "outputs": [
    {
     "data": {
      "text/plain": [
       "'Abstract Data Types (ADTs) are a concept in computer science that refers to a mathematical model for representing data and the operations that can be performed on that data. ADTs provide a high-level view of data structures, focusing on what operations can be performed and what properties these operations must satisfy, rather than the specific implementation details.The role of ADTs in achieving abstraction in Python includes:\\n\\nPromoting Modularity: ADTs encapsulate data and operations within a single unit, promoting modularity and code organization. This allows for the creation of reusable components that can be easily integrated into larger systems.\\n\\nHiding Implementation Details: ADTs hide the internal implementation details of data structures, exposing only the interface through which users can interact with the data. This abstraction simplifies the complexity of working with data structures, making it easier to understand and use them.\\n\\nProviding a Common Interface: ADTs define a common interface for interacting with data structures, regardless of their specific implementation. This allows users to work with different data structures in a consistent manner, promoting interoperability and code reuse.\\n\\nFostering Code Maintainability: By abstracting away implementation details, ADTs make it easier to modify and maintain code. Changes to the underlying data structure can be made without affecting the code that interacts with it, as long as the interface remains unchanged.'"
      ]
     },
     "execution_count": 16,
     "metadata": {},
     "output_type": "execute_result"
    }
   ],
   "source": [
    "\"\"\"Abstract Data Types (ADTs) are a concept in computer science that refers to a mathematical model for representing data and the operations that can be performed on that data. ADTs provide a high-level view of data structures, focusing on what operations can be performed and what properties these operations must satisfy, rather than the specific implementation details.The role of ADTs in achieving abstraction in Python includes:\n",
    "\n",
    "Promoting Modularity: ADTs encapsulate data and operations within a single unit, promoting modularity and code organization. This allows for the creation of reusable components that can be easily integrated into larger systems.\n",
    "\n",
    "Hiding Implementation Details: ADTs hide the internal implementation details of data structures, exposing only the interface through which users can interact with the data. This abstraction simplifies the complexity of working with data structures, making it easier to understand and use them.\n",
    "\n",
    "Providing a Common Interface: ADTs define a common interface for interacting with data structures, regardless of their specific implementation. This allows users to work with different data structures in a consistent manner, promoting interoperability and code reuse.\n",
    "\n",
    "Fostering Code Maintainability: By abstracting away implementation details, ADTs make it easier to modify and maintain code. Changes to the underlying data structure can be made without affecting the code that interacts with it, as long as the interface remains unchanged.\"\"\""
   ]
  },
  {
   "cell_type": "code",
   "execution_count": 17,
   "id": "41fc32e7-61a0-4647-8814-a6ecb250fe2e",
   "metadata": {},
   "outputs": [
    {
     "name": "stdout",
     "output_type": "stream",
     "text": [
      "Dell OptiPlex desktop computer powered on.\n",
      "Dell OptiPlex desktop computer shut down.\n",
      "Lenovo ThinkPad laptop computer powered on.\n",
      "Lenovo ThinkPad laptop computer shut down.\n"
     ]
    }
   ],
   "source": [
    "from abc import ABC, abstractmethod\n",
    "\n",
    "class ComputerSystem(ABC):\n",
    "    def __init__(self, brand, model):\n",
    "        self.brand = brand\n",
    "        self.model = model\n",
    "        self.powered_on = False\n",
    "\n",
    "    @abstractmethod\n",
    "    def power_on(self):\n",
    "        pass\n",
    "\n",
    "    @abstractmethod\n",
    "    def shutdown(self):\n",
    "        pass\n",
    "\n",
    "class DesktopComputer(ComputerSystem):\n",
    "    def power_on(self):\n",
    "        if not self.powered_on:\n",
    "            self.powered_on = True\n",
    "            print(f\"{self.brand} {self.model} desktop computer powered on.\")\n",
    "        else:\n",
    "            print(\"Desktop computer is already powered on.\")\n",
    "\n",
    "    def shutdown(self):\n",
    "        if self.powered_on:\n",
    "            self.powered_on = False\n",
    "            print(f\"{self.brand} {self.model} desktop computer shut down.\")\n",
    "        else:\n",
    "            print(\"Desktop computer is already shut down.\")\n",
    "\n",
    "class LaptopComputer(ComputerSystem):\n",
    "    def power_on(self):\n",
    "        if not self.powered_on:\n",
    "            self.powered_on = True\n",
    "            print(f\"{self.brand} {self.model} laptop computer powered on.\")\n",
    "        else:\n",
    "            print(\"Laptop computer is already powered on.\")\n",
    "\n",
    "    def shutdown(self):\n",
    "        if self.powered_on:\n",
    "            self.powered_on = False\n",
    "            print(f\"{self.brand} {self.model} laptop computer shut down.\")\n",
    "        else:\n",
    "            print(\"Laptop computer is already shut down.\")\n",
    "\n",
    "# Usage\n",
    "desktop = DesktopComputer(\"Dell\", \"OptiPlex\")\n",
    "desktop.power_on()\n",
    "desktop.shutdown()\n",
    "\n",
    "laptop = LaptopComputer(\"Lenovo\", \"ThinkPad\")\n",
    "laptop.power_on()\n",
    "laptop.shutdown()\n"
   ]
  },
  {
   "cell_type": "code",
   "execution_count": 18,
   "id": "42226cce-92dd-4079-8a20-b011ce6f8fd8",
   "metadata": {},
   "outputs": [
    {
     "data": {
      "text/plain": [
       "'Abstraction plays a crucial role in large-scale software development projects due to the following benefits:\\n\\n1. **Complexity Management**: Abstraction allows developers to manage complexity by hiding unnecessary details and focusing on essential concepts. By providing simplified interfaces and high-level views of systems, abstraction helps developers understand and reason about complex systems more effectively, reducing cognitive overload and making it easier to maintain and extend the software over time.\\n\\n2. **Modularity and Code Organization**: Abstraction promotes modularity by breaking down systems into smaller, more manageable components. By encapsulating related functionality within modules or classes, abstraction enables developers to isolate changes, reduce dependencies, and promote code reuse. This modular approach enhances code organization, making it easier to navigate and maintain large codebases.\\n\\n3. **Encapsulation of Implementation Details**: Abstraction encapsulates implementation details, allowing developers to focus on what needs to be done rather than how it is done. This separation of concerns simplifies development by providing clear boundaries between different components of the system. Developers can work on different parts of the system independently, without needing to understand the internal workings of every component.\\n\\n4. **Promotion of Reusability**: Abstraction promotes code reuse by defining common interfaces and building blocks that can be used across different parts of the system. By abstracting away specific implementations, developers can create reusable components that can be shared and leveraged in multiple contexts, reducing redundancy and accelerating development.\\n\\n5. **Flexibility and Extensibility**: Abstraction enhances the flexibility and extensibility of software systems by allowing developers to introduce changes and enhancements without affecting the overall architecture. By defining clear interfaces and abstraction layers, developers can extend or replace components of the system without impacting other parts, making it easier to adapt to changing requirements and technologies.\\n\\n6. **Simplified Testing and Debugging**: Abstraction facilitates testing and debugging by providing well-defined interfaces and boundaries between components. Testing individual modules or classes in isolation becomes more straightforward, as developers can focus on verifying the behavior of each component independently. Additionally, debugging becomes more manageable, as issues can be localized to specific modules or classes, making it easier to identify and fix problems.\\n\\n7. **Team Collaboration and Communication**: Abstraction improves team collaboration and communication by providing a common language and understanding of system architecture and design. Developers can communicate more effectively by referring to high-level concepts and interfaces defined through abstraction, enabling smoother collaboration and reducing misunderstandings.\\n\\nOverall, abstraction is essential in large-scale software development projects because it promotes complexity management, modularity, code organization, encapsulation, reusability, flexibility, testing, debugging, team collaboration, and communication. By leveraging abstraction effectively, developers can build scalable, maintainable, and robust software systems that meet the evolving needs of users and stakeholders.'"
      ]
     },
     "execution_count": 18,
     "metadata": {},
     "output_type": "execute_result"
    }
   ],
   "source": [
    "\"\"\"Abstraction plays a crucial role in large-scale software development projects due to the following benefits:\n",
    "\n",
    "1. **Complexity Management**: Abstraction allows developers to manage complexity by hiding unnecessary details and focusing on essential concepts. By providing simplified interfaces and high-level views of systems, abstraction helps developers understand and reason about complex systems more effectively, reducing cognitive overload and making it easier to maintain and extend the software over time.\n",
    "\n",
    "2. **Modularity and Code Organization**: Abstraction promotes modularity by breaking down systems into smaller, more manageable components. By encapsulating related functionality within modules or classes, abstraction enables developers to isolate changes, reduce dependencies, and promote code reuse. This modular approach enhances code organization, making it easier to navigate and maintain large codebases.\n",
    "\n",
    "3. **Encapsulation of Implementation Details**: Abstraction encapsulates implementation details, allowing developers to focus on what needs to be done rather than how it is done. This separation of concerns simplifies development by providing clear boundaries between different components of the system. Developers can work on different parts of the system independently, without needing to understand the internal workings of every component.\n",
    "\n",
    "4. **Promotion of Reusability**: Abstraction promotes code reuse by defining common interfaces and building blocks that can be used across different parts of the system. By abstracting away specific implementations, developers can create reusable components that can be shared and leveraged in multiple contexts, reducing redundancy and accelerating development.\n",
    "\n",
    "5. **Flexibility and Extensibility**: Abstraction enhances the flexibility and extensibility of software systems by allowing developers to introduce changes and enhancements without affecting the overall architecture. By defining clear interfaces and abstraction layers, developers can extend or replace components of the system without impacting other parts, making it easier to adapt to changing requirements and technologies.\n",
    "\n",
    "6. **Simplified Testing and Debugging**: Abstraction facilitates testing and debugging by providing well-defined interfaces and boundaries between components. Testing individual modules or classes in isolation becomes more straightforward, as developers can focus on verifying the behavior of each component independently. Additionally, debugging becomes more manageable, as issues can be localized to specific modules or classes, making it easier to identify and fix problems.\n",
    "\n",
    "7. **Team Collaboration and Communication**: Abstraction improves team collaboration and communication by providing a common language and understanding of system architecture and design. Developers can communicate more effectively by referring to high-level concepts and interfaces defined through abstraction, enabling smoother collaboration and reducing misunderstandings.\n",
    "\n",
    "Overall, abstraction is essential in large-scale software development projects because it promotes complexity management, modularity, code organization, encapsulation, reusability, flexibility, testing, debugging, team collaboration, and communication. By leveraging abstraction effectively, developers can build scalable, maintainable, and robust software systems that meet the evolving needs of users and stakeholders.\"\"\""
   ]
  },
  {
   "cell_type": "code",
   "execution_count": 19,
   "id": "e08217eb-7161-443e-bebb-3e3bc559484b",
   "metadata": {},
   "outputs": [
    {
     "data": {
      "text/plain": [
       "\"Abstraction enhances code reusability and modularity in Python programs by promoting a clear separation of concerns, encapsulating implementation details, and providing reusable building blocks. Here's how abstraction achieves these goals in Python:\\n\\n1. **Encapsulation of Implementation Details**: Abstraction allows developers to encapsulate implementation details within modules, classes, or functions, exposing only the necessary interfaces to the outside world. By hiding the internal workings of components, abstraction reduces complexity and allows developers to focus on the high-level functionality without getting bogged down by implementation specifics.\\n\\n2. **Clear Interface Definitions**: Abstraction defines clear and well-defined interfaces for interacting with components. These interfaces provide a contract specifying the methods, properties, or functions that can be used to interact with a particular component. By adhering to these interfaces, developers can ensure that different parts of the system can communicate effectively without needing to understand each other's internal details.\\n\\n3. **Promotion of Modularity**: Abstraction promotes modularity by breaking down complex systems into smaller, more manageable components. Each component encapsulates a specific functionality or set of related functionalities, making it easier to understand, maintain, and extend the codebase. By organizing code into modules, classes, or functions based on their responsibilities, developers can create a modular architecture that promotes code reuse and simplifies development.\\n\\n4. **Reusability of Components**: Abstraction facilitates code reusability by providing reusable building blocks that can be leveraged across different parts of the system. By defining abstract interfaces and reusable components, developers can create libraries, modules, or classes that can be easily integrated into multiple projects or used in various contexts. This reduces redundancy, accelerates development, and promotes consistency across different parts of the codebase.\\n\\n5. **Separation of Concerns**: Abstraction encourages the separation of concerns by dividing code into distinct modules or classes that handle specific aspects of the system. Each module or class focuses on a single responsibility, making it easier to understand, test, and maintain. This separation of concerns improves code readability, reduces coupling between components, and enhances overall system robustness.\\n\\n6. **Facilitation of Testing and Debugging**: Abstraction simplifies testing and debugging by providing clear boundaries between components. With well-defined interfaces and encapsulated implementations, developers can test individual modules or classes in isolation, making it easier to identify and fix issues. Additionally, reusable components can be thoroughly tested once and then reused across different projects, reducing the effort required for testing.\\n\\nIn summary, abstraction enhances code reusability and modularity in Python programs by encapsulating implementation details, defining clear interfaces, promoting modularity, facilitating code reuse, encouraging separation of concerns, and simplifying testing and debugging. By leveraging abstraction effectively, developers can create scalable, maintainable, and robust software solutions that meet the evolving needs of users and stakeholders.\""
      ]
     },
     "execution_count": 19,
     "metadata": {},
     "output_type": "execute_result"
    }
   ],
   "source": [
    "\"\"\"Abstraction enhances code reusability and modularity in Python programs by promoting a clear separation of concerns, encapsulating implementation details, and providing reusable building blocks. Here's how abstraction achieves these goals in Python:\n",
    "\n",
    "1. **Encapsulation of Implementation Details**: Abstraction allows developers to encapsulate implementation details within modules, classes, or functions, exposing only the necessary interfaces to the outside world. By hiding the internal workings of components, abstraction reduces complexity and allows developers to focus on the high-level functionality without getting bogged down by implementation specifics.\n",
    "\n",
    "2. **Clear Interface Definitions**: Abstraction defines clear and well-defined interfaces for interacting with components. These interfaces provide a contract specifying the methods, properties, or functions that can be used to interact with a particular component. By adhering to these interfaces, developers can ensure that different parts of the system can communicate effectively without needing to understand each other's internal details.\n",
    "\n",
    "3. **Promotion of Modularity**: Abstraction promotes modularity by breaking down complex systems into smaller, more manageable components. Each component encapsulates a specific functionality or set of related functionalities, making it easier to understand, maintain, and extend the codebase. By organizing code into modules, classes, or functions based on their responsibilities, developers can create a modular architecture that promotes code reuse and simplifies development.\n",
    "\n",
    "4. **Reusability of Components**: Abstraction facilitates code reusability by providing reusable building blocks that can be leveraged across different parts of the system. By defining abstract interfaces and reusable components, developers can create libraries, modules, or classes that can be easily integrated into multiple projects or used in various contexts. This reduces redundancy, accelerates development, and promotes consistency across different parts of the codebase.\n",
    "\n",
    "5. **Separation of Concerns**: Abstraction encourages the separation of concerns by dividing code into distinct modules or classes that handle specific aspects of the system. Each module or class focuses on a single responsibility, making it easier to understand, test, and maintain. This separation of concerns improves code readability, reduces coupling between components, and enhances overall system robustness.\n",
    "\n",
    "6. **Facilitation of Testing and Debugging**: Abstraction simplifies testing and debugging by providing clear boundaries between components. With well-defined interfaces and encapsulated implementations, developers can test individual modules or classes in isolation, making it easier to identify and fix issues. Additionally, reusable components can be thoroughly tested once and then reused across different projects, reducing the effort required for testing.\n",
    "\n",
    "In summary, abstraction enhances code reusability and modularity in Python programs by encapsulating implementation details, defining clear interfaces, promoting modularity, facilitating code reuse, encouraging separation of concerns, and simplifying testing and debugging. By leveraging abstraction effectively, developers can create scalable, maintainable, and robust software solutions that meet the evolving needs of users and stakeholders.\"\"\""
   ]
  },
  {
   "cell_type": "code",
   "execution_count": 20,
   "id": "f5a4b7c4-0cd3-4dfa-afb8-17f4e5cb15f5",
   "metadata": {},
   "outputs": [
    {
     "name": "stdout",
     "output_type": "stream",
     "text": [
      "Added 'Python Programming' to the library collection.\n",
      "Added 'Data Structures and Algorithms' to the library collection.\n",
      "'Python Programming' has been borrowed by Alice.\n",
      "'Data Structures and Algorithms' has been borrowed by Bob.\n",
      "'Python Programming' is already borrowed by Alice.\n",
      "'Python Programming' has been returned to the library.\n",
      "'Python Programming' has been borrowed by Charlie.\n"
     ]
    }
   ],
   "source": [
    "from abc import ABC, abstractmethod\n",
    "\n",
    "class LibrarySystem(ABC):\n",
    "    def __init__(self, name):\n",
    "        self.name = name\n",
    "        self.books = {}\n",
    "\n",
    "    @abstractmethod\n",
    "    def add_book(self, book):\n",
    "        pass\n",
    "\n",
    "    @abstractmethod\n",
    "    def borrow_book(self, book_title, borrower_name):\n",
    "        pass\n",
    "\n",
    "    @abstractmethod\n",
    "    def return_book(self, book_title):\n",
    "        pass\n",
    "\n",
    "class Library(LibrarySystem):\n",
    "    def add_book(self, book):\n",
    "        if book.title not in self.books:\n",
    "            self.books[book.title] = book\n",
    "            print(f\"Added '{book.title}' to the library collection.\")\n",
    "        else:\n",
    "            print(f\"'{book.title}' is already in the library collection.\")\n",
    "\n",
    "    def borrow_book(self, book_title, borrower_name):\n",
    "        if book_title in self.books:\n",
    "            book = self.books[book_title]\n",
    "            if not book.borrowed:\n",
    "                book.borrowed_by = borrower_name\n",
    "                book.borrowed = True\n",
    "                print(f\"'{book.title}' has been borrowed by {borrower_name}.\")\n",
    "            else:\n",
    "                print(f\"'{book.title}' is already borrowed by {book.borrowed_by}.\")\n",
    "        else:\n",
    "            print(f\"'{book_title}' is not available in the library.\")\n",
    "\n",
    "    def return_book(self, book_title):\n",
    "        if book_title in self.books:\n",
    "            book = self.books[book_title]\n",
    "            if book.borrowed:\n",
    "                book.borrowed_by = None\n",
    "                book.borrowed = False\n",
    "                print(f\"'{book.title}' has been returned to the library.\")\n",
    "            else:\n",
    "                print(f\"'{book.title}' is not currently borrowed.\")\n",
    "        else:\n",
    "            print(f\"'{book_title}' is not available in the library.\")\n",
    "\n",
    "class Book:\n",
    "    def __init__(self, title, author):\n",
    "        self.title = title\n",
    "        self.author = author\n",
    "        self.borrowed = False\n",
    "        self.borrowed_by = None\n",
    "\n",
    "# Usage\n",
    "library = Library(\"Central Library\")\n",
    "\n",
    "book1 = Book(\"Python Programming\", \"John Smith\")\n",
    "book2 = Book(\"Data Structures and Algorithms\", \"Alice Johnson\")\n",
    "\n",
    "library.add_book(book1)\n",
    "library.add_book(book2)\n",
    "\n",
    "library.borrow_book(\"Python Programming\", \"Alice\")\n",
    "library.borrow_book(\"Data Structures and Algorithms\", \"Bob\")\n",
    "library.borrow_book(\"Python Programming\", \"Charlie\")\n",
    "\n",
    "library.return_book(\"Python Programming\")\n",
    "library.borrow_book(\"Python Programming\", \"Charlie\")\n"
   ]
  },
  {
   "cell_type": "code",
   "execution_count": 21,
   "id": "e023dd16-562b-4a74-a894-c025b3159afb",
   "metadata": {},
   "outputs": [
    {
     "data": {
      "text/plain": [
       "\"Method abstraction in Python refers to the process of defining methods in a class without providing their implementation details. Instead, the methods serve as placeholders or abstract signatures, outlining the required functionality without specifying how it should be executed. Method abstraction is often achieved using abstract methods, which are declared in abstract base classes using the `@abstractmethod` decorator from the `abc` module.\\n\\nHere's how method abstraction relates to polymorphism in Python:\\n\\n1. **Common Interface**: Method abstraction allows you to define a common interface for classes that share similar behaviors. Abstract methods define the signature that concrete subclasses must implement, ensuring consistency across different implementations.\\n\\n2. **Polymorphic Behavior**: Polymorphism refers to the ability of objects to take on multiple forms based on their context. In Python, polymorphism is achieved through method overriding, where a subclass provides its own implementation for an inherited method. Method abstraction facilitates polymorphism by defining abstract methods that can be overridden by concrete subclasses, allowing objects of different types to be treated uniformly based on their common interface.\\n\\n3. **Dynamic Dispatch**: Python uses dynamic dispatch to determine which method implementation to call at runtime based on the type of the object. When a method is invoked on an object, Python looks up the method in the object's class hierarchy and executes the most specific implementation found. Method abstraction enables dynamic dispatch by defining a common interface for objects of different types, enabling them to respond to method calls in a polymorphic manner.\\n\\n4. **Code Reusability**: Method abstraction promotes code reusability by defining abstract methods that can be implemented by multiple subclasses. By providing a common interface, method abstraction allows developers to write generic code that can operate on objects of different types without needing to know their specific implementations.\\n\\n5. **Flexibility and Extensibility**: Method abstraction makes code more flexible and extensible by allowing developers to define abstract methods that can be customized or extended by subclasses. New subclasses can be easily added to the hierarchy, providing additional implementations for the abstract methods and expanding the range of behaviors supported by the system.\\n\\nIn summary, method abstraction in Python provides a mechanism for defining common interfaces and behaviors through abstract methods, facilitating polymorphism, code reusability, flexibility, and extensibility in object-oriented programming. By leveraging method abstraction and polymorphism effectively, developers can create modular, maintainable, and scalable software systems that can accommodate changing requirements and evolving needs.\""
      ]
     },
     "execution_count": 21,
     "metadata": {},
     "output_type": "execute_result"
    }
   ],
   "source": [
    "\"\"\"Method abstraction in Python refers to the process of defining methods in a class without providing their implementation details. Instead, the methods serve as placeholders or abstract signatures, outlining the required functionality without specifying how it should be executed. Method abstraction is often achieved using abstract methods, which are declared in abstract base classes using the `@abstractmethod` decorator from the `abc` module.\n",
    "\n",
    "Here's how method abstraction relates to polymorphism in Python:\n",
    "\n",
    "1. **Common Interface**: Method abstraction allows you to define a common interface for classes that share similar behaviors. Abstract methods define the signature that concrete subclasses must implement, ensuring consistency across different implementations.\n",
    "\n",
    "2. **Polymorphic Behavior**: Polymorphism refers to the ability of objects to take on multiple forms based on their context. In Python, polymorphism is achieved through method overriding, where a subclass provides its own implementation for an inherited method. Method abstraction facilitates polymorphism by defining abstract methods that can be overridden by concrete subclasses, allowing objects of different types to be treated uniformly based on their common interface.\n",
    "\n",
    "3. **Dynamic Dispatch**: Python uses dynamic dispatch to determine which method implementation to call at runtime based on the type of the object. When a method is invoked on an object, Python looks up the method in the object's class hierarchy and executes the most specific implementation found. Method abstraction enables dynamic dispatch by defining a common interface for objects of different types, enabling them to respond to method calls in a polymorphic manner.\n",
    "\n",
    "4. **Code Reusability**: Method abstraction promotes code reusability by defining abstract methods that can be implemented by multiple subclasses. By providing a common interface, method abstraction allows developers to write generic code that can operate on objects of different types without needing to know their specific implementations.\n",
    "\n",
    "5. **Flexibility and Extensibility**: Method abstraction makes code more flexible and extensible by allowing developers to define abstract methods that can be customized or extended by subclasses. New subclasses can be easily added to the hierarchy, providing additional implementations for the abstract methods and expanding the range of behaviors supported by the system.\n",
    "\n",
    "In summary, method abstraction in Python provides a mechanism for defining common interfaces and behaviors through abstract methods, facilitating polymorphism, code reusability, flexibility, and extensibility in object-oriented programming. By leveraging method abstraction and polymorphism effectively, developers can create modular, maintainable, and scalable software systems that can accommodate changing requirements and evolving needs.\"\"\""
   ]
  },
  {
   "cell_type": "code",
   "execution_count": 22,
   "id": "c68fb48a-2a0b-41e6-b534-e227404fbf8f",
   "metadata": {},
   "outputs": [
    {
     "data": {
      "text/plain": [
       "'Composition is a design principle in object-oriented programming (OOP) where objects are built by combining simpler objects to create more complex ones. It involves creating complex objects by aggregating or composing multiple simpler objects, rather than through inheritance. Composition allows for greater flexibility, code reuse, and modularity compared to inheritance, as it promotes a \"has-a\" relationship between objects rather than an \"is-a\" relationship.\\n\\nIn Python, composition is typically achieved by creating classes that contain instances of other classes as attributes. These attributes represent the parts or components of the composite object, and they encapsulate specific functionalities or behaviors. By combining these component objects, a composite object with more complex behavior or functionality can be constructed.\\n\\nHere\\'s how composition works in Python:\\n\\nDefining Component Classes: First, you define classes for the simpler objects or components that will be used to compose the complex object. These classes encapsulate specific functionalities or behaviors. They can be independent entities with their own methods and attributes.\\n\\nCreating Composite Classes: Next, you define a composite class that will represent the more complex object. This class contains instances of the component classes as attributes. These attributes represent the parts or components of the composite object.\\n\\nAggregating Components: Within the composite class, you aggregate the component objects by instantiating them as attributes. These component objects are initialized with specific values or configurations, and they encapsulate their own behavior.\\n\\nDelegating Behavior: The composite class may define methods that delegate behavior to the component objects. These methods can call methods on the component objects, combining their functionalities to perform more complex operations.\\n\\nFlexibility and Modularity: Composition allows for greater flexibility and modularity compared to inheritance. The composite object can be constructed from different combinations of component objects, allowing for more flexible configurations. Additionally, component objects can be reused in multiple composite objects, promoting code reuse and reducing duplication.\\n\\nEncapsulation: Composition promotes encapsulation by encapsulating the behavior and state of component objects within the composite object. This reduces the complexity of the composite object and makes it easier to understand and maintain.'"
      ]
     },
     "execution_count": 22,
     "metadata": {},
     "output_type": "execute_result"
    }
   ],
   "source": [
    "\"\"\"Composition is a design principle in object-oriented programming (OOP) where objects are built by combining simpler objects to create more complex ones. It involves creating complex objects by aggregating or composing multiple simpler objects, rather than through inheritance. Composition allows for greater flexibility, code reuse, and modularity compared to inheritance, as it promotes a \"has-a\" relationship between objects rather than an \"is-a\" relationship.\n",
    "\n",
    "In Python, composition is typically achieved by creating classes that contain instances of other classes as attributes. These attributes represent the parts or components of the composite object, and they encapsulate specific functionalities or behaviors. By combining these component objects, a composite object with more complex behavior or functionality can be constructed.\n",
    "\n",
    "Here's how composition works in Python:\n",
    "\n",
    "Defining Component Classes: First, you define classes for the simpler objects or components that will be used to compose the complex object. These classes encapsulate specific functionalities or behaviors. They can be independent entities with their own methods and attributes.\n",
    "\n",
    "Creating Composite Classes: Next, you define a composite class that will represent the more complex object. This class contains instances of the component classes as attributes. These attributes represent the parts or components of the composite object.\n",
    "\n",
    "Aggregating Components: Within the composite class, you aggregate the component objects by instantiating them as attributes. These component objects are initialized with specific values or configurations, and they encapsulate their own behavior.\n",
    "\n",
    "Delegating Behavior: The composite class may define methods that delegate behavior to the component objects. These methods can call methods on the component objects, combining their functionalities to perform more complex operations.\n",
    "\n",
    "Flexibility and Modularity: Composition allows for greater flexibility and modularity compared to inheritance. The composite object can be constructed from different combinations of component objects, allowing for more flexible configurations. Additionally, component objects can be reused in multiple composite objects, promoting code reuse and reducing duplication.\n",
    "\n",
    "Encapsulation: Composition promotes encapsulation by encapsulating the behavior and state of component objects within the composite object. This reduces the complexity of the composite object and makes it easier to understand and maintain.\"\"\""
   ]
  },
  {
   "cell_type": "code",
   "execution_count": 23,
   "id": "c94a8b64-913c-4ebb-9b61-b2c9f1fbe281",
   "metadata": {},
   "outputs": [
    {
     "data": {
      "text/plain": [
       "'Composition and inheritance are two fundamental concepts in object-oriented programming (OOP) that are used to establish relationships between classes and facilitate code reuse. Here\\'s a breakdown of the differences between composition and inheritance:\\n\\nRelationship Type:\\n\\nComposition: Composition establishes a \"has-a\" relationship between classes, where one class contains another class as a part or component. In composition, the containing class owns the contained class and is responsible for its creation, lifetime, and destruction.\\nInheritance: Inheritance establishes an \"is-a\" relationship between classes, where one class (subclass or derived class) inherits properties and behaviors from another class (superclass or base class). Inheritance represents an \"is-a\" relationship hierarchy, where subclasses are specialized versions of their superclass.\\nCode Reuse:\\n\\nComposition: Composition promotes code reuse by allowing classes to be composed of other classes as components. Components can be reused across multiple composite classes, leading to greater flexibility and modularity.\\nInheritance: Inheritance promotes code reuse by allowing subclasses to inherit properties and behaviors from their superclass. Subclasses can reuse and extend the functionality of their superclass without duplicating code.\\nFlexibility:\\n\\nComposition: Composition offers greater flexibility compared to inheritance because it allows classes to be composed of different combinations of components. Components can be added, removed, or replaced dynamically at runtime, allowing for more flexible configurations.\\nInheritance: Inheritance provides a fixed hierarchy of classes, where subclasses inherit properties and behaviors from their superclass. Changes to the superclass may affect all subclasses, and it may be challenging to modify the inheritance hierarchy once it is established.\\nEncapsulation:\\n\\nComposition: Composition promotes encapsulation by encapsulating the behavior and state of component objects within the composite object. Components are typically private attributes of the composite class, reducing the visibility of their implementation details.\\nInheritance: Inheritance may lead to less encapsulation compared to composition because subclasses have direct access to the properties and behaviors of their superclass. Subclasses can override and modify inherited methods and attributes, potentially exposing implementation details.\\nRelationship Complexity:\\n\\nComposition: Composition is suitable for establishing complex relationships between classes where objects are composed of multiple parts or components. It is often used when classes have a \"has-a\" relationship that is not hierarchical.\\nInheritance: Inheritance is suitable for establishing hierarchical relationships between classes where objects can be categorized into specialized subclasses. It is often used when classes have an \"is-a\" relationship, representing specialization and generalization.'"
      ]
     },
     "execution_count": 23,
     "metadata": {},
     "output_type": "execute_result"
    }
   ],
   "source": [
    "\"\"\"Composition and inheritance are two fundamental concepts in object-oriented programming (OOP) that are used to establish relationships between classes and facilitate code reuse. Here's a breakdown of the differences between composition and inheritance:\n",
    "\n",
    "Relationship Type:\n",
    "\n",
    "Composition: Composition establishes a \"has-a\" relationship between classes, where one class contains another class as a part or component. In composition, the containing class owns the contained class and is responsible for its creation, lifetime, and destruction.\n",
    "Inheritance: Inheritance establishes an \"is-a\" relationship between classes, where one class (subclass or derived class) inherits properties and behaviors from another class (superclass or base class). Inheritance represents an \"is-a\" relationship hierarchy, where subclasses are specialized versions of their superclass.\n",
    "Code Reuse:\n",
    "\n",
    "Composition: Composition promotes code reuse by allowing classes to be composed of other classes as components. Components can be reused across multiple composite classes, leading to greater flexibility and modularity.\n",
    "Inheritance: Inheritance promotes code reuse by allowing subclasses to inherit properties and behaviors from their superclass. Subclasses can reuse and extend the functionality of their superclass without duplicating code.\n",
    "Flexibility:\n",
    "\n",
    "Composition: Composition offers greater flexibility compared to inheritance because it allows classes to be composed of different combinations of components. Components can be added, removed, or replaced dynamically at runtime, allowing for more flexible configurations.\n",
    "Inheritance: Inheritance provides a fixed hierarchy of classes, where subclasses inherit properties and behaviors from their superclass. Changes to the superclass may affect all subclasses, and it may be challenging to modify the inheritance hierarchy once it is established.\n",
    "Encapsulation:\n",
    "\n",
    "Composition: Composition promotes encapsulation by encapsulating the behavior and state of component objects within the composite object. Components are typically private attributes of the composite class, reducing the visibility of their implementation details.\n",
    "Inheritance: Inheritance may lead to less encapsulation compared to composition because subclasses have direct access to the properties and behaviors of their superclass. Subclasses can override and modify inherited methods and attributes, potentially exposing implementation details.\n",
    "Relationship Complexity:\n",
    "\n",
    "Composition: Composition is suitable for establishing complex relationships between classes where objects are composed of multiple parts or components. It is often used when classes have a \"has-a\" relationship that is not hierarchical.\n",
    "Inheritance: Inheritance is suitable for establishing hierarchical relationships between classes where objects can be categorized into specialized subclasses. It is often used when classes have an \"is-a\" relationship, representing specialization and generalization.\"\"\""
   ]
  },
  {
   "cell_type": "code",
   "execution_count": 24,
   "id": "53170c40-de53-4608-8427-c986ec60d93c",
   "metadata": {},
   "outputs": [
    {
     "name": "stdout",
     "output_type": "stream",
     "text": [
      "Title: Python Programming\n",
      "Author: John Doe\n",
      "Author's Birthdate: 1990-05-15\n"
     ]
    }
   ],
   "source": [
    "class Author:\n",
    "    def __init__(self, name, birthdate):\n",
    "        self.name = name\n",
    "        self.birthdate = birthdate\n",
    "\n",
    "class Book:\n",
    "    def __init__(self, title, author_name, author_birthdate):\n",
    "        self.title = title\n",
    "        self.author = Author(author_name, author_birthdate)\n",
    "\n",
    "    def display_info(self):\n",
    "        print(\"Title:\", self.title)\n",
    "        print(\"Author:\", self.author.name)\n",
    "        print(\"Author's Birthdate:\", self.author.birthdate)\n",
    "\n",
    "# Example of creating a Book object\n",
    "book = Book(\"Python Programming\", \"John Doe\", \"1990-05-15\")\n",
    "book.display_info()\n"
   ]
  },
  {
   "cell_type": "code",
   "execution_count": 25,
   "id": "091e7274-1e3b-4caa-bcfd-fa88384c16af",
   "metadata": {},
   "outputs": [
    {
     "data": {
      "text/plain": [
       "'Using composition over inheritance in Python offers several benefits, particularly in terms of code flexibility and reusability:\\n\\n1. **Flexibility in Object Composition**:\\n   - Composition allows classes to be composed of different combinations of components, providing greater flexibility compared to inheritance. With composition, you can easily mix and match components to create objects with diverse functionalities, adapting to changing requirements more effectively.\\n\\n2. **Reduced Coupling**:\\n   - Composition reduces coupling between classes by promoting a \"has-a\" relationship rather than an \"is-a\" relationship. This reduces the dependencies between classes and makes the codebase more modular and easier to maintain. Changes to one class are less likely to affect other classes, improving code stability and flexibility.\\n\\n3. **Encapsulation of Responsibilities**:\\n   - Composition promotes encapsulation by encapsulating the behavior and state of component objects within the composite object. Each component is responsible for a specific aspect of functionality, making the codebase more modular and easier to understand. This clear separation of concerns enhances code readability and maintainability.\\n\\n4. **Code Reusability**:\\n   - Composition promotes code reusability by allowing components to be reused across multiple composite classes. Components encapsulate specific functionalities or behaviors, which can be leveraged in different contexts without duplicating code. This promotes code reuse, reduces redundancy, and accelerates development.\\n\\n5. **Dynamic Configurability**:\\n   - Composition enables dynamic configurability by allowing components to be added, removed, or replaced at runtime. This flexibility allows you to customize the behavior of composite objects based on specific requirements or use cases. It also facilitates testing and debugging by enabling the easy substitution of components with mock objects or stubs.\\n\\n6. **Enhanced Testability**:\\n   - Composition improves testability by promoting the use of interfaces and dependency injection. Components can be replaced with mock objects or stubs during testing, allowing you to isolate and test individual components in isolation. This facilitates unit testing, integration testing, and other testing methodologies, leading to more robust and reliable code.\\n\\n7. **Avoidance of Fragile Base Class Problem**:\\n   - Composition helps avoid the fragile base class problem, where changes to a superclass can inadvertently affect subclasses and lead to unintended consequences. With composition, there is no direct inheritance hierarchy, reducing the risk of cascading changes and making the codebase more resilient to modifications.\\n\\nIn summary, using composition over inheritance in Python provides benefits such as flexibility in object composition, reduced coupling, encapsulation of responsibilities, code reusability, dynamic configurability, enhanced testability, and avoidance of the fragile base class problem. By leveraging composition effectively, you can create more modular, maintainable, and scalable software systems that can adapt to changing requirements and evolve over time.'"
      ]
     },
     "execution_count": 25,
     "metadata": {},
     "output_type": "execute_result"
    }
   ],
   "source": [
    "\"\"\"Using composition over inheritance in Python offers several benefits, particularly in terms of code flexibility and reusability:\n",
    "\n",
    "1. **Flexibility in Object Composition**:\n",
    "   - Composition allows classes to be composed of different combinations of components, providing greater flexibility compared to inheritance. With composition, you can easily mix and match components to create objects with diverse functionalities, adapting to changing requirements more effectively.\n",
    "\n",
    "2. **Reduced Coupling**:\n",
    "   - Composition reduces coupling between classes by promoting a \"has-a\" relationship rather than an \"is-a\" relationship. This reduces the dependencies between classes and makes the codebase more modular and easier to maintain. Changes to one class are less likely to affect other classes, improving code stability and flexibility.\n",
    "\n",
    "3. **Encapsulation of Responsibilities**:\n",
    "   - Composition promotes encapsulation by encapsulating the behavior and state of component objects within the composite object. Each component is responsible for a specific aspect of functionality, making the codebase more modular and easier to understand. This clear separation of concerns enhances code readability and maintainability.\n",
    "\n",
    "4. **Code Reusability**:\n",
    "   - Composition promotes code reusability by allowing components to be reused across multiple composite classes. Components encapsulate specific functionalities or behaviors, which can be leveraged in different contexts without duplicating code. This promotes code reuse, reduces redundancy, and accelerates development.\n",
    "\n",
    "5. **Dynamic Configurability**:\n",
    "   - Composition enables dynamic configurability by allowing components to be added, removed, or replaced at runtime. This flexibility allows you to customize the behavior of composite objects based on specific requirements or use cases. It also facilitates testing and debugging by enabling the easy substitution of components with mock objects or stubs.\n",
    "\n",
    "6. **Enhanced Testability**:\n",
    "   - Composition improves testability by promoting the use of interfaces and dependency injection. Components can be replaced with mock objects or stubs during testing, allowing you to isolate and test individual components in isolation. This facilitates unit testing, integration testing, and other testing methodologies, leading to more robust and reliable code.\n",
    "\n",
    "7. **Avoidance of Fragile Base Class Problem**:\n",
    "   - Composition helps avoid the fragile base class problem, where changes to a superclass can inadvertently affect subclasses and lead to unintended consequences. With composition, there is no direct inheritance hierarchy, reducing the risk of cascading changes and making the codebase more resilient to modifications.\n",
    "\n",
    "In summary, using composition over inheritance in Python provides benefits such as flexibility in object composition, reduced coupling, encapsulation of responsibilities, code reusability, dynamic configurability, enhanced testability, and avoidance of the fragile base class problem. By leveraging composition effectively, you can create more modular, maintainable, and scalable software systems that can adapt to changing requirements and evolve over time.\"\"\""
   ]
  },
  {
   "cell_type": "code",
   "execution_count": 26,
   "id": "e094f61e-7bcf-4492-a753-dde778d87301",
   "metadata": {},
   "outputs": [
    {
     "name": "stdout",
     "output_type": "stream",
     "text": [
      "Car starting...\n",
      "Engine started\n",
      "Car stopping...\n",
      "Engine stopped\n"
     ]
    }
   ],
   "source": [
    "\"\"\"In Python, composition can be implemented by creating classes that contain instances of other\n",
    "classes as attributes. These attributes represent the parts or components of the composite object.\n",
    "Here's an example of how you can implement composition in Python classes:\"\"\"\n",
    "class Engine:\n",
    "    def start(self):\n",
    "        print(\"Engine started\")\n",
    "\n",
    "    def stop(self):\n",
    "        print(\"Engine stopped\")\n",
    "\n",
    "class Car:\n",
    "    def __init__(self):\n",
    "        self.engine = Engine()  # Composition: Car \"has a\" Engine\n",
    "\n",
    "    def start(self):\n",
    "        print(\"Car starting...\")\n",
    "        self.engine.start()\n",
    "\n",
    "    def stop(self):\n",
    "        print(\"Car stopping...\")\n",
    "        self.engine.stop()\n",
    "\n",
    "# Usage\n",
    "car = Car()\n",
    "car.start()\n",
    "car.stop()\n"
   ]
  },
  {
   "cell_type": "code",
   "execution_count": 27,
   "id": "fcf62348-6a4f-43bc-b1de-183988b28f13",
   "metadata": {},
   "outputs": [
    {
     "name": "stdout",
     "output_type": "stream",
     "text": [
      "Playing playlist 'My Favorites':\n",
      "Playing 'Shape of You' by Ed Sheeran (240 seconds)\n",
      "Playing 'Blinding Lights' by The Weeknd (210 seconds)\n",
      "Playing 'Stairway to Heaven' by Led Zeppelin (480 seconds)\n"
     ]
    }
   ],
   "source": [
    "class Song:\n",
    "    def __init__(self, title, artist, duration):\n",
    "        self.title = title\n",
    "        self.artist = artist\n",
    "        self.duration = duration\n",
    "\n",
    "    def play(self):\n",
    "        print(f\"Playing '{self.title}' by {self.artist} ({self.duration} seconds)\")\n",
    "\n",
    "class Playlist:\n",
    "    def __init__(self, name):\n",
    "        self.name = name\n",
    "        self.songs = []\n",
    "\n",
    "    def add_song(self, song):\n",
    "        self.songs.append(song)\n",
    "\n",
    "    def play_all(self):\n",
    "        print(f\"Playing playlist '{self.name}':\")\n",
    "        for song in self.songs:\n",
    "            song.play()\n",
    "\n",
    "# Example usage\n",
    "song1 = Song(\"Shape of You\", \"Ed Sheeran\", 240)\n",
    "song2 = Song(\"Blinding Lights\", \"The Weeknd\", 210)\n",
    "song3 = Song(\"Stairway to Heaven\", \"Led Zeppelin\", 480)\n",
    "\n",
    "playlist = Playlist(\"My Favorites\")\n",
    "playlist.add_song(song1)\n",
    "playlist.add_song(song2)\n",
    "playlist.add_song(song3)\n",
    "\n",
    "playlist.play_all()"
   ]
  },
  {
   "cell_type": "code",
   "execution_count": 28,
   "id": "af2373db-c112-49e6-85f5-dfba77ddcd10",
   "metadata": {},
   "outputs": [
    {
     "data": {
      "text/plain": [
       "'In object-oriented programming, a \"has-a\" relationship refers to a type of relationship between classes where one class contains an instance of another class as an attribute. This relationship is a form of composition, where a complex object is built by combining simpler objects. The \"has-a\" relationship implies that the containing class owns or possesses the contained class as one of its parts or components.\\n\\nHere\\'s how the \"has-a\" relationship in composition helps in designing software systems:\\n\\n1. **Modularity and Encapsulation**:\\n   - By representing objects as components within other objects, composition promotes modularity and encapsulation. Each component encapsulates specific functionality or behavior, making it easier to understand, maintain, and modify individual parts of the system without affecting the entire system.\\n\\n2. **Code Reusability**:\\n   - Composition promotes code reusability by allowing components to be reused across multiple composite classes. Components encapsulate specific functionalities or behaviors, which can be leveraged in different contexts without duplicating code. This leads to cleaner, more modular code and reduces redundancy.\\n\\n3. **Flexibility and Configurability**:\\n   - Composition provides flexibility and configurability by allowing components to be added, removed, or replaced dynamically at runtime. This flexibility allows you to customize the behavior of composite objects based on specific requirements or use cases. It also facilitates testing and debugging by enabling easy substitution of components with mock objects or stubs.\\n\\n4. **Reduced Coupling**:\\n   - Composition reduces coupling between classes by promoting a \"has-a\" relationship rather than an \"is-a\" relationship. This reduces the dependencies between classes and makes the codebase more modular and easier to maintain. Changes to one class are less likely to affect other classes, improving code stability and flexibility.\\n\\n5. **Clearer Object Relationships**:\\n   - The \"has-a\" relationship in composition helps clarify object relationships in the software system. It explicitly states that one class contains another class as a part or component, making the structure and behavior of the system more transparent and easier to understand for developers.\\n\\n6. **Promotion of Single Responsibility Principle (SRP)**:\\n   - Composition promotes the Single Responsibility Principle (SRP) by encouraging classes to have a single responsibility and by delegating specific tasks to individual components. Each component focuses on a specific aspect of functionality, leading to more modular and maintainable code.\\n\\nOverall, the \"has-a\" relationship in composition is a powerful design pattern that promotes modularity, code reusability, flexibility, reduced coupling, clearer object relationships, and adherence to design principles like SRP. By leveraging composition effectively, developers can create software systems that are easier to understand, maintain, and extend.'"
      ]
     },
     "execution_count": 28,
     "metadata": {},
     "output_type": "execute_result"
    }
   ],
   "source": [
    "\"\"\"In object-oriented programming, a \"has-a\" relationship refers to a type of relationship between classes where one class contains an instance of another class as an attribute. This relationship is a form of composition, where a complex object is built by combining simpler objects. The \"has-a\" relationship implies that the containing class owns or possesses the contained class as one of its parts or components.\n",
    "\n",
    "Here's how the \"has-a\" relationship in composition helps in designing software systems:\n",
    "\n",
    "1. **Modularity and Encapsulation**:\n",
    "   - By representing objects as components within other objects, composition promotes modularity and encapsulation. Each component encapsulates specific functionality or behavior, making it easier to understand, maintain, and modify individual parts of the system without affecting the entire system.\n",
    "\n",
    "2. **Code Reusability**:\n",
    "   - Composition promotes code reusability by allowing components to be reused across multiple composite classes. Components encapsulate specific functionalities or behaviors, which can be leveraged in different contexts without duplicating code. This leads to cleaner, more modular code and reduces redundancy.\n",
    "\n",
    "3. **Flexibility and Configurability**:\n",
    "   - Composition provides flexibility and configurability by allowing components to be added, removed, or replaced dynamically at runtime. This flexibility allows you to customize the behavior of composite objects based on specific requirements or use cases. It also facilitates testing and debugging by enabling easy substitution of components with mock objects or stubs.\n",
    "\n",
    "4. **Reduced Coupling**:\n",
    "   - Composition reduces coupling between classes by promoting a \"has-a\" relationship rather than an \"is-a\" relationship. This reduces the dependencies between classes and makes the codebase more modular and easier to maintain. Changes to one class are less likely to affect other classes, improving code stability and flexibility.\n",
    "\n",
    "5. **Clearer Object Relationships**:\n",
    "   - The \"has-a\" relationship in composition helps clarify object relationships in the software system. It explicitly states that one class contains another class as a part or component, making the structure and behavior of the system more transparent and easier to understand for developers.\n",
    "\n",
    "6. **Promotion of Single Responsibility Principle (SRP)**:\n",
    "   - Composition promotes the Single Responsibility Principle (SRP) by encouraging classes to have a single responsibility and by delegating specific tasks to individual components. Each component focuses on a specific aspect of functionality, leading to more modular and maintainable code.\n",
    "\n",
    "Overall, the \"has-a\" relationship in composition is a powerful design pattern that promotes modularity, code reusability, flexibility, reduced coupling, clearer object relationships, and adherence to design principles like SRP. By leveraging composition effectively, developers can create software systems that are easier to understand, maintain, and extend.\"\"\""
   ]
  },
  {
   "cell_type": "code",
   "execution_count": 29,
   "id": "a7deef95-7a15-4e58-bef6-ec5defc04f7f",
   "metadata": {},
   "outputs": [
    {
     "name": "stdout",
     "output_type": "stream",
     "text": [
      "Computer System Configuration:\n",
      "CPU: Intel Core i7 CPU running at 3.5 GHz\n",
      "RAM: 16 GB RAM running at 2400 MHz\n",
      "Storage: 512 GB SSD storage\n"
     ]
    }
   ],
   "source": [
    "class CPU:\n",
    "    def __init__(self, brand, model, speed):\n",
    "        self.brand = brand\n",
    "        self.model = model\n",
    "        self.speed = speed\n",
    "\n",
    "    def info(self):\n",
    "        return f\"{self.brand} {self.model} CPU running at {self.speed} GHz\"\n",
    "\n",
    "class RAM:\n",
    "    def __init__(self, capacity, speed):\n",
    "        self.capacity = capacity\n",
    "        self.speed = speed\n",
    "\n",
    "    def info(self):\n",
    "        return f\"{self.capacity} GB RAM running at {self.speed} MHz\"\n",
    "\n",
    "class Storage:\n",
    "    def __init__(self, capacity, type):\n",
    "        self.capacity = capacity\n",
    "        self.type = type\n",
    "\n",
    "    def info(self):\n",
    "        return f\"{self.capacity} GB {self.type} storage\"\n",
    "\n",
    "class ComputerSystem:\n",
    "    def __init__(self, cpu, ram, storage):\n",
    "        self.cpu = cpu\n",
    "        self.ram = ram\n",
    "        self.storage = storage\n",
    "\n",
    "    def display_info(self):\n",
    "        print(\"Computer System Configuration:\")\n",
    "        print(\"CPU:\", self.cpu.info())\n",
    "        print(\"RAM:\", self.ram.info())\n",
    "        print(\"Storage:\", self.storage.info())\n",
    "\n",
    "# Usage\n",
    "cpu = CPU(\"Intel\", \"Core i7\", 3.5)\n",
    "ram = RAM(16, 2400)\n",
    "storage = Storage(512, \"SSD\")\n",
    "\n",
    "computer = ComputerSystem(cpu, ram, storage)\n",
    "computer.display_info()\n"
   ]
  },
  {
   "cell_type": "code",
   "execution_count": 30,
   "id": "889c93d4-5717-4200-ae08-7e4d3a108844",
   "metadata": {},
   "outputs": [
    {
     "data": {
      "text/plain": [
       "\"Delegation in composition refers to the process of transferring responsibility for a particular task or behavior from one object to another. It is a design pattern where a composite object (delegator) contains an instance of another object (delegate) and forwards method calls or requests to the delegate object to handle. Delegation is often used in conjunction with composition to simplify the design of complex systems by promoting modularity, encapsulation, and code reuse.\\n\\nHere's how delegation simplifies the design of complex systems:\\n\\n1. **Modularity and Encapsulation**:\\n   - Delegation promotes modularity and encapsulation by allowing objects to delegate specific tasks or behaviors to other objects. Each object focuses on a specific aspect of functionality, leading to cleaner, more modular code. This reduces the complexity of individual objects and makes the system easier to understand and maintain.\\n\\n2. **Single Responsibility Principle (SRP)**:\\n   - Delegation helps adhere to the Single Responsibility Principle (SRP) by promoting objects with a single responsibility. Each object delegates tasks or behaviors to other objects that are responsible for handling them. This separation of concerns makes the codebase more modular, maintainable, and extensible.\\n\\n3. **Code Reusability**:\\n   - Delegation promotes code reusability by allowing objects to reuse functionality provided by other objects. Instead of implementing the same behavior multiple times across different objects, delegation allows objects to delegate the responsibility to a single delegate object. This reduces redundancy and leads to more efficient code reuse.\\n\\n4. **Flexibility and Configurability**:\\n   - Delegation provides flexibility and configurability by allowing objects to dynamically change their behavior at runtime. By delegating tasks to different delegate objects, objects can adapt to changing requirements or configurations without modifying their internal implementation. This promotes flexibility and makes the system more adaptable to varying use cases.\\n\\n5. **Reduced Coupling**:\\n   - Delegation reduces coupling between objects by promoting a clear separation of responsibilities. Objects interact with each other through well-defined interfaces, reducing dependencies and making the system more modular and easier to maintain. Changes to one object are less likely to affect other objects, improving code stability and flexibility.\\n\\n6. **Encapsulation of Complexity**:\\n   - Delegation encapsulates complexity by hiding the implementation details of delegated tasks within delegate objects. This reduces the complexity of individual objects and isolates the complexity to specific components, making the overall system easier to understand and manage.\\n\\nIn summary, delegation in composition simplifies the design of complex systems by promoting modularity, encapsulation, code reuse, flexibility, reduced coupling, and encapsulation of complexity. By delegating responsibilities to specialized delegate objects, composite objects can focus on their core functionality, leading to cleaner, more maintainable, and scalable software systems.\""
      ]
     },
     "execution_count": 30,
     "metadata": {},
     "output_type": "execute_result"
    }
   ],
   "source": [
    "\"\"\"Delegation in composition refers to the process of transferring responsibility for a particular task or behavior from one object to another. It is a design pattern where a composite object (delegator) contains an instance of another object (delegate) and forwards method calls or requests to the delegate object to handle. Delegation is often used in conjunction with composition to simplify the design of complex systems by promoting modularity, encapsulation, and code reuse.\n",
    "\n",
    "Here's how delegation simplifies the design of complex systems:\n",
    "\n",
    "1. **Modularity and Encapsulation**:\n",
    "   - Delegation promotes modularity and encapsulation by allowing objects to delegate specific tasks or behaviors to other objects. Each object focuses on a specific aspect of functionality, leading to cleaner, more modular code. This reduces the complexity of individual objects and makes the system easier to understand and maintain.\n",
    "\n",
    "2. **Single Responsibility Principle (SRP)**:\n",
    "   - Delegation helps adhere to the Single Responsibility Principle (SRP) by promoting objects with a single responsibility. Each object delegates tasks or behaviors to other objects that are responsible for handling them. This separation of concerns makes the codebase more modular, maintainable, and extensible.\n",
    "\n",
    "3. **Code Reusability**:\n",
    "   - Delegation promotes code reusability by allowing objects to reuse functionality provided by other objects. Instead of implementing the same behavior multiple times across different objects, delegation allows objects to delegate the responsibility to a single delegate object. This reduces redundancy and leads to more efficient code reuse.\n",
    "\n",
    "4. **Flexibility and Configurability**:\n",
    "   - Delegation provides flexibility and configurability by allowing objects to dynamically change their behavior at runtime. By delegating tasks to different delegate objects, objects can adapt to changing requirements or configurations without modifying their internal implementation. This promotes flexibility and makes the system more adaptable to varying use cases.\n",
    "\n",
    "5. **Reduced Coupling**:\n",
    "   - Delegation reduces coupling between objects by promoting a clear separation of responsibilities. Objects interact with each other through well-defined interfaces, reducing dependencies and making the system more modular and easier to maintain. Changes to one object are less likely to affect other objects, improving code stability and flexibility.\n",
    "\n",
    "6. **Encapsulation of Complexity**:\n",
    "   - Delegation encapsulates complexity by hiding the implementation details of delegated tasks within delegate objects. This reduces the complexity of individual objects and isolates the complexity to specific components, making the overall system easier to understand and manage.\n",
    "\n",
    "In summary, delegation in composition simplifies the design of complex systems by promoting modularity, encapsulation, code reuse, flexibility, reduced coupling, and encapsulation of complexity. By delegating responsibilities to specialized delegate objects, composite objects can focus on their core functionality, leading to cleaner, more maintainable, and scalable software systems.\"\"\""
   ]
  },
  {
   "cell_type": "code",
   "execution_count": 31,
   "id": "8b2db58a-8cee-4e9f-9f40-fe41fc893371",
   "metadata": {},
   "outputs": [
    {
     "name": "stdout",
     "output_type": "stream",
     "text": [
      "Starting Toyota Camry\n",
      "Engine started\n",
      "Wheel rotating\n",
      "Wheel rotating\n",
      "Wheel rotating\n",
      "Wheel rotating\n",
      "Stopping Toyota Camry\n",
      "Engine stopped\n"
     ]
    }
   ],
   "source": [
    "class Engine:\n",
    "    def __init__(self, fuel_type, horsepower):\n",
    "        self.fuel_type = fuel_type\n",
    "        self.horsepower = horsepower\n",
    "\n",
    "    def start(self):\n",
    "        print(\"Engine started\")\n",
    "\n",
    "    def stop(self):\n",
    "        print(\"Engine stopped\")\n",
    "\n",
    "class Wheel:\n",
    "    def __init__(self, size):\n",
    "        self.size = size\n",
    "\n",
    "    def rotate(self):\n",
    "        print(\"Wheel rotating\")\n",
    "\n",
    "class Transmission:\n",
    "    def __init__(self, transmission_type):\n",
    "        self.transmission_type = transmission_type\n",
    "\n",
    "    def shift_gear(self):\n",
    "        print(\"Gear shifted\")\n",
    "\n",
    "class Car:\n",
    "    def __init__(self, make, model, engine, wheels, transmission):\n",
    "        self.make = make\n",
    "        self.model = model\n",
    "        self.engine = engine\n",
    "        self.wheels = wheels\n",
    "        self.transmission = transmission\n",
    "\n",
    "    def start(self):\n",
    "        print(f\"Starting {self.make} {self.model}\")\n",
    "        self.engine.start()\n",
    "        for wheel in self.wheels:\n",
    "            wheel.rotate()\n",
    "\n",
    "    def stop(self):\n",
    "        print(f\"Stopping {self.make} {self.model}\")\n",
    "        self.engine.stop()\n",
    "\n",
    "# Usage\n",
    "engine = Engine(\"Gasoline\", 200)\n",
    "wheels = [Wheel(17), Wheel(17), Wheel(17), Wheel(17)]\n",
    "transmission = Transmission(\"Automatic\")\n",
    "\n",
    "car = Car(\"Toyota\", \"Camry\", engine, wheels, transmission)\n",
    "car.start()\n",
    "car.stop()\n"
   ]
  },
  {
   "cell_type": "code",
   "execution_count": 32,
   "id": "c0747ac9-cf21-47ff-b232-086e2cc75f00",
   "metadata": {},
   "outputs": [
    {
     "data": {
      "text/plain": [
       "'In Python, you can encapsulate and hide the details of composed objects within a class by following some key principles and techniques:\\n\\nPrivate Attributes: Use private attributes (attributes with names starting with an underscore) to hide the internal state of composed objects. By convention, attributes starting with a single underscore are considered \"protected\" and should be accessed only within the class or its subclasses.\\n\\nProperty Methods: Define property methods to provide controlled access to private attributes. Property methods allow you to encapsulate the internal state of composed objects and expose only the necessary information to external code.\\n\\nAccessor Methods: Implement accessor methods (getter and setter methods) to retrieve and modify the state of composed objects. Accessor methods provide a level of indirection, allowing you to enforce constraints, perform validation, or apply transformations when accessing or modifying the internal state.\\n\\nFacade Pattern: Implement the facade pattern to provide a simplified interface for interacting with composed objects. The facade pattern encapsulates the complex interactions and dependencies of composed objects behind a single, higher-level interface, hiding the implementation details from clients.\\n\\nInformation Hiding: Minimize the exposure of internal details by exposing only the essential functionality required by clients. Limit the visibility of attributes and methods to ensure that clients interact with composed objects through a well-defined interface, promoting encapsulation and abstraction.'"
      ]
     },
     "execution_count": 32,
     "metadata": {},
     "output_type": "execute_result"
    }
   ],
   "source": [
    "\"\"\"In Python, you can encapsulate and hide the details of composed objects within a class by following some key principles and techniques:\n",
    "\n",
    "Private Attributes: Use private attributes (attributes with names starting with an underscore) to hide the internal state of composed objects. By convention, attributes starting with a single underscore are considered \"protected\" and should be accessed only within the class or its subclasses.\n",
    "\n",
    "Property Methods: Define property methods to provide controlled access to private attributes. Property methods allow you to encapsulate the internal state of composed objects and expose only the necessary information to external code.\n",
    "\n",
    "Accessor Methods: Implement accessor methods (getter and setter methods) to retrieve and modify the state of composed objects. Accessor methods provide a level of indirection, allowing you to enforce constraints, perform validation, or apply transformations when accessing or modifying the internal state.\n",
    "\n",
    "Facade Pattern: Implement the facade pattern to provide a simplified interface for interacting with composed objects. The facade pattern encapsulates the complex interactions and dependencies of composed objects behind a single, higher-level interface, hiding the implementation details from clients.\n",
    "\n",
    "Information Hiding: Minimize the exposure of internal details by exposing only the essential functionality required by clients. Limit the visibility of attributes and methods to ensure that clients interact with composed objects through a well-defined interface, promoting encapsulation and abstraction.\"\"\""
   ]
  },
  {
   "cell_type": "code",
   "execution_count": 33,
   "id": "47804d68-2adb-499e-9ebd-0a9b6bd762ed",
   "metadata": {},
   "outputs": [
    {
     "name": "stdout",
     "output_type": "stream",
     "text": [
      "Course Code: CS101\n",
      "Course Name: Introduction to Programming\n",
      "Instructor: Instructor: Dr. Smith (ID: I001)\n",
      "Students:\n",
      "- Student: Alice (ID: S001)\n",
      "- Student: Bob (ID: S002)\n",
      "Course Materials:\n",
      "- Lecture Notes\n",
      "- Assignment 1\n"
     ]
    }
   ],
   "source": [
    "class Student:\n",
    "    def __init__(self, name, student_id):\n",
    "        self.name = name\n",
    "        self.student_id = student_id\n",
    "\n",
    "    def __str__(self):\n",
    "        return f\"Student: {self.name} (ID: {self.student_id})\"\n",
    "\n",
    "class Instructor:\n",
    "    def __init__(self, name, instructor_id):\n",
    "        self.name = name\n",
    "        self.instructor_id = instructor_id\n",
    "\n",
    "    def __str__(self):\n",
    "        return f\"Instructor: {self.name} (ID: {self.instructor_id})\"\n",
    "\n",
    "class CourseMaterial:\n",
    "    def __init__(self, title, content):\n",
    "        self.title = title\n",
    "        self.content = content\n",
    "\n",
    "class UniversityCourse:\n",
    "    def __init__(self, course_code, course_name, instructor, students, course_materials):\n",
    "        self.course_code = course_code\n",
    "        self.course_name = course_name\n",
    "        self.instructor = instructor\n",
    "        self.students = students\n",
    "        self.course_materials = course_materials\n",
    "\n",
    "    def display_course_info(self):\n",
    "        print(f\"Course Code: {self.course_code}\")\n",
    "        print(f\"Course Name: {self.course_name}\")\n",
    "        print(\"Instructor:\", self.instructor)\n",
    "        print(\"Students:\")\n",
    "        for student in self.students:\n",
    "            print(\"-\", student)\n",
    "        print(\"Course Materials:\")\n",
    "        for material in self.course_materials:\n",
    "            print(\"-\", material.title)\n",
    "\n",
    "# Usage\n",
    "student1 = Student(\"Alice\", \"S001\")\n",
    "student2 = Student(\"Bob\", \"S002\")\n",
    "\n",
    "instructor = Instructor(\"Dr. Smith\", \"I001\")\n",
    "\n",
    "course_material1 = CourseMaterial(\"Lecture Notes\", \"Introduction to Python Programming\")\n",
    "course_material2 = CourseMaterial(\"Assignment 1\", \"Python Programming Exercises\")\n",
    "\n",
    "students = [student1, student2]\n",
    "course_materials = [course_material1, course_material2]\n",
    "\n",
    "course = UniversityCourse(\"CS101\", \"Introduction to Programming\", instructor, students, course_materials)\n",
    "course.display_course_info()"
   ]
  },
  {
   "cell_type": "code",
   "execution_count": 34,
   "id": "8f8d8c18-6ae5-4c1f-bb53-f34608e584aa",
   "metadata": {},
   "outputs": [
    {
     "data": {
      "text/plain": [
       "'While composition is a powerful design pattern, it also comes with its own set of challenges and drawbacks:\\n\\nIncreased Complexity:\\n\\nComposition can lead to increased complexity, especially in systems with deep object hierarchies or complex relationships between objects. Managing the interactions and dependencies between composed objects can become challenging, making the system harder to understand, debug, and maintain.\\nPotential for Tight Coupling:\\n\\nComposition can result in tight coupling between objects, especially if objects are highly interdependent or if the composition hierarchy is rigidly defined. Tight coupling makes it difficult to modify or extend the system without affecting other components, leading to reduced flexibility and scalability.\\nInheritance vs. Composition Dilemma:\\n\\nChoosing between inheritance and composition can be challenging, as both approaches have their own trade-offs. While composition offers more flexibility and modularity, it requires explicit management of object relationships, which can increase complexity. Inheritance, on the other hand, provides a hierarchical structure that simplifies object reuse but can lead to a rigid class hierarchy and the fragile base class problem.\\nObject Initialization Overhead:\\n\\nIn systems with deep object hierarchies or complex compositions, initializing objects and managing their dependencies can become computationally expensive. Object initialization overhead can impact system performance, especially in resource-constrained environments or real-time systems.\\nMaintenance and Debugging Complexity:\\n\\nAs the complexity of a composed system increases, so does the difficulty of maintaining and debugging the codebase. Identifying and resolving issues, such as circular dependencies, memory leaks, or inconsistent object states, becomes more challenging, requiring extensive testing and validation procedures.'"
      ]
     },
     "execution_count": 34,
     "metadata": {},
     "output_type": "execute_result"
    }
   ],
   "source": [
    "\"\"\"While composition is a powerful design pattern, it also comes with its own set of challenges and drawbacks:\n",
    "\n",
    "Increased Complexity:\n",
    "\n",
    "Composition can lead to increased complexity, especially in systems with deep object hierarchies or complex relationships between objects. Managing the interactions and dependencies between composed objects can become challenging, making the system harder to understand, debug, and maintain.\n",
    "Potential for Tight Coupling:\n",
    "\n",
    "Composition can result in tight coupling between objects, especially if objects are highly interdependent or if the composition hierarchy is rigidly defined. Tight coupling makes it difficult to modify or extend the system without affecting other components, leading to reduced flexibility and scalability.\n",
    "Inheritance vs. Composition Dilemma:\n",
    "\n",
    "Choosing between inheritance and composition can be challenging, as both approaches have their own trade-offs. While composition offers more flexibility and modularity, it requires explicit management of object relationships, which can increase complexity. Inheritance, on the other hand, provides a hierarchical structure that simplifies object reuse but can lead to a rigid class hierarchy and the fragile base class problem.\n",
    "Object Initialization Overhead:\n",
    "\n",
    "In systems with deep object hierarchies or complex compositions, initializing objects and managing their dependencies can become computationally expensive. Object initialization overhead can impact system performance, especially in resource-constrained environments or real-time systems.\n",
    "Maintenance and Debugging Complexity:\n",
    "\n",
    "As the complexity of a composed system increases, so does the difficulty of maintaining and debugging the codebase. Identifying and resolving issues, such as circular dependencies, memory leaks, or inconsistent object states, becomes more challenging, requiring extensive testing and validation procedures.\"\"\""
   ]
  },
  {
   "cell_type": "code",
   "execution_count": 35,
   "id": "4a5bd397-a207-4584-8b15-0d0fdea70ffd",
   "metadata": {},
   "outputs": [
    {
     "name": "stdout",
     "output_type": "stream",
     "text": [
      "Menu: Main Menu\n",
      "Dishes:\n",
      "Dish: Chicken Curry\n",
      "Description: A delicious curry with chicken\n",
      "Ingredients:\n",
      "- 200 g of Chicken\n",
      "- 100 g of Rice\n",
      "\n",
      "Dish: Grilled Salmon\n",
      "Description: Grilled salmon served with lemon\n",
      "Ingredients:\n",
      "- 200 g of Chicken\n",
      "\n",
      "Dish: Vegetable Stir Fry\n",
      "Description: Assorted vegetables stir-fried with sauce\n",
      "Ingredients:\n",
      "- 50 g of Broccoli\n",
      "- 100 g of Rice\n",
      "\n"
     ]
    }
   ],
   "source": [
    "class Ingredient:\n",
    "    def __init__(self, name, quantity, unit):\n",
    "        self.name = name\n",
    "        self.quantity = quantity\n",
    "        self.unit = unit\n",
    "\n",
    "    def __str__(self):\n",
    "        return f\"{self.quantity} {self.unit} of {self.name}\"\n",
    "\n",
    "class Dish:\n",
    "    def __init__(self, name, description, ingredients):\n",
    "        self.name = name\n",
    "        self.description = description\n",
    "        self.ingredients = ingredients\n",
    "\n",
    "    def display(self):\n",
    "        print(f\"Dish: {self.name}\")\n",
    "        print(f\"Description: {self.description}\")\n",
    "        print(\"Ingredients:\")\n",
    "        for ingredient in self.ingredients:\n",
    "            print(\"-\", ingredient)\n",
    "\n",
    "class Menu:\n",
    "    def __init__(self, name, dishes):\n",
    "        self.name = name\n",
    "        self.dishes = dishes\n",
    "\n",
    "    def display(self):\n",
    "        print(f\"Menu: {self.name}\")\n",
    "        print(\"Dishes:\")\n",
    "        for dish in self.dishes:\n",
    "            dish.display()\n",
    "            print()\n",
    "\n",
    "# Example usage\n",
    "ingredient1 = Ingredient(\"Chicken\", 200, \"g\")\n",
    "ingredient2 = Ingredient(\"Rice\", 100, \"g\")\n",
    "ingredient3 = Ingredient(\"Broccoli\", 50, \"g\")\n",
    "\n",
    "dish1 = Dish(\"Chicken Curry\", \"A delicious curry with chicken\", [ingredient1, ingredient2])\n",
    "dish2 = Dish(\"Grilled Salmon\", \"Grilled salmon served with lemon\", [ingredient1])\n",
    "dish3 = Dish(\"Vegetable Stir Fry\", \"Assorted vegetables stir-fried with sauce\", [ingredient3, ingredient2])\n",
    "\n",
    "menu = Menu(\"Main Menu\", [dish1, dish2, dish3])\n",
    "menu.display()\n"
   ]
  },
  {
   "cell_type": "code",
   "execution_count": 36,
   "id": "1e169135-3f81-4296-b1b6-247f10879a1c",
   "metadata": {},
   "outputs": [
    {
     "data": {
      "text/plain": [
       "'Composition enhances code maintainability and modularity in Python programs by promoting the following principles:\\n\\n1. **Encapsulation**:\\n   - Composition allows you to encapsulate complex functionality within individual objects. Each component focuses on a specific aspect of functionality, hiding its internal details from other parts of the system. This encapsulation makes it easier to understand, maintain, and modify individual components without affecting the entire system.\\n\\n2. **Modularity**:\\n   - Composition promotes modularity by breaking down complex systems into smaller, more manageable components. Each component performs a specific task or represents a coherent concept, making it easier to reason about and maintain the codebase. Modularity enables developers to work on different parts of the system independently, facilitating collaboration and reducing development time.\\n\\n3. **Code Reusability**:\\n   - Composition encourages code reusability by allowing components to be reused across multiple parts of the system. Components encapsulate specific functionalities or behaviors, which can be leveraged in different contexts without duplicating code. This reduces redundancy, promotes consistency, and accelerates development by building upon existing, tested components.\\n\\n4. **Flexibility and Configurability**:\\n   - Composition provides flexibility and configurability by allowing you to combine and configure components in various ways to meet different requirements or use cases. Components can be composed dynamically at runtime, enabling you to adapt the system to changing needs without modifying its core logic. This flexibility promotes scalability and future-proofing of the codebase.\\n\\n5. **Reduced Coupling**:\\n   - Composition reduces coupling between components by promoting a clear separation of concerns. Components interact with each other through well-defined interfaces, limiting the dependencies between them. This loose coupling makes the codebase more modular, easier to maintain, and less prone to cascading changes when modifications are made to individual components.\\n\\n6. **Abstraction**:\\n   - Composition encourages the use of abstraction to define interfaces and contracts between components. Abstraction hides the implementation details of individual components, allowing you to focus on the higher-level functionality provided by composed objects. This abstraction level makes the codebase more resilient to changes in implementation details and promotes code maintainability.\\n\\n7. **Testing and Debugging**:\\n   - Composition facilitates testing and debugging by enabling you to isolate and test individual components in isolation. Components can be easily mocked or stubbed during testing, allowing you to verify their behavior independently of other components. This modular testing approach enhances code quality, reduces the risk of regressions, and accelerates the debugging process.\\n\\nOverall, composition enhances code maintainability and modularity in Python programs by promoting encapsulation, modularity, code reusability, flexibility, reduced coupling, abstraction, and improved testing and debugging practices. By leveraging composition effectively, developers can create more modular, maintainable, and scalable software systems that can evolve over time to meet changing requirements.'"
      ]
     },
     "execution_count": 36,
     "metadata": {},
     "output_type": "execute_result"
    }
   ],
   "source": [
    "\"\"\"Composition enhances code maintainability and modularity in Python programs by promoting the following principles:\n",
    "\n",
    "1. **Encapsulation**:\n",
    "   - Composition allows you to encapsulate complex functionality within individual objects. Each component focuses on a specific aspect of functionality, hiding its internal details from other parts of the system. This encapsulation makes it easier to understand, maintain, and modify individual components without affecting the entire system.\n",
    "\n",
    "2. **Modularity**:\n",
    "   - Composition promotes modularity by breaking down complex systems into smaller, more manageable components. Each component performs a specific task or represents a coherent concept, making it easier to reason about and maintain the codebase. Modularity enables developers to work on different parts of the system independently, facilitating collaboration and reducing development time.\n",
    "\n",
    "3. **Code Reusability**:\n",
    "   - Composition encourages code reusability by allowing components to be reused across multiple parts of the system. Components encapsulate specific functionalities or behaviors, which can be leveraged in different contexts without duplicating code. This reduces redundancy, promotes consistency, and accelerates development by building upon existing, tested components.\n",
    "\n",
    "4. **Flexibility and Configurability**:\n",
    "   - Composition provides flexibility and configurability by allowing you to combine and configure components in various ways to meet different requirements or use cases. Components can be composed dynamically at runtime, enabling you to adapt the system to changing needs without modifying its core logic. This flexibility promotes scalability and future-proofing of the codebase.\n",
    "\n",
    "5. **Reduced Coupling**:\n",
    "   - Composition reduces coupling between components by promoting a clear separation of concerns. Components interact with each other through well-defined interfaces, limiting the dependencies between them. This loose coupling makes the codebase more modular, easier to maintain, and less prone to cascading changes when modifications are made to individual components.\n",
    "\n",
    "6. **Abstraction**:\n",
    "   - Composition encourages the use of abstraction to define interfaces and contracts between components. Abstraction hides the implementation details of individual components, allowing you to focus on the higher-level functionality provided by composed objects. This abstraction level makes the codebase more resilient to changes in implementation details and promotes code maintainability.\n",
    "\n",
    "7. **Testing and Debugging**:\n",
    "   - Composition facilitates testing and debugging by enabling you to isolate and test individual components in isolation. Components can be easily mocked or stubbed during testing, allowing you to verify their behavior independently of other components. This modular testing approach enhances code quality, reduces the risk of regressions, and accelerates the debugging process.\n",
    "\n",
    "Overall, composition enhances code maintainability and modularity in Python programs by promoting encapsulation, modularity, code reusability, flexibility, reduced coupling, abstraction, and improved testing and debugging practices. By leveraging composition effectively, developers can create more modular, maintainable, and scalable software systems that can evolve over time to meet changing requirements.\"\"\""
   ]
  },
  {
   "cell_type": "code",
   "execution_count": 37,
   "id": "e6eb551f-2eff-4ce6-acee-b711cb76a3a1",
   "metadata": {},
   "outputs": [
    {
     "name": "stdout",
     "output_type": "stream",
     "text": [
      "Character: Hero\n",
      "Equipped Weapon: Weapon: Sword (Damage: 10)\n",
      "Equipped Armor: Armor: Shield (Defense: 5)\n",
      "Inventory:\n",
      "- Health Potion\n",
      "- Mana Potion\n"
     ]
    }
   ],
   "source": [
    "class Weapon:\n",
    "    def __init__(self, name, damage):\n",
    "        self.name = name\n",
    "        self.damage = damage\n",
    "\n",
    "    def __str__(self):\n",
    "        return f\"Weapon: {self.name} (Damage: {self.damage})\"\n",
    "\n",
    "class Armor:\n",
    "    def __init__(self, name, defense):\n",
    "        self.name = name\n",
    "        self.defense = defense\n",
    "\n",
    "    def __str__(self):\n",
    "        return f\"Armor: {self.name} (Defense: {self.defense})\"\n",
    "\n",
    "class Inventory:\n",
    "    def __init__(self):\n",
    "        self.items = []\n",
    "\n",
    "    def add_item(self, item):\n",
    "        self.items.append(item)\n",
    "\n",
    "    def display(self):\n",
    "        print(\"Inventory:\")\n",
    "        for item in self.items:\n",
    "            print(\"-\", item)\n",
    "\n",
    "class Character:\n",
    "    def __init__(self, name):\n",
    "        self.name = name\n",
    "        self.weapon = None\n",
    "        self.armor = None\n",
    "        self.inventory = Inventory()\n",
    "\n",
    "    def equip_weapon(self, weapon):\n",
    "        self.weapon = weapon\n",
    "\n",
    "    def equip_armor(self, armor):\n",
    "        self.armor = armor\n",
    "\n",
    "    def display_status(self):\n",
    "        print(f\"Character: {self.name}\")\n",
    "        if self.weapon:\n",
    "            print(\"Equipped Weapon:\", self.weapon)\n",
    "        if self.armor:\n",
    "            print(\"Equipped Armor:\", self.armor)\n",
    "        self.inventory.display()\n",
    "\n",
    "# Example usage\n",
    "sword = Weapon(\"Sword\", 10)\n",
    "shield = Armor(\"Shield\", 5)\n",
    "\n",
    "character = Character(\"Hero\")\n",
    "character.equip_weapon(sword)\n",
    "character.equip_armor(shield)\n",
    "character.inventory.add_item(\"Health Potion\")\n",
    "character.inventory.add_item(\"Mana Potion\")\n",
    "\n",
    "character.display_status()\n"
   ]
  },
  {
   "cell_type": "code",
   "execution_count": 38,
   "id": "72da484e-6aac-4c2e-a2bc-47f0ec5a301e",
   "metadata": {},
   "outputs": [
    {
     "data": {
      "text/plain": [
       "'In the context of object-oriented programming, \"aggregation\" is a type of association between objects where one object (the whole or container) contains references to other objects (parts or components) as its members. Aggregation is a form of composition but with a weaker relationship between the container and its components compared to simple composition.\\n\\nHere\\'s how aggregation differs from simple composition:\\n\\n1. **Relationship Strength**:\\n   - In simple composition, the lifetime of the contained objects is tightly bound to the lifetime of the container object. This means that when the container object is destroyed, its components are also destroyed.\\n   - In aggregation, the lifetime of the contained objects is not necessarily dependent on the lifetime of the container object. The contained objects may exist independently of the container and may be shared among multiple containers.\\n\\n2. **Ownership**:\\n   - In simple composition, the container object owns its components, meaning it is responsible for creating, managing, and destroying them.\\n   - In aggregation, the container object does not necessarily own its components. It may hold references to existing objects that are managed elsewhere, such as objects created independently or shared among multiple containers.\\n\\n3. **Multiplicity**:\\n   - Simple composition implies a one-to-one or one-to-many relationship between the container and its components, where each component belongs exclusively to one container.\\n   - Aggregation allows for more flexible multiplicity, including one-to-one, one-to-many, or many-to-many relationships between the container and its components. Components may be shared among multiple containers, or a container may contain multiple instances of the same component.\\n\\n4. **Navigation**:\\n   - In simple composition, the container object directly controls the creation, access, and destruction of its components.\\n   - In aggregation, the container object typically holds references to its components but may delegate certain operations or interactions to the components themselves or external systems.\\n\\n5. **Semantic Meaning**:\\n   - Aggregation often implies a \"has-a\" relationship, where the container object logically contains its components but does not necessarily own them. For example, a university \"has\" students and courses, but these entities exist independently of the university.\\n   - Simple composition implies a stronger \"part-of\" relationship, where the components are integral parts of the container and cannot exist independently.\\n\\nIn summary, aggregation in composition represents a looser, more flexible relationship between the container and its components compared to simple composition. It allows for shared ownership, multiplicity, and independence of the contained objects, providing greater flexibility in modeling complex systems.'"
      ]
     },
     "execution_count": 38,
     "metadata": {},
     "output_type": "execute_result"
    }
   ],
   "source": [
    "\"\"\"In the context of object-oriented programming, \"aggregation\" is a type of association between objects where one object (the whole or container) contains references to other objects (parts or components) as its members. Aggregation is a form of composition but with a weaker relationship between the container and its components compared to simple composition.\n",
    "\n",
    "Here's how aggregation differs from simple composition:\n",
    "\n",
    "1. **Relationship Strength**:\n",
    "   - In simple composition, the lifetime of the contained objects is tightly bound to the lifetime of the container object. This means that when the container object is destroyed, its components are also destroyed.\n",
    "   - In aggregation, the lifetime of the contained objects is not necessarily dependent on the lifetime of the container object. The contained objects may exist independently of the container and may be shared among multiple containers.\n",
    "\n",
    "2. **Ownership**:\n",
    "   - In simple composition, the container object owns its components, meaning it is responsible for creating, managing, and destroying them.\n",
    "   - In aggregation, the container object does not necessarily own its components. It may hold references to existing objects that are managed elsewhere, such as objects created independently or shared among multiple containers.\n",
    "\n",
    "3. **Multiplicity**:\n",
    "   - Simple composition implies a one-to-one or one-to-many relationship between the container and its components, where each component belongs exclusively to one container.\n",
    "   - Aggregation allows for more flexible multiplicity, including one-to-one, one-to-many, or many-to-many relationships between the container and its components. Components may be shared among multiple containers, or a container may contain multiple instances of the same component.\n",
    "\n",
    "4. **Navigation**:\n",
    "   - In simple composition, the container object directly controls the creation, access, and destruction of its components.\n",
    "   - In aggregation, the container object typically holds references to its components but may delegate certain operations or interactions to the components themselves or external systems.\n",
    "\n",
    "5. **Semantic Meaning**:\n",
    "   - Aggregation often implies a \"has-a\" relationship, where the container object logically contains its components but does not necessarily own them. For example, a university \"has\" students and courses, but these entities exist independently of the university.\n",
    "   - Simple composition implies a stronger \"part-of\" relationship, where the components are integral parts of the container and cannot exist independently.\n",
    "\n",
    "In summary, aggregation in composition represents a looser, more flexible relationship between the container and its components compared to simple composition. It allows for shared ownership, multiplicity, and independence of the contained objects, providing greater flexibility in modeling complex systems.\"\"\""
   ]
  },
  {
   "cell_type": "code",
   "execution_count": null,
   "id": "f0a89f60-c76c-48b6-85b0-02589db15339",
   "metadata": {},
   "outputs": [],
   "source": []
  }
 ],
 "metadata": {
  "kernelspec": {
   "display_name": "Python 3 (ipykernel)",
   "language": "python",
   "name": "python3"
  },
  "language_info": {
   "codemirror_mode": {
    "name": "ipython",
    "version": 3
   },
   "file_extension": ".py",
   "mimetype": "text/x-python",
   "name": "python",
   "nbconvert_exporter": "python",
   "pygments_lexer": "ipython3",
   "version": "3.10.8"
  }
 },
 "nbformat": 4,
 "nbformat_minor": 5
}
